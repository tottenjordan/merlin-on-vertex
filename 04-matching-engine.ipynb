{
 "cells": [
  {
   "cell_type": "markdown",
   "id": "b92fb1d2-f70f-46b7-b363-76b62a3dc634",
   "metadata": {},
   "source": [
    "# Create Matching Engine serving index"
   ]
  },
  {
   "cell_type": "markdown",
   "id": "b162de11-ccea-4eb8-94b7-de139b391da8",
   "metadata": {},
   "source": [
    "**TODO:**\n",
    "* add section headers and instructions\n",
    "* organize workflow"
   ]
  },
  {
   "cell_type": "code",
   "execution_count": 1,
   "id": "1a8047ed-13e0-496b-a73d-283cc0ec3426",
   "metadata": {},
   "outputs": [
    {
     "name": "stdout",
     "output_type": "stream",
     "text": [
      "PROJECT_ID: hybrid-vertex\n",
      "PROJECT_NUM: 934903580331\n",
      "LOCATION: us-central1\n"
     ]
    }
   ],
   "source": [
    "GCP_PROJECTS = !gcloud config get-value project\n",
    "PROJECT_ID = GCP_PROJECTS[0]\n",
    "PROJECT_NUM = !gcloud projects list --filter=\"$PROJECT_ID\" --format=\"value(PROJECT_NUMBER)\"\n",
    "PROJECT_NUM = PROJECT_NUM[0]\n",
    "LOCATION = 'us-central1'\n",
    "\n",
    "print(f\"PROJECT_ID: {PROJECT_ID}\")\n",
    "print(f\"PROJECT_NUM: {PROJECT_NUM}\")\n",
    "print(f\"LOCATION: {LOCATION}\")"
   ]
  },
  {
   "cell_type": "code",
   "execution_count": 2,
   "id": "d1732d82-46fd-47df-b989-a73f3967da40",
   "metadata": {},
   "outputs": [
    {
     "name": "stdout",
     "output_type": "stream",
     "text": [
      "BUCKET_URI: gs://jt-merlin-scaling\n",
      "EXPERIMENT_NAME: test-e2e-pipe-v10\n",
      "EXPERIMENT_RUN_NAME: run-20230308-171530\n",
      "RUN_DIR_GCS_PATH: gs://jt-merlin-scaling/test-e2e-pipe-v10/run-20230308-171530\n"
     ]
    }
   ],
   "source": [
    "# gs://jt-merlin-scaling/test-e2e-pipe-v10/run-20230308-171530/model_dir\n",
    "\n",
    "BUCKET = 'jt-merlin-scaling'\n",
    "BUCKET_URI = f'gs://{BUCKET}'\n",
    "EXPERIMENT_NAME = 'test-e2e-pipe-v10'\n",
    "EXPERIMENT_RUN_NAME ='run-20230308-171530'\n",
    "\n",
    "RUN_DIR_PATH = f'{EXPERIMENT_NAME}/{EXPERIMENT_RUN_NAME}'\n",
    "RUN_DIR_GCS_PATH = f'{BUCKET_URI}/{RUN_DIR_PATH}'\n",
    "\n",
    "VERSION = 'jtv1'\n",
    "\n",
    "print(f\"BUCKET_URI: {BUCKET_URI}\")\n",
    "print(f\"EXPERIMENT_NAME: {EXPERIMENT_NAME}\")\n",
    "print(f\"EXPERIMENT_RUN_NAME: {EXPERIMENT_RUN_NAME}\")\n",
    "print(f\"RUN_DIR_GCS_PATH: {RUN_DIR_GCS_PATH}\")"
   ]
  },
  {
   "cell_type": "code",
   "execution_count": 3,
   "id": "db14f3fe-e367-439c-9d72-56d9f8cad1f4",
   "metadata": {},
   "outputs": [],
   "source": [
    "import os\n",
    "import sys\n",
    "from google.cloud import aiplatform as vertex_ai\n",
    "\n",
    "vertex_ai.init(project=PROJECT_ID, location=LOCATION)"
   ]
  },
  {
   "cell_type": "code",
   "execution_count": 8,
   "id": "833814d1-b16c-4191-91e5-164311c2709b",
   "metadata": {},
   "outputs": [
    {
     "name": "stdout",
     "output_type": "stream",
     "text": [
      "aiplatform SDK version: 1.23.0\n"
     ]
    }
   ],
   "source": [
    "! python3 -c \"import google.cloud.aiplatform; print('aiplatform SDK version: {}'.format(google.cloud.aiplatform.__version__))\""
   ]
  },
  {
   "cell_type": "code",
   "execution_count": 6,
   "id": "b8683414-1412-4953-994a-272176fc2e70",
   "metadata": {},
   "outputs": [
    {
     "name": "stdout",
     "output_type": "stream",
     "text": [
      "gs://jt-merlin-scaling/test-e2e-pipe-v10/run-20230308-171530/model_dir/candidate_embeddings/candidate_embeddings.json\n"
     ]
    }
   ],
   "source": [
    "! gsutil ls $RUN_DIR_GCS_PATH/model_dir/candidate_embeddings"
   ]
  },
  {
   "cell_type": "code",
   "execution_count": 7,
   "id": "6976acd3-a5ca-472e-99c7-4a8bb5ba43a5",
   "metadata": {},
   "outputs": [
    {
     "name": "stdout",
     "output_type": "stream",
     "text": [
      "EMBEDDINGS_INITIAL_URI: gs://jt-merlin-scaling/test-e2e-pipe-v10/run-20230308-171530/model_dir/candidate_embeddings/\n"
     ]
    }
   ],
   "source": [
    "EMBEDDINGS_INITIAL_URI = f'{RUN_DIR_GCS_PATH}/model_dir/candidate_embeddings/'\n",
    "\n",
    "print(f\"EMBEDDINGS_INITIAL_URI: {EMBEDDINGS_INITIAL_URI}\")"
   ]
  },
  {
   "cell_type": "markdown",
   "id": "c3f1c9b5-47eb-44ea-b321-754f4d0ba1b7",
   "metadata": {},
   "source": [
    "## create ANN & Brute Force Indexes"
   ]
  },
  {
   "cell_type": "code",
   "execution_count": 9,
   "id": "7b9643c9-6175-4d8b-9e3b-0be74c686294",
   "metadata": {},
   "outputs": [],
   "source": [
    "# ANN index config\n",
    "APPROX_NEIGHBORS=50\n",
    "DISTANCE_MEASURE=\"DOT_PRODUCT_DISTANCE\"\n",
    "LEAF_NODE_EMB_COUNT=500\n",
    "LEAF_NODES_SEARCH_PERCENT=7\n",
    "DIMENSIONS = 128 # must match output dimensions\n",
    "\n",
    "DATA_REGIME='full-65m'\n",
    "\n",
    "ANN_DISPLAY_NAME = f\"merlin_{DIMENSIONS}dim_{VERSION}\"\n",
    "BF_DISPLAY_NAME=f\"{ANN_DISPLAY_NAME}_bf\""
   ]
  },
  {
   "cell_type": "code",
   "execution_count": 12,
   "id": "6fb229bd-651e-42c6-837b-62d02e4c3aa9",
   "metadata": {},
   "outputs": [
    {
     "name": "stdout",
     "output_type": "stream",
     "text": [
      "Creating MatchingEngineIndex\n",
      "Create MatchingEngineIndex backing LRO: projects/934903580331/locations/us-central1/indexes/8417482790253101056/operations/6046357171493404672\n"
     ]
    }
   ],
   "source": [
    "tree_ah_index = vertex_ai.MatchingEngineIndex.create_tree_ah_index(\n",
    "    display_name=ANN_DISPLAY_NAME,\n",
    "    contents_delta_uri=EMBEDDINGS_INITIAL_URI,\n",
    "    dimensions=DIMENSIONS,\n",
    "    approximate_neighbors_count=APPROX_NEIGHBORS,\n",
    "    distance_measure_type=DISTANCE_MEASURE,\n",
    "    leaf_node_embedding_count=LEAF_NODE_EMB_COUNT,\n",
    "    leaf_nodes_to_search_percent=LEAF_NODES_SEARCH_PERCENT,\n",
    "    description=\"merlin index - local\",\n",
    "    sync=False,\n",
    "    labels={\n",
    "        \"experiment_name\": f'{EXPERIMENT_NAME}',\n",
    "        \"experiment_run\": f'{EXPERIMENT_RUN_NAME}',\n",
    "        \"data_regime\": f'{DATA_REGIME}',\n",
    "    },\n",
    ")"
   ]
  },
  {
   "cell_type": "code",
   "execution_count": 13,
   "id": "7cb31fa0-335f-42a4-83c7-2aa83c2da222",
   "metadata": {},
   "outputs": [
    {
     "name": "stdout",
     "output_type": "stream",
     "text": [
      "Creating MatchingEngineIndex\n",
      "Create MatchingEngineIndex backing LRO: projects/934903580331/locations/us-central1/indexes/1905277729075363840/operations/6048608971307089920\n",
      "MatchingEngineIndex created. Resource name: projects/934903580331/locations/us-central1/indexes/1905277729075363840\n",
      "To use this MatchingEngineIndex in another session:\n",
      "index = aiplatform.MatchingEngineIndex('projects/934903580331/locations/us-central1/indexes/1905277729075363840')\n",
      "MatchingEngineIndex created. Resource name: projects/934903580331/locations/us-central1/indexes/8417482790253101056\n",
      "To use this MatchingEngineIndex in another session:\n",
      "index = aiplatform.MatchingEngineIndex('projects/934903580331/locations/us-central1/indexes/8417482790253101056')\n"
     ]
    }
   ],
   "source": [
    "brute_force_index = vertex_ai.MatchingEngineIndex.create_brute_force_index(\n",
    "    display_name=BF_DISPLAY_NAME,\n",
    "    contents_delta_uri=EMBEDDINGS_INITIAL_URI,\n",
    "    dimensions=DIMENSIONS,\n",
    "    distance_measure_type=DISTANCE_MEASURE,\n",
    "    sync=False,\n",
    "    labels={\n",
    "        \"experiment_name\": f'{EXPERIMENT_NAME}',\n",
    "        \"experiment_run\": f'{EXPERIMENT_RUN_NAME}',\n",
    "        \"data_regime\": f'{DATA_REGIME}',\n",
    "    },\n",
    ")"
   ]
  },
  {
   "cell_type": "markdown",
   "id": "437fb5e6-812e-4b32-b32a-03c3f9fc7738",
   "metadata": {},
   "source": [
    "## Create Matching Engine endpoint(s)\n",
    "* both the ANN and brute force indices can be deployed to a single endpoint\n",
    "* alternatively, we can create seperate endpoints, one for each index\n",
    "\n",
    "### index endpoint config:"
   ]
  },
  {
   "cell_type": "code",
   "execution_count": 14,
   "id": "84e79cfb-3661-4327-9cbf-0f8276838cc8",
   "metadata": {},
   "outputs": [
    {
     "name": "stdout",
     "output_type": "stream",
     "text": [
      "VPC_NETWORK_FULL: projects/934903580331/global/networks/ucaip-haystack-vpc-network\n",
      "ANN_ENDPOINT_DISPLAY_NAME: merlin_128dim_jtv1_endpoint\n",
      "BF_ENDPOINT_DISPLAY_NAME: merlin_128dim_jtv1_bf_endpoint\n"
     ]
    }
   ],
   "source": [
    "VPC_NETWORK = \"ucaip-haystack-vpc-network\" # TODO: update this\n",
    "\n",
    "VPC_NETWORK_FULL = f\"projects/{PROJECT_NUM}/global/networks/{VPC_NETWORK}\"\n",
    "\n",
    "ANN_ENDPOINT_DISPLAY_NAME = f'{ANN_DISPLAY_NAME}_endpoint'\n",
    "\n",
    "BF_ENDPOINT_DISPLAY_NAME = f'{BF_DISPLAY_NAME}_endpoint'\n",
    "\n",
    "print(f\"VPC_NETWORK_FULL: {VPC_NETWORK_FULL}\")\n",
    "print(f\"ANN_ENDPOINT_DISPLAY_NAME: {ANN_ENDPOINT_DISPLAY_NAME}\")\n",
    "print(f\"BF_ENDPOINT_DISPLAY_NAME: {BF_ENDPOINT_DISPLAY_NAME}\")"
   ]
  },
  {
   "cell_type": "code",
   "execution_count": 15,
   "id": "7290bf2d-3832-4b0d-8dd9-70bf9ba337d2",
   "metadata": {},
   "outputs": [
    {
     "name": "stdout",
     "output_type": "stream",
     "text": [
      "Creating MatchingEngineIndexEndpoint\n",
      "Create MatchingEngineIndexEndpoint backing LRO: projects/934903580331/locations/us-central1/indexEndpoints/8956225895677296640/operations/1414967904696270848\n"
     ]
    }
   ],
   "source": [
    "my_ann_index_endpoint = vertex_ai.MatchingEngineIndexEndpoint.create(\n",
    "    display_name=f'{ANN_ENDPOINT_DISPLAY_NAME}',\n",
    "    description=\"index endpoint for ANN index\",\n",
    "    network=VPC_NETWORK_FULL,\n",
    "    sync=False,\n",
    ")\n",
    "\n",
    "# to use existing\n",
    "# my_ann_index_endpoint = aiplatform.MatchingEngineIndexEndpoint('projects/934903580331/locations/us-central1/indexEndpoints/8097410557360996352')"
   ]
  },
  {
   "cell_type": "code",
   "execution_count": 16,
   "id": "ad460ce6-566a-4703-87db-c38891f1103d",
   "metadata": {},
   "outputs": [
    {
     "name": "stdout",
     "output_type": "stream",
     "text": [
      "Creating MatchingEngineIndexEndpoint\n",
      "Create MatchingEngineIndexEndpoint backing LRO: projects/934903580331/locations/us-central1/indexEndpoints/6149357427918635008/operations/5549272362622386176\n",
      "MatchingEngineIndexEndpoint created. Resource name: projects/934903580331/locations/us-central1/indexEndpoints/6149357427918635008\n",
      "To use this MatchingEngineIndexEndpoint in another session:\n",
      "index_endpoint = aiplatform.MatchingEngineIndexEndpoint('projects/934903580331/locations/us-central1/indexEndpoints/6149357427918635008')\n",
      "MatchingEngineIndexEndpoint created. Resource name: projects/934903580331/locations/us-central1/indexEndpoints/8956225895677296640\n",
      "To use this MatchingEngineIndexEndpoint in another session:\n",
      "index_endpoint = aiplatform.MatchingEngineIndexEndpoint('projects/934903580331/locations/us-central1/indexEndpoints/8956225895677296640')\n"
     ]
    }
   ],
   "source": [
    "my_bf_index_endpoint = vertex_ai.MatchingEngineIndexEndpoint.create(\n",
    "    display_name=f'{BF_ENDPOINT_DISPLAY_NAME}',\n",
    "    description=\"index endpoint for ANN index\",\n",
    "    network=VPC_NETWORK_FULL,\n",
    "    sync=False,\n",
    ")\n",
    "# to use existing\n",
    "# my_bf_index_endpoint = aiplatform.MatchingEngineIndexEndpoint('projects/934903580331/locations/us-central1/indexEndpoints/1972515064137121792')"
   ]
  },
  {
   "cell_type": "code",
   "execution_count": 17,
   "id": "d3dd1661-869d-4580-bddc-6f1cd7858c7e",
   "metadata": {},
   "outputs": [
    {
     "name": "stdout",
     "output_type": "stream",
     "text": [
      "ANN_INDEX_ENDPOINT_NAME: projects/934903580331/locations/us-central1/indexEndpoints/8956225895677296640\n",
      "BF_INDEX_ENDPOINT_NAME: projects/934903580331/locations/us-central1/indexEndpoints/6149357427918635008\n"
     ]
    }
   ],
   "source": [
    "ANN_INDEX_ENDPOINT_NAME = my_ann_index_endpoint.resource_name\n",
    "BF_INDEX_ENDPOINT_NAME = my_bf_index_endpoint.resource_name\n",
    "\n",
    "print(f\"ANN_INDEX_ENDPOINT_NAME: {ANN_INDEX_ENDPOINT_NAME}\")\n",
    "print(f\"BF_INDEX_ENDPOINT_NAME: {BF_INDEX_ENDPOINT_NAME}\")"
   ]
  },
  {
   "cell_type": "markdown",
   "id": "f73b0b1b-1055-4b91-80ef-fa00e27bf93b",
   "metadata": {},
   "source": [
    "## Deploy Indexes to endpoints"
   ]
  },
  {
   "cell_type": "code",
   "execution_count": null,
   "id": "395ccf35-09b5-4f34-9716-ac3303a70ceb",
   "metadata": {},
   "outputs": [],
   "source": [
    "# !gcloud ai indexes list \\\n",
    "#   --project=$PROJECT_ID \\\n",
    "#   --region=$LOCATION"
   ]
  },
  {
   "cell_type": "code",
   "execution_count": 18,
   "id": "21159b0b-bcc3-4d2c-8439-98b47fa1f99a",
   "metadata": {},
   "outputs": [],
   "source": [
    "# get index resource names\n",
    "tree_ah_resource_name = tree_ah_index.resource_name\n",
    "brute_force_index_resource_name = brute_force_index.resource_name\n",
    "\n",
    "# if neededing to create index obj in session\n",
    "# tree_ah_resource_name = f'projects/{PROJECT_NUM}/locations/us-central1/indexes/8930963516517515264'\n",
    "# brute_force_index_resource_name = f'projects/{PROJECT_NUM}/locations/us-central1/indexes/8006881167976431616'\n",
    "\n",
    "tree_ah_index = vertex_ai.MatchingEngineIndex(index_name=tree_ah_resource_name)\n",
    "brute_force_index = vertex_ai.MatchingEngineIndex(index_name=brute_force_index_resource_name)"
   ]
  },
  {
   "cell_type": "code",
   "execution_count": 19,
   "id": "c80b747d-3f8d-4908-a0f4-46146be86315",
   "metadata": {},
   "outputs": [
    {
     "data": {
      "text/plain": [
       "'merlin_128dim_jtv1'"
      ]
     },
     "execution_count": 19,
     "metadata": {},
     "output_type": "execute_result"
    }
   ],
   "source": [
    "tree_ah_index.display_name"
   ]
  },
  {
   "cell_type": "code",
   "execution_count": 21,
   "id": "668fb973-41ce-4c20-a378-928c271d702d",
   "metadata": {},
   "outputs": [
    {
     "name": "stdout",
     "output_type": "stream",
     "text": [
      "ANN_INDEX_NAME: projects/934903580331/locations/us-central1/indexes/8417482790253101056\n",
      "BF_INDEX_NAME: projects/934903580331/locations/us-central1/indexes/1905277729075363840\n",
      "DEPLOYED_ANN_INDEX_ID: deployed_merlin_128dim_jtv1\n",
      "DEPLOYED_BF_INDEX_ID: deployed_merlin_128dim_jtv1_bf\n"
     ]
    }
   ],
   "source": [
    "ANN_INDEX_NAME = tree_ah_index.resource_name\n",
    "BF_INDEX_NAME = brute_force_index.resource_name\n",
    "\n",
    "print(f\"ANN_INDEX_NAME: {ANN_INDEX_NAME}\")\n",
    "print(f\"BF_INDEX_NAME: {BF_INDEX_NAME}\")\n",
    "\n",
    "DEPLOYED_ANN_INDEX_ID = f\"deployed_{ANN_DISPLAY_NAME}\"\n",
    "DEPLOYED_BF_INDEX_ID = f\"deployed_{BF_DISPLAY_NAME}\"\n",
    "\n",
    "print(f\"DEPLOYED_ANN_INDEX_ID: {DEPLOYED_ANN_INDEX_ID}\")\n",
    "print(f\"DEPLOYED_BF_INDEX_ID: {DEPLOYED_BF_INDEX_ID}\")"
   ]
  },
  {
   "cell_type": "markdown",
   "id": "a28323e2-7862-4542-ac9d-1c9226b479c1",
   "metadata": {},
   "source": [
    "### Deploy ANN index"
   ]
  },
  {
   "cell_type": "code",
   "execution_count": 22,
   "id": "fb4bc708-2c75-415b-b637-be07b4f3a16e",
   "metadata": {},
   "outputs": [
    {
     "name": "stdout",
     "output_type": "stream",
     "text": [
      "Deploying index MatchingEngineIndexEndpoint index_endpoint: projects/934903580331/locations/us-central1/indexEndpoints/8956225895677296640\n",
      "Deploy index MatchingEngineIndexEndpoint index_endpoint backing LRO: projects/934903580331/locations/us-central1/indexEndpoints/8956225895677296640/operations/782775107004137472\n",
      "MatchingEngineIndexEndpoint index_endpoint Deployed index. Resource name: projects/934903580331/locations/us-central1/indexEndpoints/8956225895677296640\n"
     ]
    },
    {
     "data": {
      "text/plain": [
       "[id: \"deployed_merlin_128dim_jtv1\"\n",
       "index: \"projects/934903580331/locations/us-central1/indexes/8417482790253101056\"\n",
       "create_time {\n",
       "  seconds: 1679379546\n",
       "  nanos: 893955000\n",
       "}\n",
       "private_endpoints {\n",
       "  match_grpc_address: \"10.41.2.5\"\n",
       "}\n",
       "index_sync_time {\n",
       "  seconds: 1679379762\n",
       "  nanos: 554035000\n",
       "}\n",
       "automatic_resources {\n",
       "  min_replica_count: 2\n",
       "  max_replica_count: 2\n",
       "}\n",
       "deployment_group: \"default\"\n",
       "]"
      ]
     },
     "execution_count": 22,
     "metadata": {},
     "output_type": "execute_result"
    }
   ],
   "source": [
    "deployed_ann_index = my_ann_index_endpoint.deploy_index(\n",
    "    index=tree_ah_index, \n",
    "    deployed_index_id=DEPLOYED_ANN_INDEX_ID\n",
    ")\n",
    "deployed_ann_index.deployed_indexes"
   ]
  },
  {
   "cell_type": "markdown",
   "id": "358f85f8-5382-46f6-b404-86bc6effbb36",
   "metadata": {},
   "source": [
    "### Deploy Bruteforce index"
   ]
  },
  {
   "cell_type": "code",
   "execution_count": 23,
   "id": "46655db4-83c3-47ab-8117-e2e77cea3e07",
   "metadata": {},
   "outputs": [
    {
     "name": "stdout",
     "output_type": "stream",
     "text": [
      "Deploying index MatchingEngineIndexEndpoint index_endpoint: projects/934903580331/locations/us-central1/indexEndpoints/6149357427918635008\n",
      "Deploy index MatchingEngineIndexEndpoint index_endpoint backing LRO: projects/934903580331/locations/us-central1/indexEndpoints/6149357427918635008/operations/6472510286233337856\n",
      "MatchingEngineIndexEndpoint index_endpoint Deployed index. Resource name: projects/934903580331/locations/us-central1/indexEndpoints/6149357427918635008\n"
     ]
    },
    {
     "data": {
      "text/plain": [
       "[id: \"deployed_merlin_128dim_jtv1_bf\"\n",
       "index: \"projects/934903580331/locations/us-central1/indexes/1905277729075363840\"\n",
       "create_time {\n",
       "  seconds: 1679380267\n",
       "  nanos: 211308000\n",
       "}\n",
       "private_endpoints {\n",
       "  match_grpc_address: \"10.41.2.5\"\n",
       "}\n",
       "index_sync_time {\n",
       "  seconds: 1679380482\n",
       "  nanos: 199078000\n",
       "}\n",
       "automatic_resources {\n",
       "  min_replica_count: 2\n",
       "  max_replica_count: 2\n",
       "}\n",
       "deployment_group: \"default\"\n",
       "]"
      ]
     },
     "execution_count": 23,
     "metadata": {},
     "output_type": "execute_result"
    }
   ],
   "source": [
    "deployed_bf_index = my_bf_index_endpoint.deploy_index(\n",
    "    index=brute_force_index, \n",
    "    deployed_index_id=DEPLOYED_BF_INDEX_ID\n",
    ")\n",
    "deployed_bf_index.deployed_indexes"
   ]
  },
  {
   "cell_type": "markdown",
   "id": "1903f46e-2ee0-467b-8522-2356ba902b0c",
   "metadata": {},
   "source": [
    "## Test: deployed query_model --> Matching Engine"
   ]
  },
  {
   "cell_type": "markdown",
   "id": "ea62fc12-f571-442e-a571-d62100414518",
   "metadata": {},
   "source": [
    "### define deployed model endpoint"
   ]
  },
  {
   "cell_type": "code",
   "execution_count": 39,
   "id": "219d0277-24a7-49eb-96f7-5bee38f4ca1a",
   "metadata": {},
   "outputs": [],
   "source": [
    "ENDPOINT_URI = 'projects/934903580331/locations/us-central1/endpoints/714467053775355904'\n",
    "endpoint = vertex_ai.Endpoint(ENDPOINT_URI)"
   ]
  },
  {
   "cell_type": "markdown",
   "id": "af600b37-590f-4f71-8b18-6108626ded78",
   "metadata": {},
   "source": [
    "### get test instance"
   ]
  },
  {
   "cell_type": "code",
   "execution_count": 40,
   "id": "6c240546-4e97-41a2-9abf-e1dc292abfde",
   "metadata": {},
   "outputs": [
    {
     "data": {
      "text/plain": [
       "{'collaborative': 'false',\n",
       " 'album_name_pl': [\"There's Really A Wolf\",\n",
       "  'Late Nights: The Album',\n",
       "  'American Teen',\n",
       "  'Crazy In Love',\n",
       "  'Pony'],\n",
       " 'artist_genres_pl': [\"'hawaiian hip hop', 'rap'\",\n",
       "  \"'chicago rap', 'dance pop', 'pop', 'pop rap', 'r&b', 'southern hip hop', 'trap', 'urban contemporary'\",\n",
       "  \"'pop', 'pop r&b'\",\n",
       "  \"'dance pop', 'pop', 'r&b'\",\n",
       "  \"'chill r&b', 'pop', 'pop r&b', 'r&b', 'urban contemporary'\"],\n",
       " 'artist_name_pl': ['Russ', 'Jeremih', 'Khalid', 'BeyoncÃ©', 'William Singe'],\n",
       " 'artist_pop_can': 82.0,\n",
       " 'description_pl': '',\n",
       " 'duration_ms_songs_pl': [237506.0, 217200.0, 219080.0, 226400.0, 121739.0],\n",
       " 'n_songs_pl': 8.0,\n",
       " 'name': 'Lit Tunes ',\n",
       " 'num_albums_pl': 8.0,\n",
       " 'num_artists_pl': 8.0,\n",
       " 'track_name_pl': ['Losin Control',\n",
       "  'Paradise',\n",
       "  'Location',\n",
       "  'Crazy In Love - Remix',\n",
       "  'Pony'],\n",
       " 'track_pop_pl': [79.0, 58.0, 83.0, 71.0, 57.0],\n",
       " 'duration_ms_seed_pl': 51023.1,\n",
       " 'pid': 1,\n",
       " 'track_uri_pl': ['spotify:track:4cxMGhkinTocPSVVKWIw0d',\n",
       "  'spotify:track:1wNEBPo3nsbGCZRryI832I',\n",
       "  'spotify:track:152lZdxL1OR0ZMW6KquMif',\n",
       "  'spotify:track:2f4IuijXLxYOeBncS60GUD',\n",
       "  'spotify:track:4Lj8paMFwyKTGfILLELVxt']}"
      ]
     },
     "execution_count": 40,
     "metadata": {},
     "output_type": "execute_result"
    }
   ],
   "source": [
    "import pickle as pkl\n",
    "\n",
    "filehandler = open('merlin_last5_test_instance.pkl', 'rb')\n",
    "TEST_INSTANCE = pkl.load(filehandler)\n",
    "filehandler.close()\n",
    "\n",
    "TEST_INSTANCE"
   ]
  },
  {
   "cell_type": "markdown",
   "id": "7fe63d2a-6cf8-4fe1-a5e2-000024507226",
   "metadata": {},
   "source": [
    "### get test instance embeddings"
   ]
  },
  {
   "cell_type": "code",
   "execution_count": 42,
   "id": "5a0f34b0-a67b-4804-9bdf-d01fa366a360",
   "metadata": {},
   "outputs": [
    {
     "name": "stdout",
     "output_type": "stream",
     "text": [
      "query conversion: 0.5507 seconds\n",
      "Vector Dimensions: 128\n",
      "\n",
      "embeddings: [[0.04306147247552872, 0.0, 0.1541330963373184, 0.02622287534177303, 0.03811377659440041, 0.01116169989109039, 0.0, 0.0, 0.04474653676152229, 0.0, 0.0, 0.0, 0.02140465378761292, 0.0, 0.0, 0.0, 0.001586958067491651, 0.0, 0.0222462136298418, 0.0830300822854042, 0.01280351355671883, 0.02744066342711449, 0.03303935006260872, 0.0, 0.0, 0.05789442732930183, 0.0, 0.0, 0.0, 0.02518848516047001, 0.1041594371199608, 0.1695009768009186, 0.01560135744512081, 0.0, 0.0, 0.0, 0.08916763216257095, 0.0, 0.0, 0.02710841223597527, 0.0, 0.04701695591211319, 0.0, 0.02980164624750614, 0.117186039686203, 0.0, 0.0, 0.0, 0.0, 0.07672543078660965, 0.0794282853603363, 0.0142751494422555, 0.0, 0.01396751310676336, 0.0, 0.01476635225117207, 0.005098144058138132, 0.007774507626891136, 0.0, 0.0, 0.004853374324738979, 0.0, 0.0, 0.02901207469403744, 0.01740282960236073, 0.04868501424789429, 0.1304978728294373, 0.0, 0.0, 0.0, 0.03922000154852867, 0.0009094009874388576, 0.0, 0.0, 0.0, 0.0, 0.01155873388051987, 0.03167691826820374, 0.0, 0.02460280805826187, 0.01587847992777824, 0.03023398481309414, 0.0, 0.01998442783951759, 0.0, 0.01020767260342836, 0.0343865193426609, 0.002592647913843393, 0.03698309510946274, 0.0, 0.02937860041856766, 0.01548787765204906, 0.0, 0.0, 0.1032155752182007, 0.0, 0.0, 0.0, 0.0, 0.0, 0.0, 0.0, 0.0, 0.005453874357044697, 0.0, 0.0, 0.0373181514441967, 0.04472017288208008, 0.1223760843276978, 0.0, 0.01411030814051628, 0.06310773640871048, 0.03020548261702061, 0.0, 0.02766656316816807, 0.05945475026965141, 0.0, 0.0, 0.0325125977396965, 0.0, 0.02347051538527012, 0.0, 0.1096861734986305, 0.00733253825455904, 0.06217588856816292, 0.0, 0.01536395028233528, 0.0245197769254446]]\n"
     ]
    }
   ],
   "source": [
    "import time\n",
    "\n",
    "start = time.time()\n",
    "\n",
    "playlist_emb = endpoint.predict(instances=[TEST_INSTANCE])\n",
    "\n",
    "print(f\"query conversion: {round((time.time() - start),4)} seconds\")\n",
    "print(f\"Vector Dimensions: {len(playlist_emb.predictions[0])}\\n\")\n",
    "\n",
    "print(f\"embeddings: {playlist_emb.predictions}\")"
   ]
  },
  {
   "cell_type": "markdown",
   "id": "7827ad5a-83a0-46af-88be-0f209bd0a5d5",
   "metadata": {},
   "source": [
    "### retrieve nearest neighbors"
   ]
  },
  {
   "cell_type": "markdown",
   "id": "b7d10f9a-0d07-4850-9f27-b699eeb34d22",
   "metadata": {},
   "source": [
    "#### calculate retrieval latencies"
   ]
  },
  {
   "cell_type": "code",
   "execution_count": 43,
   "id": "aa64c914-364f-4e8e-b42d-55d45cdeac6f",
   "metadata": {},
   "outputs": [
    {
     "name": "stdout",
     "output_type": "stream",
     "text": [
      "6.41 ms ± 38.6 µs per loop (mean ± std. dev. of 7 runs, 100 loops each)\n"
     ]
    }
   ],
   "source": [
    "%%timeit\n",
    "\n",
    "ANN_response = deployed_ann_index.match(\n",
    "    deployed_index_id=DEPLOYED_ANN_INDEX_ID,\n",
    "    queries=playlist_emb.predictions,\n",
    "    # queries=test_instance,\n",
    "    num_neighbors=50\n",
    ")\n",
    "# ANN_response"
   ]
  },
  {
   "cell_type": "code",
   "execution_count": 45,
   "id": "d928f8dc-6849-4083-bced-a19307d95708",
   "metadata": {},
   "outputs": [
    {
     "name": "stdout",
     "output_type": "stream",
     "text": [
      "77.2 ms ± 1.81 ms per loop (mean ± std. dev. of 7 runs, 10 loops each)\n"
     ]
    }
   ],
   "source": [
    "%%timeit \n",
    "BF_response = deployed_bf_index.match(\n",
    "    deployed_index_id=DEPLOYED_BF_INDEX_ID,\n",
    "    queries=playlist_emb.predictions,\n",
    "    # queries=test_instance,\n",
    "    num_neighbors=50\n",
    ")\n",
    "# BF_response"
   ]
  },
  {
   "cell_type": "markdown",
   "id": "55095142-3593-4597-b296-b20e54b27a8c",
   "metadata": {},
   "source": [
    "#### get nearest neighbors from each index\n",
    "\n",
    "> Calculate recall by determining how many neighbors were correctly retrieved as compared to the brute-force index"
   ]
  },
  {
   "cell_type": "code",
   "execution_count": 44,
   "id": "6cea49cd-f73b-459b-aa34-7d689d81afeb",
   "metadata": {},
   "outputs": [],
   "source": [
    "ANN_response = deployed_ann_index.match(\n",
    "    deployed_index_id=DEPLOYED_ANN_INDEX_ID,\n",
    "    queries=playlist_emb.predictions,\n",
    "    # queries=test_instance,\n",
    "    num_neighbors=50\n",
    ")\n",
    "# ANN_response"
   ]
  },
  {
   "cell_type": "code",
   "execution_count": 46,
   "id": "0594fb13-99f8-44c5-be98-a0b5bf3161cc",
   "metadata": {},
   "outputs": [],
   "source": [
    "BF_response = deployed_bf_index.match(\n",
    "    deployed_index_id=DEPLOYED_BF_INDEX_ID,\n",
    "    queries=playlist_emb.predictions,\n",
    "    # queries=test_instance,\n",
    "    num_neighbors=50\n",
    ")\n",
    "# BF_response"
   ]
  },
  {
   "cell_type": "markdown",
   "id": "26ea77a0-9184-4e76-8ba4-6839e1caa34b",
   "metadata": {},
   "source": [
    "### compute recall"
   ]
  },
  {
   "cell_type": "code",
   "execution_count": 47,
   "id": "41bfb975-1c0c-4948-b9a4-72d7b3ed9b7d",
   "metadata": {},
   "outputs": [
    {
     "name": "stdout",
     "output_type": "stream",
     "text": [
      "Recall: 0.96\n"
     ]
    }
   ],
   "source": [
    "recalled_neighbors = 0\n",
    "\n",
    "for tree_ah_neighbors, brute_force_neighbors in zip(\n",
    "    ANN_response, BF_response\n",
    "):\n",
    "    tree_ah_neighbor_ids = [neighbor.id for neighbor in tree_ah_neighbors]\n",
    "    brute_force_neighbor_ids = [neighbor.id for neighbor in brute_force_neighbors]\n",
    "\n",
    "    recalled_neighbors += len(\n",
    "        set(tree_ah_neighbor_ids).intersection(brute_force_neighbor_ids)\n",
    "    )\n",
    "\n",
    "recall = recalled_neighbors / len(\n",
    "    [neighbor for neighbors in BF_response for neighbor in neighbors]\n",
    ")\n",
    "\n",
    "print(\"Recall: {}\".format(recall))"
   ]
  },
  {
   "cell_type": "code",
   "execution_count": null,
   "id": "bbbd8adf-908a-4290-8221-08b380b56b00",
   "metadata": {},
   "outputs": [],
   "source": []
  }
 ],
 "metadata": {
  "environment": {
   "kernel": "python3",
   "name": "tf2-gpu.2-9.m100",
   "type": "gcloud",
   "uri": "gcr.io/deeplearning-platform-release/tf2-gpu.2-9:m100"
  },
  "kernelspec": {
   "display_name": "Python 3",
   "language": "python",
   "name": "python3"
  },
  "language_info": {
   "codemirror_mode": {
    "name": "ipython",
    "version": 3
   },
   "file_extension": ".py",
   "mimetype": "text/x-python",
   "name": "python",
   "nbconvert_exporter": "python",
   "pygments_lexer": "ipython3",
   "version": "3.7.12"
  }
 },
 "nbformat": 4,
 "nbformat_minor": 5
}
