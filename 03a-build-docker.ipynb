{
 "cells": [
  {
   "cell_type": "code",
   "execution_count": 1,
   "id": "744992ef-fae3-4d67-96bb-6f6b659cace9",
   "metadata": {},
   "outputs": [
    {
     "name": "stdout",
     "output_type": "stream",
     "text": [
      "PROJECT_ID: hybrid-vertex\n",
      "PROJECT_NUM: 934903580331\n",
      "LOCATION: us-central1\n"
     ]
    }
   ],
   "source": [
    "GCP_PROJECTS = !gcloud config get-value project\n",
    "PROJECT_ID = GCP_PROJECTS[0]\n",
    "PROJECT_NUM = !gcloud projects list --filter=\"$PROJECT_ID\" --format=\"value(PROJECT_NUMBER)\"\n",
    "PROJECT_NUM = PROJECT_NUM[0]\n",
    "LOCATION = 'us-central1'\n",
    "\n",
    "print(f\"PROJECT_ID: {PROJECT_ID}\")\n",
    "print(f\"PROJECT_NUM: {PROJECT_NUM}\")\n",
    "print(f\"LOCATION: {LOCATION}\")"
   ]
  },
  {
   "cell_type": "code",
   "execution_count": 2,
   "id": "0d46f2d2-2d4b-4299-83cb-d1c84c8a1fbc",
   "metadata": {},
   "outputs": [],
   "source": [
    "from google.cloud import aiplatform as vertex_ai\n",
    "import os\n",
    "import time\n",
    "\n",
    "BUCKET = 'jt-merlin-scaling'\n",
    "BUCKET_URI = 'gs://jt-merlin-scaling'\n",
    "\n",
    "vertex_ai.init(project=PROJECT_ID, location=LOCATION)"
   ]
  },
  {
   "cell_type": "code",
   "execution_count": 5,
   "id": "ef56d48a-da9b-4d4f-8e06-026770670b2e",
   "metadata": {},
   "outputs": [],
   "source": [
    "REPO_DOCKER_PATH_PREFIX = 'src'\n",
    "SERVING_SUB_DIR = 'serving'\n",
    "SERVING_APPLICATION_DIR = 'app'\n",
    "SERVING_DOCKERNAME = 'merlin-retriever'\n",
    "LOCAL_WORKFLOW_DIR = f'{REPO_DOCKER_PATH_PREFIX}/{SERVING_SUB_DIR}/local_workflow'\n",
    "\n",
    "REPOSITORY='sp-mm-cpr'"
   ]
  },
  {
   "cell_type": "code",
   "execution_count": 8,
   "id": "e8172479-5108-43dd-9ce1-e4df0cbf4771",
   "metadata": {},
   "outputs": [
    {
     "name": "stdout",
     "output_type": "stream",
     "text": [
      "Create request issued for: [sp-mm-cpr]\n",
      "Waiting for operation [projects/hybrid-vertex/locations/us-central1/operations/\n",
      "554b6010-4e47-4c34-9654-9ffa07f12458] to complete...done.                      \n",
      "Created repository [sp-mm-cpr].\n"
     ]
    }
   ],
   "source": [
    "! gcloud beta artifacts repositories create {REPOSITORY} \\\n",
    "    --repository-format=docker \\\n",
    "    --location=$LOCATION"
   ]
  },
  {
   "cell_type": "code",
   "execution_count": 9,
   "id": "f847dfe5-569b-43f8-a6e4-c6c387d3b280",
   "metadata": {},
   "outputs": [
    {
     "name": "stdout",
     "output_type": "stream",
     "text": [
      "\u001b[1;33mWARNING:\u001b[0m Your config file at [/home/jupyter/.docker/config.json] contains these credential helper entries:\n",
      "\n",
      "{\n",
      "  \"credHelpers\": {\n",
      "    \"gcr.io\": \"gcloud\",\n",
      "    \"us.gcr.io\": \"gcloud\",\n",
      "    \"eu.gcr.io\": \"gcloud\",\n",
      "    \"asia.gcr.io\": \"gcloud\",\n",
      "    \"staging-k8s.gcr.io\": \"gcloud\",\n",
      "    \"marketplace.gcr.io\": \"gcloud\",\n",
      "    \"us-central1-docker.pkg.dev\": \"gcloud\"\n",
      "  }\n",
      "}\n",
      "Adding credentials for: us-central1-docker.pkg.dev\n",
      "gcloud credential helpers already registered correctly.\n"
     ]
    }
   ],
   "source": [
    "! gcloud auth configure-docker {LOCATION}-docker.pkg.dev --quiet"
   ]
  },
  {
   "cell_type": "code",
   "execution_count": 10,
   "id": "c322c648-172b-4628-835f-17e40f788f9d",
   "metadata": {},
   "outputs": [],
   "source": [
    "# # Make the training subfolder\n",
    "# ! rm -rf {REPO_DOCKER_PATH_PREFIX}/{SERVING_SUB_DIR}\n",
    "# ! mkdir {REPO_DOCKER_PATH_PREFIX}/{SERVING_SUB_DIR}\n",
    "# ! mkdir {REPO_DOCKER_PATH_PREFIX}/{SERVING_SUB_DIR}/{SERVING_APPLICATION_DIR}\n",
    "# ! touch {REPO_DOCKER_PATH_PREFIX}/{SERVING_SUB_DIR}/{SERVING_APPLICATION_DIR}/__init__.py\n",
    "\n",
    "# !rm -rf $LOCAL_WORKFLOW_DIR\n",
    "# !mkdir $LOCAL_WORKFLOW_DIR\n",
    "\n",
    "# ! rm -rf app\n",
    "! mkdir app"
   ]
  },
  {
   "cell_type": "code",
   "execution_count": 11,
   "id": "ad46b5af-c158-4025-8260-982115e05fac",
   "metadata": {},
   "outputs": [
    {
     "name": "stdout",
     "output_type": "stream",
     "text": [
      "Writing app/requirements.txt\n"
     ]
    }
   ],
   "source": [
    "%%writefile app/requirements.txt\n",
    "uvicorn[standard]==0.15.0\n",
    "gunicorn==20.1.0\n",
    "fastapi==0.68.1\n",
    "# uvloop==0.15.2\n",
    "# fastapi-utils\n",
    "google-cloud-aiplatform\n",
    "merlin-models\n",
    "nvtabular\n",
    "gcsfs\n",
    "google-cloud-storage"
   ]
  },
  {
   "cell_type": "code",
   "execution_count": 12,
   "id": "5faefc64-29e9-4315-9a37-11b9dbfc9e5c",
   "metadata": {},
   "outputs": [
    {
     "name": "stdout",
     "output_type": "stream",
     "text": [
      "Writing app/dataset_to_tensors.py\n"
     ]
    }
   ],
   "source": [
    "%%writefile app/dataset_to_tensors.py\n",
    "\n",
    "try:\n",
    "    import cudf\n",
    "except ImportError:\n",
    "    cudf = None\n",
    "import pandas as pd\n",
    "import tensorflow as tf\n",
    "from typing import Dict\n",
    "from merlin.io import Dataset\n",
    "import itertools\n",
    "\n",
    "\n",
    "def cupy_array_to_tensor(array):\n",
    "    return tf.experimental.dlpack.from_dlpack(array.reshape(-1, 1).toDlpack())\n",
    "\n",
    "def numpy_array_to_tensor(array):\n",
    "    return tf.convert_to_tensor(array.reshape(-1, 1))\n",
    "\n",
    "def cudf_series_to_tensor(col) -> tf.Tensor:\n",
    "    \"Convert a cudf.Series to a TensorFlow Tensor with DLPack\"\n",
    "    if isinstance(col.dtype, cudf.ListDtype):\n",
    "        values = col.list.leaves.values\n",
    "        offsets = col.list._column.offsets.values\n",
    "        row_lengths = offsets[1:] - offsets[:-1]\n",
    "        return cupy_array_to_tensor(values), cupy_array_to_tensor(row_lengths)\n",
    "    else:\n",
    "        return cupy_array_to_tensor(col.values)\n",
    "\n",
    "def pandas_series_to_tensor(col) -> tf.Tensor:\n",
    "    if len(col) and pd.api.types.is_list_like(col.values[0]):\n",
    "        values = pd.Series(itertools.chain(*col)).values\n",
    "        row_lengths = col.map(len).values\n",
    "        return numpy_array_to_tensor(values), numpy_array_to_tensor(row_lengths)\n",
    "    else:\n",
    "        return numpy_array_to_tensor(col.values)\n",
    "        \n",
    "    \n",
    "def dataset_to_tensors(dataset: Dataset) -> Dict[str, tf.Tensor]:\n",
    "    \"\"\"Convert a DataFrame to Dict of Tensors\"\"\"\n",
    "    df = dataset.to_ddf().compute()\n",
    "    if isinstance(df, pd.DataFrame):\n",
    "        col_to_tensor = pandas_series_to_tensor\n",
    "    else:\n",
    "        col_to_tensor = cudf_series_to_tensor\n",
    "    return {\n",
    "        column: col_to_tensor(df[column])\n",
    "        for column in df.columns\n",
    "    }"
   ]
  },
  {
   "cell_type": "code",
   "execution_count": 13,
   "id": "8ae9e235-8d5f-4ee3-9c71-48b0c2ce998a",
   "metadata": {},
   "outputs": [
    {
     "name": "stdout",
     "output_type": "stream",
     "text": [
      "Writing app/predictor.py\n"
     ]
    }
   ],
   "source": [
    "%%writefile app/predictor.py\n",
    "import nvtabular as nvt\n",
    "import pandas as pd\n",
    "import os\n",
    "import json\n",
    "import merlin.models.tf as mm\n",
    "from nvtabular.loader.tf_utils import configure_tensorflow\n",
    "configure_tensorflow()\n",
    "import tensorflow as tf\n",
    "import time\n",
    "import logging\n",
    "from dataset_to_tensors import *\n",
    "\n",
    "\n",
    "# These are helper functions that ensure the dictionary input is in a certain order and types are preserved\n",
    "# this is to get scalar values to appear first in the dict to not confuse pandas with lists https://github.com/pandas-dev/pandas/issues/46092\n",
    "reordered_keys = [\n",
    "    'collaborative', \n",
    "    'album_name_pl', \n",
    "    'artist_genres_pl', \n",
    "    'artist_name_pl', \n",
    "    'artist_pop_can', \n",
    "    'description_pl', \n",
    "    'duration_ms_songs_pl', \n",
    "    'n_songs_pl', \n",
    "    'name', \n",
    "    'num_albums_pl', \n",
    "    'num_artists_pl', \n",
    "    'track_name_pl', \n",
    "    'track_pop_pl', \n",
    "    'duration_ms_seed_pl', \n",
    "    'pid', \n",
    "    'track_uri_pl'\n",
    "]\n",
    "\n",
    "float_num_fix = ['n_songs_pl','num_albums_pl','num_artists_pl','duration_ms_seed_pl']\n",
    "float_list_fix = ['track_pop_pl', 'duration_ms_songs_pl']\n",
    "    \n",
    "def fix_list_num_dtypes(num_list):\n",
    "    \"this fixes lists of ints to list of floats converted in json input\"\n",
    "    return [float(x) for x in num_list]\n",
    "\n",
    "def fix_num_dtypes(num):\n",
    "    \"this fixes ints and casts to floats\"\n",
    "    return float(num)\n",
    "\n",
    "def fix_types(k, v):\n",
    "    if k in float_num_fix:\n",
    "        return fix_num_dtypes(v)\n",
    "    if k in float_list_fix:\n",
    "        return fix_list_num_dtypes(v)\n",
    "    else:\n",
    "        return v\n",
    "\n",
    "def create_pandas_instance(inputs):\n",
    "    \"\"\"\n",
    "    Helper function to reorder the input to have a sclar first for pandas\n",
    "    And fix the types converted when data is imported by fastAPI\n",
    "    \"\"\"\n",
    "    if type(inputs) == list:\n",
    "        header = inputs[0]\n",
    "        reordered_header_dict = {k: fix_types(k,header[k]) for k in reordered_keys}\n",
    "        pandas_instance = pd.DataFrame.from_dict(reordered_header_dict, orient='index').T\n",
    "        if len(inputs) > 1:\n",
    "            for ti in inputs[1:]:\n",
    "                reordered_dict = {k: fix_types(k,ti[k]) for k in reordered_keys}\n",
    "                pandas_instance = pandas_instance.append(pd.DataFrame.from_dict(reordered_dict, orient='index').T)\n",
    "    else:\n",
    "        reordered_dict = {k: fix_types(k,inputs[k]) for k in reordered_keys}\n",
    "        pandas_instance = pd.DataFrame.from_dict(reordered_dict, orient='index').T\n",
    "    return pandas_instance\n",
    "\n",
    "class Predictor():\n",
    "    \"\"\"Interface of the Predictor class for Custom Prediction Routines.\n",
    "    The Predictor is responsible for the ML logic for processing a prediction request.\n",
    "    Specifically, the Predictor must define:\n",
    "    (1) How to load all model artifacts used during prediction into memory.\n",
    "    (2) The logic that should be executed at predict time.\n",
    "    When using the default PredictionHandler, the Predictor will be invoked as follows:\n",
    "      predictor.postprocess(predictor.predict(predictor.preprocess(prediction_input)))\n",
    "    \"\"\"\n",
    "    def __init__(self):\n",
    "        return\n",
    "    \n",
    "    def load(self, artifacts_uri):\n",
    "        \"\"\"Loads the model artifact.\n",
    "        Args:\n",
    "            artifacts_uri (str):\n",
    "                Required. The value of the environment variable AIP_STORAGE_URI.\n",
    "        \"\"\"\n",
    "        logging.info(\"loading model and workflow\")\n",
    "        start_init = time.process_time()\n",
    "        \n",
    "        #test_bucket = 'gs://jt-merlin-scaling'\n",
    "        # self.model = tf.keras.models.load_model(os.path.join(artifacts_uri, \"query_model_merlin\" ))\n",
    "        # self.workflow = nvt.Workflow.load(os.path.join(artifacts_uri, \"workflow/2t-spotify-workflow\")) # TODO: parameterize\n",
    "        self.model = tf.keras.models.load_model(artifacts_uri)\n",
    "        \n",
    "        # self.workflow = nvt.Workflow.load(os.path.join(artifacts_uri, \"workflow/2t-spotify-workflow\"))\n",
    "        # self.workflow = nvt.Workflow.load('gs://jt-merlin-scaling/nvt-last5-v1full/nvt-analyzed') # TODO: parametrize\n",
    "        self.workflow = nvt.Workflow.load(\"/docker_workflow/workflow\")\n",
    "        \n",
    "        self.workflow = self.workflow.remove_inputs(\n",
    "            [\n",
    "                'track_pop_can', \n",
    "                'track_uri_can', \n",
    "                'duration_ms_can', \n",
    "                'track_name_can', \n",
    "                'artist_name_can',\n",
    "                'album_name_can',\n",
    "                'album_uri_can',\n",
    "                'artist_followers_can', \n",
    "                'artist_genres_can',\n",
    "                'artist_name_can', \n",
    "                'artist_pop_can',\n",
    "                'artist_pop_pl',\n",
    "                'artist_uri_can', \n",
    "                'artists_followers_pl'\n",
    "            ]\n",
    "        )\n",
    "        return self\n",
    "        \n",
    "    def predict(self, prediction_input):\n",
    "        \"\"\"Preprocesses the prediction input before doing the prediction.\n",
    "        Args:\n",
    "            prediction_input (Any):\n",
    "                Required. The prediction input that needs to be preprocessed.\n",
    "        Returns:\n",
    "            The preprocessed prediction input.\n",
    "        \"\"\"\n",
    "        # handle different input types, can take a dict or list of dicts\n",
    "        self.n_rows = len(prediction_input)\n",
    "        start = time.process_time()\n",
    "        pandas_instance = create_pandas_instance(prediction_input[0])\n",
    "        #logging.info(f\"Pandas conversion took {time.process_time() - start} seconds\")\n",
    "        print(f\"Pandas conversion took {time.process_time() - start} seconds\")\n",
    "        start = time.process_time()\n",
    "        transformed_inputs = nvt.Dataset(pandas_instance)\n",
    "        #logging.info(f\"NVT data loading took {time.process_time() - start} seconds\")\n",
    "        print(f\"NVT data loading took {time.process_time() - start} seconds\")\n",
    "        start = time.process_time()\n",
    "        transformed_instance = self.workflow.transform(transformed_inputs)\n",
    "        print(f\"Workflow transformation took {time.process_time() - start} seconds\")\n",
    "\n",
    "        # def predict(self, instances):\n",
    "        start = time.process_time()\n",
    "        \n",
    "        batch = dataset_to_tensors(transformed_instance)\n",
    "        print(f\"converting to dict_tensors took {time.process_time() - start} seconds\")\n",
    "        start = time.process_time()\n",
    "        output = self.model(batch)\n",
    "        print(f\"Generating query embeddings took {time.process_time() - start} seconds\")\n",
    "        return transformed_instance, output, batch"
   ]
  },
  {
   "cell_type": "code",
   "execution_count": 14,
   "id": "f2426367-8e71-46c9-ab0b-e7888b47417b",
   "metadata": {},
   "outputs": [
    {
     "name": "stdout",
     "output_type": "stream",
     "text": [
      "Writing app/main.py\n"
     ]
    }
   ],
   "source": [
    "%%writefile app/main.py\n",
    "from fastapi import FastAPI, Request\n",
    "\n",
    "import json\n",
    "import numpy as np\n",
    "import os\n",
    "import logging\n",
    "\n",
    "\n",
    "from google.cloud import storage\n",
    "from predictor import Predictor\n",
    "\n",
    "app = FastAPI()\n",
    "\n",
    "predictor_instance = Predictor()\n",
    "loaded_predictor = predictor_instance.load(artifacts_uri = os.environ['AIP_STORAGE_URI'])\n",
    "\n",
    "@app.get(os.environ['AIP_HEALTH_ROUTE'], status_code=200)\n",
    "def health():\n",
    "    return {}\n",
    "\n",
    "\n",
    "@app.post(os.environ['AIP_PREDICT_ROUTE'])\n",
    "async def predict(request: Request):\n",
    "    body = await request.json()\n",
    "    instances = body[\"instances\"]\n",
    "    outputs = loaded_predictor.predict(instances)\n",
    "\n",
    "    return {\"predictions\": outputs[1].numpy().tolist()}"
   ]
  },
  {
   "cell_type": "code",
   "execution_count": 15,
   "id": "31867fb8-3a92-4108-8873-4dcec836e7c1",
   "metadata": {},
   "outputs": [
    {
     "name": "stdout",
     "output_type": "stream",
     "text": [
      "Writing app/prestart.sh\n"
     ]
    }
   ],
   "source": [
    "%%writefile app/prestart.sh\n",
    "#!/bin/bash\n",
    "export PORT=$AIP_HTTP_PORT"
   ]
  },
  {
   "cell_type": "code",
   "execution_count": 16,
   "id": "ad5819e5-6912-4ac7-9157-7960a9290448",
   "metadata": {},
   "outputs": [
    {
     "name": "stdout",
     "output_type": "stream",
     "text": [
      "Writing app/instances.json\n"
     ]
    }
   ],
   "source": [
    "%%writefile app/instances.json\n",
    "{\"instances\": {\"collaborative\": \"false\", \"album_name_pl\": [\"There's Really A Wolf\", \"Late Nights: The Album\", \"American Teen\", \"Crazy In Love\", \"Pony\"], \"album_uri_can\": \"spotify:album:5l83t3mbVgCrIe1VU9uJZR\", \"artist_followers_can\": 4339757.0, \"artist_genres_can\": \"'hawaiian hip hop', 'rap'\", \"artist_genres_pl\": [\"'hawaiian hip hop', 'rap'\", \"'chicago rap', 'dance pop', 'pop', 'pop rap', 'r&b', 'southern hip hop', 'trap', 'urban contemporary'\", \"'pop', 'pop r&b'\", \"'dance pop', 'pop', 'r&b'\", \"'chill r&b', 'pop', 'pop r&b', 'r&b', 'urban contemporary'\"], \"artist_name_can\": \"Russ\", \"artist_name_pl\": [\"Russ\", \"Jeremih\", \"Khalid\", \"Beyonc\\u00c3\\u00a9\", \"William Singe\"], \"artist_pop_can\": 82.0, \"artist_pop_pl\": [82.0, 80.0, 90.0, 87.0, 65.0], \"artist_uri_can\": \"spotify:artist:1z7b1Pr1rSlvWRzsW3HOrS\", \"artists_followers_pl\": [4339757.0, 5611842.0, 15046756.0, 30713126.0, 603837.0], \"description_pl\": \"\", \"duration_ms_can\": 237322.0, \"duration_ms_songs_pl\": [237506.0, 217200.0, 219080.0, 226400.0, 121739.0], \"n_songs_pl\": 8.0, \"name\": \"Lit Tunes \", \"num_albums_pl\": 8.0, \"num_artists_pl\": 8.0, \"track_name_can\": \"We Just Havent Met Yet\", \"track_name_pl\": [\"Losin Control\", \"Paradise\", \"Location\", \"Crazy In Love - Remix\", \"Pony\"], \"track_pop_can\": 57.0, \"track_pop_pl\": [79.0, 58.0, 83.0, 71.0, 57.0], \"duration_ms_seed_pl\": 51023.1, \"pid\": 1, \"track_uri_can\": \"spotify:track:0VzDv4wiuZsLsNOmfaUy2W\", \"track_uri_pl\": [\"spotify:track:4cxMGhkinTocPSVVKWIw0d\", \"spotify:track:1wNEBPo3nsbGCZRryI832I\", \"spotify:track:152lZdxL1OR0ZMW6KquMif\", \"spotify:track:2f4IuijXLxYOeBncS60GUD\", \"spotify:track:4Lj8paMFwyKTGfILLELVxt\"]}}"
   ]
  },
  {
   "cell_type": "code",
   "execution_count": 17,
   "id": "0f917754-6d33-46e3-978a-37e961b3c698",
   "metadata": {},
   "outputs": [],
   "source": [
    "#make it a package\n",
    "!touch app/__init__.py"
   ]
  },
  {
   "cell_type": "code",
   "execution_count": 20,
   "id": "4b5eec9d-ef40-4fa2-abb3-6805bf268b32",
   "metadata": {},
   "outputs": [
    {
     "name": "stdout",
     "output_type": "stream",
     "text": [
      "Copying gs://jt-merlin-scaling/nvt-last5-latest-12/nvt-processed/workflow/categories/unique.album_name_pl.parquet...\n",
      "Copying gs://jt-merlin-scaling/nvt-last5-latest-12/nvt-processed/workflow/categories/unique.artist_genres_can.parquet...\n",
      "Copying gs://jt-merlin-scaling/nvt-last5-latest-12/nvt-processed/workflow/categories/unique.artist_genres_pl.parquet...\n",
      "Copying gs://jt-merlin-scaling/nvt-last5-latest-12/nvt-processed/workflow/categories/unique.artist_name_can.parquet...\n",
      "- [4 files][ 23.6 MiB/ 23.6 MiB]                                                \n",
      "==> NOTE: You are performing a sequence of gsutil operations that may\n",
      "run significantly faster if you instead use gsutil -m cp ... Please\n",
      "see the -m section under \"gsutil help options\" for further information\n",
      "about when gsutil -m can be advantageous.\n",
      "\n",
      "Copying gs://jt-merlin-scaling/nvt-last5-latest-12/nvt-processed/workflow/categories/unique.artist_name_pl.parquet...\n",
      "Copying gs://jt-merlin-scaling/nvt-last5-latest-12/nvt-processed/workflow/categories/unique.collaborative.parquet...\n",
      "Copying gs://jt-merlin-scaling/nvt-last5-latest-12/nvt-processed/workflow/categories/unique.description_pl.parquet...\n",
      "Copying gs://jt-merlin-scaling/nvt-last5-latest-12/nvt-processed/workflow/categories/unique.name.parquet...\n",
      "Copying gs://jt-merlin-scaling/nvt-last5-latest-12/nvt-processed/workflow/categories/unique.pid.parquet...\n",
      "Copying gs://jt-merlin-scaling/nvt-last5-latest-12/nvt-processed/workflow/categories/unique.track_name_can.parquet...\n",
      "Copying gs://jt-merlin-scaling/nvt-last5-latest-12/nvt-processed/workflow/categories/unique.track_name_pl.parquet...\n",
      "Copying gs://jt-merlin-scaling/nvt-last5-latest-12/nvt-processed/workflow/categories/unique.track_uri_can.parquet...\n",
      "Copying gs://jt-merlin-scaling/nvt-last5-latest-12/nvt-processed/workflow/categories/unique.track_uri_pl.parquet...\n",
      "Copying gs://jt-merlin-scaling/nvt-last5-latest-12/nvt-processed/workflow/metadata.json...\n",
      "Copying gs://jt-merlin-scaling/nvt-last5-latest-12/nvt-processed/workflow/workflow.pkl...\n",
      "/ [15 files][284.9 MiB/284.9 MiB]                                               \n",
      "Operation completed over 15 objects/284.9 MiB.                                   \n"
     ]
    }
   ],
   "source": [
    "WORKFLOW_DIR='gs://jt-merlin-scaling/nvt-last5-latest-12/nvt-processed/workflow'\n",
    "\n",
    "!gsutil cp -r $WORKFLOW_DIR local_workflow"
   ]
  },
  {
   "cell_type": "code",
   "execution_count": 22,
   "id": "97279cae-3d96-4c55-b4d6-3c099d29e7f3",
   "metadata": {},
   "outputs": [
    {
     "name": "stdout",
     "output_type": "stream",
     "text": [
      "mkdir: cannot create directory ‘local_workflow_jw’: File exists\n"
     ]
    }
   ],
   "source": [
    "# !mkdir local_workflow\n",
    "!mkdir local_workflow_jw"
   ]
  },
  {
   "cell_type": "code",
   "execution_count": null,
   "id": "4faa7f09-d433-4539-bc8e-0651f34a404a",
   "metadata": {},
   "outputs": [],
   "source": [
    "# ! rm -rf {REPO_DOCKER_PATH_PREFIX}/Dockerfile.{SERVING_DOCKERNAME}"
   ]
  },
  {
   "cell_type": "code",
   "execution_count": 24,
   "id": "58c0ae2c-8802-4e00-bd85-20f9ca9b3f84",
   "metadata": {},
   "outputs": [],
   "source": [
    "# workflow_uri = 'gs://spotify-beam-v3/merlin-processed/workflow/2t-spotify-workflow'\n",
    "\n",
    "# !gsutil cp -r -m $workflow_uri local_workflow_jw"
   ]
  },
  {
   "cell_type": "code",
   "execution_count": 26,
   "id": "7fcf9b88-a3fe-4dd1-810c-79766b86e911",
   "metadata": {},
   "outputs": [
    {
     "name": "stdout",
     "output_type": "stream",
     "text": [
      "Writing Dockerfile\n"
     ]
    }
   ],
   "source": [
    "%%writefile Dockerfile\n",
    "\n",
    "FROM nvcr.io/nvidia/merlin/merlin-tensorflow:22.12\n",
    "WORKDIR /app \n",
    "\n",
    "COPY ./app/requirements.txt /requirements.txt\n",
    "RUN pip install -r /requirements.txt\n",
    "#DEBUG CHANGES!!\n",
    "RUN mkdir /docker_workflow\n",
    "# RUN mkdir /docker_model\n",
    "# ADD local_model /docker_model\n",
    "ADD local_workflow /docker_workflow\n",
    "#END DEBUG!\n",
    "\n",
    "\n",
    "COPY ./app /app\n",
    "EXPOSE 80\n",
    "    \n",
    "CMD [\"sh\", \"-c\", \"uvicorn main:app --host 0.0.0.0 --port $AIP_HTTP_PORT\"]"
   ]
  },
  {
   "cell_type": "code",
   "execution_count": 27,
   "id": "02f4a494-8121-450e-a403-15b28260e7c7",
   "metadata": {
    "collapsed": true,
    "jupyter": {
     "outputs_hidden": true
    },
    "tags": []
   },
   "outputs": [
    {
     "name": "stdout",
     "output_type": "stream",
     "text": [
      "Sending build context to Docker daemon  5.692GB\n",
      "Step 1/9 : FROM nvcr.io/nvidia/merlin/merlin-tensorflow:22.12\n",
      "22.12: Pulling from nvidia/merlin/merlin-tensorflow\n",
      "\n",
      "\u001b[1Bd16dc43b: Already exists \n",
      "\u001b[1B6ecee9ab: Already exists \n",
      "\u001b[1Be0981273: Already exists \n",
      "\u001b[1B03fa67ca: Already exists \n",
      "\u001b[1B7f8e4744: Already exists \n",
      "\u001b[1B73502f86: Already exists \n",
      "\u001b[1Bcf4cbe13: Already exists \n",
      "\u001b[1Bd495b912: Already exists \n",
      "\u001b[1B6cd12433: Already exists \n",
      "\u001b[1B3d945bde: Already exists \n",
      "\u001b[1B5d54675a: Already exists \n",
      "\u001b[1B25844090: Already exists \n",
      "\u001b[1Ba25c21ff: Already exists \n",
      "\u001b[1Bb700ef54: Already exists \n",
      "\u001b[1B21e94f24: Already exists \n",
      "\u001b[1B1b6fd612: Already exists \n",
      "\u001b[1Be39433f4: Already exists \n",
      "\u001b[1B1cba559e: Already exists \n",
      "\u001b[1B054fc370: Already exists \n",
      "\u001b[1Bc99b1680: Already exists \n",
      "\u001b[1B73498bf6: Already exists \n",
      "\u001b[1Bfd996372: Already exists \n",
      "\u001b[1Bc9ed50ff: Already exists \n",
      "\u001b[1Bdb3dcf22: Already exists \n",
      "\u001b[1Ba7f6f15d: Already exists \n",
      "\u001b[1Bed83fb5b: Already exists \n",
      "\u001b[1Bf4c1fb4d: Already exists \n",
      "\u001b[1Bfde98e21: Already exists \n",
      "\u001b[1Be75d70d4: Already exists \n",
      "\u001b[1Bc32a822c: Already exists \n",
      "\u001b[1B8a0bb031: Already exists \n",
      "\u001b[1Bf50cb482: Already exists \n",
      "\u001b[1B3e86e25e: Already exists \n",
      "\u001b[1B876a170d: Already exists \n",
      "\u001b[1Be232b0f5: Already exists \n",
      "\u001b[1Bb9f9b6c9: Already exists \n",
      "\u001b[1B8298fc0b: Already exists \n",
      "\u001b[1B691b8934: Already exists \n",
      "\u001b[1B1ed1ee46: Already exists \n",
      "\u001b[1B93f6923c: Already exists \n",
      "\u001b[1Be4335302: Already exists \n",
      "\u001b[1B4946c388: Already exists \n",
      "\u001b[1B938dbcf0: Already exists \n",
      "\u001b[1Bb3614609: Already exists \n",
      "\u001b[1Bf5de4fe3: Already exists \n",
      "\u001b[1B195fcb5a: Already exists \n",
      "\u001b[1Bb74ea0f6: Already exists \n",
      "\u001b[1Bf9173aa1: Already exists \n",
      "\u001b[1B8a632d89: Already exists \n",
      "\u001b[1B3bc35dd6: Already exists \n",
      "\u001b[1B8d81643b: Already exists \n",
      "\u001b[1B545517ec: Already exists \n",
      "\u001b[1B5f6703c7: Already exists \n",
      "\u001b[1Bfc0e145f: Already exists \n",
      "\u001b[1B07f81520: Already exists \n",
      "\u001b[1Bdd232241: Already exists \n",
      "\u001b[1B778801ed: Already exists \n",
      "\u001b[1B586dac26: Already exists \n",
      "\u001b[1B34ea3155: Already exists \n",
      "\u001b[1B1a0f51be: Already exists \n",
      "\u001b[1Bce497f3c: Already exists \n",
      "\u001b[1B433b96b6: Already exists \n",
      "\u001b[1B9ef6b855: Already exists \n",
      "\u001b[1Bc7813429: Already exists \n",
      "\u001b[1B8c082c64: Already exists \n",
      "\u001b[1B1808abed: Pulling fs layer \n",
      "\u001b[1B3b755746: Pulling fs layer \n",
      "\u001b[1B3a04f293: Pulling fs layer \n",
      "\u001b[1B59fc1d60: Pulling fs layer \n",
      "\u001b[1B50cb1ab8: Pulling fs layer \n",
      "\u001b[1Bd786ac79: Pulling fs layer \n",
      "\u001b[1Bb9abe298: Pulling fs layer \n",
      "\u001b[1Bd43d5c97: Pulling fs layer \n",
      "\u001b[1B520db73d: Pulling fs layer \n",
      "\u001b[1Be76f83a3: Pulling fs layer \n",
      "\u001b[1B95abb34f: Pulling fs layer \n",
      "\u001b[1B1e98f007: Pulling fs layer \n",
      "\u001b[1Bd9a71c79: Pulling fs layer \n",
      "\u001b[1B4cebdbb5: Pulling fs layer \n",
      "\u001b[1B547644c1: Pulling fs layer \n",
      "\u001b[1Be4a11a5d: Pull complete .42MB/24.42MBB5A\u001b[2K\u001b[15A\u001b[2K\u001b[15A\u001b[2K\u001b[16A\u001b[2K\u001b[16A\u001b[2K\u001b[16A\u001b[2K\u001b[16A\u001b[2K\u001b[16A\u001b[2K\u001b[16A\u001b[2K\u001b[16A\u001b[2K\u001b[16A\u001b[2K\u001b[15A\u001b[2K\u001b[15A\u001b[2K\u001b[16A\u001b[2K\u001b[15A\u001b[2K\u001b[15A\u001b[2K\u001b[15A\u001b[2K\u001b[15A\u001b[2K\u001b[15A\u001b[2K\u001b[15A\u001b[2K\u001b[16A\u001b[2K\u001b[15A\u001b[2K\u001b[16A\u001b[2K\u001b[15A\u001b[2K\u001b[16A\u001b[2K\u001b[15A\u001b[2K\u001b[16A\u001b[2K\u001b[15A\u001b[2K\u001b[16A\u001b[2K\u001b[15A\u001b[2K\u001b[16A\u001b[2K\u001b[15A\u001b[2K\u001b[14A\u001b[2K\u001b[15A\u001b[2K\u001b[14A\u001b[2K\u001b[15A\u001b[2K\u001b[14A\u001b[2K\u001b[15A\u001b[2K\u001b[14A\u001b[2K\u001b[15A\u001b[2K\u001b[14A\u001b[2K\u001b[16A\u001b[2K\u001b[14A\u001b[2K\u001b[15A\u001b[2K\u001b[14A\u001b[2K\u001b[15A\u001b[2K\u001b[14A\u001b[2K\u001b[16A\u001b[2K\u001b[14A\u001b[2K\u001b[16A\u001b[2K\u001b[14A\u001b[2K\u001b[15A\u001b[2K\u001b[15A\u001b[2K\u001b[15A\u001b[2K\u001b[13A\u001b[2K\u001b[13A\u001b[2K\u001b[15A\u001b[2K\u001b[14A\u001b[2K\u001b[15A\u001b[2K\u001b[14A\u001b[2K\u001b[15A\u001b[2K\u001b[14A\u001b[2K\u001b[12A\u001b[2K\u001b[14A\u001b[2K\u001b[15A\u001b[2K\u001b[14A\u001b[2K\u001b[15A\u001b[2K\u001b[15A\u001b[2K\u001b[14A\u001b[2K\u001b[10A\u001b[2K\u001b[9A\u001b[2K\u001b[8A\u001b[2K\u001b[8A\u001b[2K\u001b[8A\u001b[2K\u001b[7A\u001b[2K\u001b[5A\u001b[2K\u001b[4A\u001b[2K\u001b[16A\u001b[2K\u001b[16A\u001b[2K\u001b[16A\u001b[2K\u001b[1A\u001b[2K\u001b[16A\u001b[2K\u001b[1A\u001b[2K\u001b[16A\u001b[2K\u001b[1A\u001b[2K\u001b[16A\u001b[2K\u001b[2A\u001b[2K\u001b[2A\u001b[2K\u001b[2A\u001b[2K\u001b[2A\u001b[2K\u001b[2A\u001b[2K\u001b[16A\u001b[2K\u001b[2A\u001b[2K\u001b[16A\u001b[2K\u001b[2A\u001b[2K\u001b[16A\u001b[2K\u001b[2A\u001b[2K\u001b[16A\u001b[2K\u001b[2A\u001b[2K\u001b[2A\u001b[2K\u001b[2A\u001b[2K\u001b[2A\u001b[2K\u001b[2A\u001b[2K\u001b[2A\u001b[2K\u001b[2A\u001b[2K\u001b[2A\u001b[2K\u001b[2A\u001b[2K\u001b[16A\u001b[2K\u001b[2A\u001b[2K\u001b[16A\u001b[2K\u001b[2A\u001b[2K\u001b[16A\u001b[2K\u001b[16A\u001b[2K\u001b[2A\u001b[2K\u001b[16A\u001b[2K\u001b[16A\u001b[2K\u001b[2A\u001b[2K\u001b[16A\u001b[2K\u001b[2A\u001b[2K\u001b[2A\u001b[2K\u001b[2A\u001b[2K\u001b[2A\u001b[2K\u001b[2A\u001b[2K\u001b[2A\u001b[2K\u001b[2A\u001b[2K\u001b[2A\u001b[2K\u001b[16A\u001b[2K\u001b[2A\u001b[2K\u001b[16A\u001b[2K\u001b[2A\u001b[2K\u001b[2A\u001b[2K\u001b[2A\u001b[2K\u001b[16A\u001b[2K\u001b[2A\u001b[2K\u001b[16A\u001b[2K\u001b[2A\u001b[2K\u001b[16A\u001b[2K\u001b[2A\u001b[2K\u001b[16A\u001b[2K\u001b[2A\u001b[2K\u001b[16A\u001b[2K\u001b[2A\u001b[2K\u001b[16A\u001b[2K\u001b[2A\u001b[2K\u001b[16A\u001b[2K\u001b[2A\u001b[2K\u001b[16A\u001b[2K\u001b[2A\u001b[2K\u001b[16A\u001b[2K\u001b[2A\u001b[2K\u001b[16A\u001b[2K\u001b[2A\u001b[2K\u001b[16A\u001b[2K\u001b[2A\u001b[2K\u001b[16A\u001b[2K\u001b[2A\u001b[2K\u001b[16A\u001b[2K\u001b[2A\u001b[2K\u001b[16A\u001b[2K\u001b[2A\u001b[2K\u001b[16A\u001b[2K\u001b[2A\u001b[2K\u001b[16A\u001b[2K\u001b[2A\u001b[2K\u001b[16A\u001b[2K\u001b[16A\u001b[2K\u001b[16A\u001b[2K\u001b[2A\u001b[2K\u001b[2A\u001b[2K\u001b[2A\u001b[2K\u001b[16A\u001b[2K\u001b[2A\u001b[2K\u001b[16A\u001b[2K\u001b[16A\u001b[2K\u001b[16A\u001b[2K\u001b[2A\u001b[2K\u001b[2A\u001b[2K\u001b[2A\u001b[2K\u001b[2A\u001b[2K\u001b[2A\u001b[2K\u001b[2A\u001b[2K\u001b[2A\u001b[2K\u001b[2A\u001b[2K\u001b[2A\u001b[2K\u001b[2A\u001b[2K\u001b[2A\u001b[2K\u001b[2A\u001b[2K\u001b[2A\u001b[2K\u001b[2A\u001b[2K\u001b[2A\u001b[2K\u001b[2A\u001b[2K\u001b[16A\u001b[2K\u001b[2A\u001b[2K\u001b[2A\u001b[2K\u001b[2A\u001b[2K\u001b[2A\u001b[2K\u001b[2A\u001b[2K\u001b[2A\u001b[2K\u001b[2A\u001b[2K\u001b[2A\u001b[2K\u001b[15A\u001b[2K\u001b[2A\u001b[2K\u001b[15A\u001b[2K\u001b[15A\u001b[2K\u001b[2A\u001b[2K\u001b[15A\u001b[2K\u001b[15A\u001b[2K\u001b[2A\u001b[2K\u001b[15A\u001b[2K\u001b[2A\u001b[2K\u001b[15A\u001b[2K\u001b[2A\u001b[2K\u001b[15A\u001b[2K\u001b[2A\u001b[2K\u001b[15A\u001b[2K\u001b[2A\u001b[2K\u001b[15A\u001b[2K\u001b[2A\u001b[2K\u001b[15A\u001b[2K\u001b[2A\u001b[2K\u001b[15A\u001b[2K\u001b[2A\u001b[2K\u001b[15A\u001b[2K\u001b[2A\u001b[2K\u001b[15A\u001b[2K\u001b[2A\u001b[2K\u001b[15A\u001b[2K\u001b[2A\u001b[2K\u001b[15A\u001b[2K\u001b[2A\u001b[2K\u001b[15A\u001b[2K\u001b[2A\u001b[2K\u001b[15A\u001b[2K\u001b[2A\u001b[2K\u001b[15A\u001b[2K\u001b[2A\u001b[2K\u001b[15A\u001b[2K\u001b[2A\u001b[2K\u001b[15A\u001b[2K\u001b[2A\u001b[2K\u001b[15A\u001b[2K\u001b[2A\u001b[2K\u001b[15A\u001b[2K\u001b[2A\u001b[2K\u001b[15A\u001b[2K\u001b[2A\u001b[2K\u001b[15A\u001b[2K\u001b[2A\u001b[2K\u001b[15A\u001b[2K\u001b[2A\u001b[2K\u001b[15A\u001b[2K\u001b[2A\u001b[2K\u001b[15A\u001b[2K\u001b[2A\u001b[2K\u001b[15A\u001b[2K\u001b[2A\u001b[2K\u001b[15A\u001b[2K\u001b[2A\u001b[2K\u001b[15A\u001b[2K\u001b[2A\u001b[2K\u001b[15A\u001b[2K\u001b[15A\u001b[2K\u001b[15A\u001b[2K\u001b[2A\u001b[2K\u001b[15A\u001b[2K\u001b[2A\u001b[2K\u001b[2A\u001b[2K\u001b[15A\u001b[2K\u001b[15A\u001b[2K\u001b[15A\u001b[2K\u001b[15A\u001b[2K\u001b[15A\u001b[2K\u001b[15A\u001b[2K\u001b[15A\u001b[2K\u001b[15A\u001b[2K\u001b[15A\u001b[2K\u001b[15A\u001b[2K\u001b[15A\u001b[2K\u001b[15A\u001b[2K\u001b[15A\u001b[2K\u001b[15A\u001b[2K\u001b[15A\u001b[2K\u001b[15A\u001b[2K\u001b[15A\u001b[2K\u001b[15A\u001b[2K\u001b[14A\u001b[2K\u001b[14A\u001b[2K\u001b[14A\u001b[2K\u001b[14A\u001b[2K\u001b[14A\u001b[2K\u001b[14A\u001b[2K\u001b[14A\u001b[2K\u001b[14A\u001b[2K\u001b[14A\u001b[2K\u001b[14A\u001b[2K\u001b[14A\u001b[2K\u001b[14A\u001b[2K\u001b[14A\u001b[2K\u001b[14A\u001b[2K\u001b[14A\u001b[2K\u001b[14A\u001b[2K\u001b[14A\u001b[2K\u001b[14A\u001b[2K\u001b[14A\u001b[2K\u001b[14A\u001b[2K\u001b[14A\u001b[2K\u001b[14A\u001b[2K\u001b[14A\u001b[2K\u001b[14A\u001b[2K\u001b[14A\u001b[2K\u001b[14A\u001b[2K\u001b[14A\u001b[2K\u001b[14A\u001b[2K\u001b[14A\u001b[2K\u001b[14A\u001b[2K\u001b[14A\u001b[2K\u001b[14A\u001b[2K\u001b[14A\u001b[2K\u001b[14A\u001b[2K\u001b[14A\u001b[2K\u001b[14A\u001b[2K\u001b[14A\u001b[2K\u001b[14A\u001b[2K\u001b[14A\u001b[2K\u001b[14A\u001b[2K\u001b[14A\u001b[2K\u001b[14A\u001b[2K\u001b[14A\u001b[2K\u001b[14A\u001b[2K\u001b[14A\u001b[2K\u001b[14A\u001b[2K\u001b[14A\u001b[2K\u001b[14A\u001b[2K\u001b[14A\u001b[2K\u001b[14A\u001b[2K\u001b[14A\u001b[2K\u001b[14A\u001b[2K\u001b[14A\u001b[2K\u001b[14A\u001b[2K\u001b[14A\u001b[2K\u001b[14A\u001b[2K\u001b[14A\u001b[2K\u001b[14A\u001b[2K\u001b[14A\u001b[2K\u001b[14A\u001b[2K\u001b[14A\u001b[2K\u001b[14A\u001b[2K\u001b[14A\u001b[2K\u001b[14A\u001b[2K\u001b[14A\u001b[2K\u001b[14A\u001b[2K\u001b[14A\u001b[2K\u001b[14A\u001b[2K\u001b[14A\u001b[2K\u001b[14A\u001b[2K\u001b[14A\u001b[2K\u001b[14A\u001b[2K\u001b[14A\u001b[2K\u001b[14A\u001b[2K\u001b[14A\u001b[2K\u001b[14A\u001b[2K\u001b[14A\u001b[2K\u001b[14A\u001b[2K\u001b[14A\u001b[2K\u001b[14A\u001b[2K\u001b[14A\u001b[2K\u001b[14A\u001b[2K\u001b[14A\u001b[2K\u001b[14A\u001b[2K\u001b[14A\u001b[2K\u001b[14A\u001b[2K\u001b[14A\u001b[2K\u001b[14A\u001b[2K\u001b[14A\u001b[2K\u001b[14A\u001b[2K\u001b[14A\u001b[2K\u001b[14A\u001b[2K\u001b[14A\u001b[2K\u001b[14A\u001b[2K\u001b[14A\u001b[2K\u001b[14A\u001b[2K\u001b[14A\u001b[2K\u001b[14A\u001b[2K\u001b[14A\u001b[2K\u001b[14A\u001b[2K\u001b[14A\u001b[2K\u001b[14A\u001b[2K\u001b[14A\u001b[2K\u001b[14A\u001b[2K\u001b[14A\u001b[2K\u001b[14A\u001b[2K\u001b[14A\u001b[2K\u001b[14A\u001b[2K\u001b[14A\u001b[2K\u001b[14A\u001b[2K\u001b[14A\u001b[2K\u001b[14A\u001b[2K\u001b[14A\u001b[2K\u001b[14A\u001b[2K\u001b[14A\u001b[2K\u001b[14A\u001b[2K\u001b[14A\u001b[2K\u001b[14A\u001b[2K\u001b[14A\u001b[2K\u001b[13A\u001b[2K\u001b[13A\u001b[2K\u001b[13A\u001b[2K\u001b[12A\u001b[2K\u001b[12A\u001b[2K\u001b[12A\u001b[2K\u001b[12A\u001b[2K\u001b[12A\u001b[2K\u001b[12A\u001b[2K\u001b[11A\u001b[2K\u001b[11A\u001b[2K\u001b[10A\u001b[2K\u001b[10A\u001b[2K\u001b[9A\u001b[2K\u001b[9A\u001b[2K\u001b[8A\u001b[2K\u001b[8A\u001b[2K\u001b[8A\u001b[2K\u001b[8A\u001b[2K\u001b[8A\u001b[2K\u001b[8A\u001b[2K\u001b[8A\u001b[2K\u001b[8A\u001b[2K\u001b[7A\u001b[2K\u001b[7A\u001b[2K\u001b[6A\u001b[2K\u001b[6A\u001b[2K\u001b[5A\u001b[2K\u001b[5A\u001b[2K\u001b[5A\u001b[2K\u001b[4A\u001b[2K\u001b[3A\u001b[2K\u001b[2A\u001b[2K\u001b[2A\u001b[2K\u001b[2A\u001b[2K\u001b[2A\u001b[2K\u001b[2A\u001b[2K\u001b[2A\u001b[2K\u001b[2A\u001b[2K\u001b[2A\u001b[2K\u001b[2A\u001b[2K\u001b[2A\u001b[2K\u001b[2A\u001b[2K\u001b[2A\u001b[2K\u001b[2A\u001b[2K\u001b[2A\u001b[2K\u001b[2A\u001b[2K\u001b[2A\u001b[2K\u001b[2A\u001b[2K\u001b[2A\u001b[2K\u001b[2A\u001b[2K\u001b[2A\u001b[2K\u001b[2A\u001b[2K\u001b[2A\u001b[2K\u001b[2A\u001b[2K\u001b[2A\u001b[2K\u001b[2A\u001b[2K\u001b[2A\u001b[2K\u001b[2A\u001b[2K\u001b[2A\u001b[2K\u001b[2A\u001b[2K\u001b[2A\u001b[2K\u001b[2A\u001b[2K\u001b[2A\u001b[2K\u001b[2A\u001b[2K\u001b[2A\u001b[2K\u001b[2A\u001b[2K\u001b[2A\u001b[2K\u001b[2A\u001b[2K\u001b[2A\u001b[2K\u001b[2A\u001b[2K\u001b[2A\u001b[2K\u001b[2A\u001b[2K\u001b[2A\u001b[2K\u001b[2A\u001b[2K\u001b[2A\u001b[2K\u001b[2A\u001b[2K\u001b[2A\u001b[2K\u001b[2A\u001b[2K\u001b[2A\u001b[2K\u001b[2A\u001b[2K\u001b[2A\u001b[2K\u001b[2A\u001b[2K\u001b[2A\u001b[2K\u001b[2A\u001b[2K\u001b[2A\u001b[2K\u001b[2A\u001b[2K\u001b[2A\u001b[2K\u001b[2A\u001b[2K\u001b[2A\u001b[2K\u001b[2A\u001b[2K\u001b[2A\u001b[2K\u001b[2A\u001b[2K\u001b[2A\u001b[2K\u001b[2A\u001b[2K\u001b[2A\u001b[2K\u001b[2A\u001b[2K\u001b[2A\u001b[2K\u001b[2A\u001b[2K\u001b[2A\u001b[2K\u001b[2A\u001b[2K\u001b[2A\u001b[2K\u001b[2A\u001b[2K\u001b[2A\u001b[2K\u001b[2A\u001b[2K\u001b[2A\u001b[2K\u001b[2A\u001b[2K\u001b[2A\u001b[2K\u001b[2A\u001b[2K\u001b[2A\u001b[2K\u001b[2A\u001b[2K\u001b[2A\u001b[2K\u001b[2A\u001b[2K\u001b[2A\u001b[2K\u001b[2A\u001b[2K\u001b[2A\u001b[2K\u001b[2A\u001b[2K\u001b[2A\u001b[2K\u001b[2A\u001b[2K\u001b[2A\u001b[2K\u001b[2A\u001b[2K\u001b[2A\u001b[2K\u001b[2A\u001b[2K\u001b[2A\u001b[2K\u001b[2A\u001b[2K\u001b[2A\u001b[2K\u001b[2A\u001b[2K\u001b[2A\u001b[2K\u001b[2A\u001b[2K\u001b[2A\u001b[2K\u001b[2A\u001b[2K\u001b[2A\u001b[2K\u001b[2A\u001b[2K\u001b[2A\u001b[2K\u001b[2A\u001b[2K\u001b[2A\u001b[2K\u001b[2A\u001b[2K\u001b[2A\u001b[2K\u001b[2A\u001b[2K\u001b[2A\u001b[2K\u001b[2A\u001b[2K\u001b[2A\u001b[2K\u001b[2A\u001b[2K\u001b[2A\u001b[2K\u001b[2A\u001b[2K\u001b[2A\u001b[2K\u001b[2A\u001b[2K\u001b[2A\u001b[2K\u001b[2A\u001b[2K\u001b[2A\u001b[2K\u001b[2A\u001b[2K\u001b[2A\u001b[2K\u001b[2A\u001b[2K\u001b[2A\u001b[2K\u001b[2A\u001b[2K\u001b[2A\u001b[2K\u001b[2A\u001b[2K\u001b[2A\u001b[2K\u001b[2A\u001b[2K\u001b[2A\u001b[2K\u001b[2A\u001b[2K\u001b[2A\u001b[2K\u001b[2A\u001b[2K\u001b[2A\u001b[2K\u001b[2A\u001b[2K\u001b[2A\u001b[2K\u001b[2A\u001b[2K\u001b[2A\u001b[2K\u001b[2A\u001b[2K\u001b[2A\u001b[2K\u001b[2A\u001b[2K\u001b[2A\u001b[2K\u001b[2A\u001b[2K\u001b[2A\u001b[2K\u001b[2A\u001b[2K\u001b[2A\u001b[2K\u001b[2A\u001b[2K\u001b[2A\u001b[2K\u001b[2A\u001b[2K\u001b[2A\u001b[2K\u001b[2A\u001b[2K\u001b[2A\u001b[2K\u001b[2A\u001b[2K\u001b[2A\u001b[2K\u001b[2A\u001b[2K\u001b[2A\u001b[2K\u001b[2A\u001b[2K\u001b[2A\u001b[2K\u001b[2A\u001b[2K\u001b[2A\u001b[2K\u001b[2A\u001b[2K\u001b[2A\u001b[2K\u001b[2A\u001b[2K\u001b[2A\u001b[2K\u001b[2A\u001b[2K\u001b[2A\u001b[2K\u001b[2A\u001b[2K\u001b[2A\u001b[2K\u001b[2A\u001b[2K\u001b[2A\u001b[2K\u001b[2A\u001b[2K\u001b[2A\u001b[2K\u001b[2A\u001b[2K\u001b[2A\u001b[2K\u001b[2A\u001b[2K\u001b[2A\u001b[2K\u001b[2A\u001b[2K\u001b[2A\u001b[2K\u001b[2A\u001b[2K\u001b[2A\u001b[2K\u001b[2A\u001b[2K\u001b[2A\u001b[2K\u001b[2A\u001b[2K\u001b[2A\u001b[2K\u001b[2A\u001b[2K\u001b[2A\u001b[2K\u001b[2A\u001b[2K\u001b[2A\u001b[2K\u001b[2A\u001b[2K\u001b[2A\u001b[2K\u001b[1A\u001b[2K\u001b[1A\u001b[2K\u001b[1A\u001b[2K\u001b[1A\u001b[2K\u001b[1A\u001b[2KDigest: sha256:f1714efb94467b1b8f2dfadb27f4b6703568b616ceba85dec4df36dc581c339e\n",
      "Status: Downloaded newer image for nvcr.io/nvidia/merlin/merlin-tensorflow:22.12\n",
      " ---> 58c045557af1\n",
      "Step 2/9 : WORKDIR /app\n",
      " ---> Running in bdfcce164568\n",
      "Removing intermediate container bdfcce164568\n",
      " ---> 4fcdae65edc1\n",
      "Step 3/9 : COPY ./app/requirements.txt /requirements.txt\n",
      " ---> 44bec85c456f\n",
      "Step 4/9 : RUN pip install -r /requirements.txt\n",
      " ---> Running in fe709fc3b583\n",
      "Collecting uvicorn[standard]==0.15.0\n",
      "  Downloading uvicorn-0.15.0-py3-none-any.whl (54 kB)\n",
      "Collecting gunicorn==20.1.0\n",
      "  Downloading gunicorn-20.1.0-py3-none-any.whl (79 kB)\n",
      "Collecting fastapi==0.68.1\n",
      "  Downloading fastapi-0.68.1-py3-none-any.whl (52 kB)\n",
      "Collecting google-cloud-aiplatform\n",
      "  Downloading google_cloud_aiplatform-1.22.1-py2.py3-none-any.whl (2.4 MB)\n",
      "Requirement already satisfied: merlin-models in /usr/local/lib/python3.8/dist-packages (from -r /requirements.txt (line 7)) (0.11.0)\n",
      "Requirement already satisfied: nvtabular in /usr/local/lib/python3.8/dist-packages (from -r /requirements.txt (line 8)) (1.8.0)\n",
      "Collecting gcsfs\n",
      "  Downloading gcsfs-2023.3.0-py2.py3-none-any.whl (26 kB)\n",
      "Collecting google-cloud-storage\n",
      "  Downloading google_cloud_storage-2.7.0-py2.py3-none-any.whl (110 kB)\n",
      "Collecting h11>=0.8\n",
      "  Downloading h11-0.14.0-py3-none-any.whl (58 kB)\n",
      "Collecting asgiref>=3.4.0\n",
      "  Downloading asgiref-3.6.0-py3-none-any.whl (23 kB)\n",
      "Requirement already satisfied: click>=7.0 in /usr/local/lib/python3.8/dist-packages (from uvicorn[standard]==0.15.0->-r /requirements.txt (line 1)) (8.1.3)\n",
      "Collecting websockets>=9.1; extra == \"standard\"\n",
      "  Downloading websockets-10.4-cp38-cp38-manylinux_2_5_x86_64.manylinux1_x86_64.manylinux_2_17_x86_64.manylinux2014_x86_64.whl (106 kB)\n",
      "Collecting httptools==0.2.*; extra == \"standard\"\n",
      "  Downloading httptools-0.2.0-cp38-cp38-manylinux1_x86_64.whl (354 kB)\n",
      "Collecting python-dotenv>=0.13; extra == \"standard\"\n",
      "  Downloading python_dotenv-1.0.0-py3-none-any.whl (19 kB)\n",
      "Collecting watchgod>=0.6; extra == \"standard\"\n",
      "  Downloading watchgod-0.8.2-py3-none-any.whl (12 kB)\n",
      "Requirement already satisfied: PyYAML>=5.1; extra == \"standard\" in /usr/local/lib/python3.8/dist-packages (from uvicorn[standard]==0.15.0->-r /requirements.txt (line 1)) (6.0)\n",
      "Collecting uvloop!=0.15.0,!=0.15.1,>=0.14.0; (sys_platform != \"win32\" and (sys_platform != \"cygwin\" and platform_python_implementation != \"PyPy\")) and extra == \"standard\"\n",
      "  Downloading uvloop-0.17.0-cp38-cp38-manylinux_2_17_x86_64.manylinux2014_x86_64.whl (4.6 MB)\n",
      "Requirement already satisfied: setuptools>=3.0 in /usr/lib/python3/dist-packages (from gunicorn==20.1.0->-r /requirements.txt (line 2)) (45.2.0)\n",
      "Collecting pydantic!=1.7,!=1.7.1,!=1.7.2,!=1.7.3,!=1.8,!=1.8.1,<2.0.0,>=1.6.2\n",
      "  Downloading pydantic-1.10.5-cp38-cp38-manylinux_2_17_x86_64.manylinux2014_x86_64.whl (3.2 MB)\n",
      "Collecting starlette==0.14.2\n",
      "  Downloading starlette-0.14.2-py3-none-any.whl (60 kB)\n",
      "Collecting shapely<2.0.0\n",
      "  Downloading Shapely-1.8.5.post1-cp38-cp38-manylinux_2_12_x86_64.manylinux2010_x86_64.whl (2.1 MB)\n",
      "Collecting proto-plus<2.0.0dev,>=1.22.0\n",
      "  Downloading proto_plus-1.22.2-py3-none-any.whl (47 kB)\n",
      "Collecting google-cloud-resource-manager<3.0.0dev,>=1.3.3\n",
      "  Downloading google_cloud_resource_manager-1.9.0-py2.py3-none-any.whl (276 kB)\n",
      "Requirement already satisfied: protobuf!=3.20.0,!=3.20.1,!=4.21.0,!=4.21.1,!=4.21.2,!=4.21.3,!=4.21.4,!=4.21.5,<5.0.0dev,>=3.19.5 in /usr/local/lib/python3.8/dist-packages (from google-cloud-aiplatform->-r /requirements.txt (line 6)) (3.19.6)\n",
      "Collecting packaging<22.0.0dev,>=14.3\n",
      "  Downloading packaging-21.3-py3-none-any.whl (40 kB)\n",
      "Collecting google-cloud-bigquery<4.0.0dev,>=1.15.0\n",
      "  Downloading google_cloud_bigquery-3.6.0-py2.py3-none-any.whl (215 kB)\n",
      "Collecting google-api-core[grpc]!=2.0.*,!=2.1.*,!=2.2.*,!=2.3.*,!=2.4.*,!=2.5.*,!=2.6.*,!=2.7.*,<3.0.0dev,>=1.32.0\n",
      "  Downloading google_api_core-2.11.0-py3-none-any.whl (120 kB)\n",
      "Requirement already satisfied: merlin-dataloader>=0.0.2 in /usr/local/lib/python3.8/dist-packages (from merlin-models->-r /requirements.txt (line 7)) (0.0.4)\n",
      "Requirement already satisfied: merlin-core>=0.2.0 in /usr/local/lib/python3.8/dist-packages (from merlin-models->-r /requirements.txt (line 7)) (0.10.0)\n",
      "Requirement already satisfied: scipy in /usr/local/lib/python3.8/dist-packages (from nvtabular->-r /requirements.txt (line 8)) (1.9.3)\n",
      "Requirement already satisfied: requests in /usr/local/lib/python3.8/dist-packages (from gcsfs->-r /requirements.txt (line 9)) (2.28.1)\n",
      "Requirement already satisfied: aiohttp!=4.0.0a0,!=4.0.0a1 in /usr/local/lib/python3.8/dist-packages (from gcsfs->-r /requirements.txt (line 9)) (3.8.3)\n",
      "Requirement already satisfied: google-auth-oauthlib in /usr/local/lib/python3.8/dist-packages (from gcsfs->-r /requirements.txt (line 9)) (0.4.6)\n",
      "Requirement already satisfied: decorator>4.1.2 in /usr/local/lib/python3.8/dist-packages (from gcsfs->-r /requirements.txt (line 9)) (5.1.1)\n",
      "Collecting fsspec==2023.3.0\n",
      "  Downloading fsspec-2023.3.0-py3-none-any.whl (145 kB)\n",
      "Requirement already satisfied: google-auth>=1.2 in /usr/local/lib/python3.8/dist-packages (from gcsfs->-r /requirements.txt (line 9)) (2.15.0)\n",
      "Collecting google-cloud-core<3.0dev,>=2.3.0\n",
      "  Downloading google_cloud_core-2.3.2-py2.py3-none-any.whl (29 kB)\n",
      "Collecting google-resumable-media>=2.3.2\n",
      "  Downloading google_resumable_media-2.4.1-py2.py3-none-any.whl (77 kB)\n",
      "Requirement already satisfied: anyio<4,>=3.0.0 in /usr/local/lib/python3.8/dist-packages (from watchgod>=0.6; extra == \"standard\"->uvicorn[standard]==0.15.0->-r /requirements.txt (line 1)) (3.6.2)\n",
      "Requirement already satisfied: typing-extensions>=4.2.0 in /usr/local/lib/python3.8/dist-packages (from pydantic!=1.7,!=1.7.1,!=1.7.2,!=1.7.3,!=1.8,!=1.8.1,<2.0.0,>=1.6.2->fastapi==0.68.1->-r /requirements.txt (line 3)) (4.4.0)\n",
      "Collecting grpc-google-iam-v1<1.0.0dev,>=0.12.4\n",
      "  Downloading grpc_google_iam_v1-0.12.6-py2.py3-none-any.whl (26 kB)\n",
      "Requirement already satisfied: pyparsing!=3.0.5,>=2.0.2 in /usr/local/lib/python3.8/dist-packages (from packaging<22.0.0dev,>=14.3->google-cloud-aiplatform->-r /requirements.txt (line 6)) (3.0.9)\n",
      "Collecting grpcio<2.0dev,>=1.47.0\n",
      "  Downloading grpcio-1.51.3-cp38-cp38-manylinux_2_17_x86_64.manylinux2014_x86_64.whl (4.8 MB)\n",
      "Requirement already satisfied: python-dateutil<3.0dev,>=2.7.2 in /usr/local/lib/python3.8/dist-packages (from google-cloud-bigquery<4.0.0dev,>=1.15.0->google-cloud-aiplatform->-r /requirements.txt (line 6)) (2.8.2)\n",
      "Requirement already satisfied: googleapis-common-protos<2.0dev,>=1.56.2 in /usr/local/lib/python3.8/dist-packages (from google-api-core[grpc]!=2.0.*,!=2.1.*,!=2.2.*,!=2.3.*,!=2.4.*,!=2.5.*,!=2.6.*,!=2.7.*,<3.0.0dev,>=1.32.0->google-cloud-aiplatform->-r /requirements.txt (line 6)) (1.57.0)\n",
      "Collecting grpcio-status<2.0dev,>=1.33.2; extra == \"grpc\"\n",
      "  Downloading grpcio_status-1.51.3-py3-none-any.whl (5.1 kB)\n",
      "Requirement already satisfied: tqdm>=4.0 in /usr/local/lib/python3.8/dist-packages (from merlin-core>=0.2.0->merlin-models->-r /requirements.txt (line 7)) (4.64.1)\n",
      "Requirement already satisfied: pandas<1.4.0dev0,>=1.2.0 in /usr/local/lib/python3.8/dist-packages (from merlin-core>=0.2.0->merlin-models->-r /requirements.txt (line 7)) (1.3.5)\n",
      "Requirement already satisfied: distributed>=2022.3.0 in /usr/local/lib/python3.8/dist-packages (from merlin-core>=0.2.0->merlin-models->-r /requirements.txt (line 7)) (2022.7.1)\n",
      "Requirement already satisfied: betterproto<2.0.0 in /usr/local/lib/python3.8/dist-packages (from merlin-core>=0.2.0->merlin-models->-r /requirements.txt (line 7)) (1.2.5)\n",
      "Requirement already satisfied: tensorflow-metadata>=1.2.0 in /usr/local/lib/python3.8/dist-packages (from merlin-core>=0.2.0->merlin-models->-r /requirements.txt (line 7)) (1.12.0)\n",
      "Requirement already satisfied: pyarrow>=5.0.0 in /usr/local/lib/python3.8/dist-packages (from merlin-core>=0.2.0->merlin-models->-r /requirements.txt (line 7)) (8.0.0)\n",
      "Requirement already satisfied: numba>=0.54 in /usr/local/lib/python3.8/dist-packages (from merlin-core>=0.2.0->merlin-models->-r /requirements.txt (line 7)) (0.56.4)\n",
      "Requirement already satisfied: dask>=2022.3.0 in /usr/local/lib/python3.8/dist-packages (from merlin-core>=0.2.0->merlin-models->-r /requirements.txt (line 7)) (2022.7.1)\n",
      "Requirement already satisfied: numpy<1.26.0,>=1.18.5 in /usr/local/lib/python3.8/dist-packages (from scipy->nvtabular->-r /requirements.txt (line 8)) (1.22.4)\n",
      "Requirement already satisfied: certifi>=2017.4.17 in /usr/lib/python3/dist-packages (from requests->gcsfs->-r /requirements.txt (line 9)) (2019.11.28)\n",
      "Requirement already satisfied: urllib3<1.27,>=1.21.1 in /usr/local/lib/python3.8/dist-packages (from requests->gcsfs->-r /requirements.txt (line 9)) (1.26.13)\n",
      "Requirement already satisfied: idna<4,>=2.5 in /usr/lib/python3/dist-packages (from requests->gcsfs->-r /requirements.txt (line 9)) (2.8)\n",
      "Requirement already satisfied: charset-normalizer<3,>=2 in /usr/local/lib/python3.8/dist-packages (from requests->gcsfs->-r /requirements.txt (line 9)) (2.1.1)\n",
      "Requirement already satisfied: attrs>=17.3.0 in /usr/local/lib/python3.8/dist-packages (from aiohttp!=4.0.0a0,!=4.0.0a1->gcsfs->-r /requirements.txt (line 9)) (22.2.0)\n",
      "Requirement already satisfied: yarl<2.0,>=1.0 in /usr/local/lib/python3.8/dist-packages (from aiohttp!=4.0.0a0,!=4.0.0a1->gcsfs->-r /requirements.txt (line 9)) (1.8.2)\n",
      "Requirement already satisfied: aiosignal>=1.1.2 in /usr/local/lib/python3.8/dist-packages (from aiohttp!=4.0.0a0,!=4.0.0a1->gcsfs->-r /requirements.txt (line 9)) (1.3.1)\n",
      "Requirement already satisfied: multidict<7.0,>=4.5 in /usr/local/lib/python3.8/dist-packages (from aiohttp!=4.0.0a0,!=4.0.0a1->gcsfs->-r /requirements.txt (line 9)) (6.0.4)\n",
      "Requirement already satisfied: async-timeout<5.0,>=4.0.0a3 in /usr/local/lib/python3.8/dist-packages (from aiohttp!=4.0.0a0,!=4.0.0a1->gcsfs->-r /requirements.txt (line 9)) (4.0.2)\n",
      "Requirement already satisfied: frozenlist>=1.1.1 in /usr/local/lib/python3.8/dist-packages (from aiohttp!=4.0.0a0,!=4.0.0a1->gcsfs->-r /requirements.txt (line 9)) (1.3.3)\n",
      "Requirement already satisfied: requests-oauthlib>=0.7.0 in /usr/local/lib/python3.8/dist-packages (from google-auth-oauthlib->gcsfs->-r /requirements.txt (line 9)) (1.3.1)\n",
      "Requirement already satisfied: six>=1.9.0 in /usr/lib/python3/dist-packages (from google-auth>=1.2->gcsfs->-r /requirements.txt (line 9)) (1.14.0)\n",
      "Requirement already satisfied: rsa<5,>=3.1.4; python_version >= \"3.6\" in /usr/local/lib/python3.8/dist-packages (from google-auth>=1.2->gcsfs->-r /requirements.txt (line 9)) (4.9)\n",
      "Requirement already satisfied: cachetools<6.0,>=2.0.0 in /usr/local/lib/python3.8/dist-packages (from google-auth>=1.2->gcsfs->-r /requirements.txt (line 9)) (5.2.0)\n",
      "Requirement already satisfied: pyasn1-modules>=0.2.1 in /usr/local/lib/python3.8/dist-packages (from google-auth>=1.2->gcsfs->-r /requirements.txt (line 9)) (0.2.8)\n",
      "Collecting google-crc32c<2.0dev,>=1.0\n",
      "  Downloading google_crc32c-1.5.0-cp38-cp38-manylinux_2_17_x86_64.manylinux2014_x86_64.whl (32 kB)\n",
      "Requirement already satisfied: sniffio>=1.1 in /usr/local/lib/python3.8/dist-packages (from anyio<4,>=3.0.0->watchgod>=0.6; extra == \"standard\"->uvicorn[standard]==0.15.0->-r /requirements.txt (line 1)) (1.3.0)\n",
      "Requirement already satisfied: pytz>=2017.3 in /usr/local/lib/python3.8/dist-packages (from pandas<1.4.0dev0,>=1.2.0->merlin-core>=0.2.0->merlin-models->-r /requirements.txt (line 7)) (2022.7)\n",
      "Requirement already satisfied: tblib>=1.6.0 in /usr/local/lib/python3.8/dist-packages (from distributed>=2022.3.0->merlin-core>=0.2.0->merlin-models->-r /requirements.txt (line 7)) (1.7.0)\n",
      "Requirement already satisfied: sortedcontainers!=2.0.0,!=2.0.1 in /usr/local/lib/python3.8/dist-packages (from distributed>=2022.3.0->merlin-core>=0.2.0->merlin-models->-r /requirements.txt (line 7)) (2.4.0)\n",
      "Requirement already satisfied: zict>=0.1.3 in /usr/local/lib/python3.8/dist-packages (from distributed>=2022.3.0->merlin-core>=0.2.0->merlin-models->-r /requirements.txt (line 7)) (2.2.0)\n",
      "Requirement already satisfied: psutil>=5.0 in /usr/local/lib/python3.8/dist-packages (from distributed>=2022.3.0->merlin-core>=0.2.0->merlin-models->-r /requirements.txt (line 7)) (5.9.4)\n",
      "Requirement already satisfied: tornado<6.2,>=6.0.3 in /usr/local/lib/python3.8/dist-packages (from distributed>=2022.3.0->merlin-core>=0.2.0->merlin-models->-r /requirements.txt (line 7)) (6.1)\n",
      "Requirement already satisfied: jinja2 in /usr/local/lib/python3.8/dist-packages (from distributed>=2022.3.0->merlin-core>=0.2.0->merlin-models->-r /requirements.txt (line 7)) (3.1.2)\n",
      "Requirement already satisfied: toolz>=0.8.2 in /usr/local/lib/python3.8/dist-packages (from distributed>=2022.3.0->merlin-core>=0.2.0->merlin-models->-r /requirements.txt (line 7)) (0.12.0)\n",
      "Requirement already satisfied: locket>=1.0.0 in /usr/local/lib/python3.8/dist-packages (from distributed>=2022.3.0->merlin-core>=0.2.0->merlin-models->-r /requirements.txt (line 7)) (1.0.0)\n",
      "Requirement already satisfied: cloudpickle>=1.5.0 in /usr/local/lib/python3.8/dist-packages (from distributed>=2022.3.0->merlin-core>=0.2.0->merlin-models->-r /requirements.txt (line 7)) (2.2.0)\n",
      "Requirement already satisfied: msgpack>=0.6.0 in /usr/local/lib/python3.8/dist-packages (from distributed>=2022.3.0->merlin-core>=0.2.0->merlin-models->-r /requirements.txt (line 7)) (1.0.4)\n",
      "Requirement already satisfied: stringcase in /usr/local/lib/python3.8/dist-packages (from betterproto<2.0.0->merlin-core>=0.2.0->merlin-models->-r /requirements.txt (line 7)) (1.2.0)\n",
      "Requirement already satisfied: grpclib in /usr/local/lib/python3.8/dist-packages (from betterproto<2.0.0->merlin-core>=0.2.0->merlin-models->-r /requirements.txt (line 7)) (0.4.3)\n",
      "Requirement already satisfied: absl-py<2.0.0,>=0.9 in /usr/local/lib/python3.8/dist-packages (from tensorflow-metadata>=1.2.0->merlin-core>=0.2.0->merlin-models->-r /requirements.txt (line 7)) (1.3.0)\n",
      "Requirement already satisfied: llvmlite<0.40,>=0.39.0dev0 in /usr/local/lib/python3.8/dist-packages (from numba>=0.54->merlin-core>=0.2.0->merlin-models->-r /requirements.txt (line 7)) (0.39.1)\n",
      "Requirement already satisfied: importlib-metadata; python_version < \"3.9\" in /usr/local/lib/python3.8/dist-packages (from numba>=0.54->merlin-core>=0.2.0->merlin-models->-r /requirements.txt (line 7)) (5.2.0)\n",
      "Requirement already satisfied: partd>=0.3.10 in /usr/local/lib/python3.8/dist-packages (from dask>=2022.3.0->merlin-core>=0.2.0->merlin-models->-r /requirements.txt (line 7)) (1.3.0)\n",
      "Requirement already satisfied: oauthlib>=3.0.0 in /usr/local/lib/python3.8/dist-packages (from requests-oauthlib>=0.7.0->google-auth-oauthlib->gcsfs->-r /requirements.txt (line 9)) (3.2.2)\n",
      "Requirement already satisfied: pyasn1>=0.1.3 in /usr/local/lib/python3.8/dist-packages (from rsa<5,>=3.1.4; python_version >= \"3.6\"->google-auth>=1.2->gcsfs->-r /requirements.txt (line 9)) (0.4.8)\n",
      "Requirement already satisfied: heapdict in /usr/local/lib/python3.8/dist-packages (from zict>=0.1.3->distributed>=2022.3.0->merlin-core>=0.2.0->merlin-models->-r /requirements.txt (line 7)) (1.0.1)\n",
      "Requirement already satisfied: MarkupSafe>=2.0 in /usr/local/lib/python3.8/dist-packages (from jinja2->distributed>=2022.3.0->merlin-core>=0.2.0->merlin-models->-r /requirements.txt (line 7)) (2.1.1)\n",
      "Requirement already satisfied: h2<5,>=3.1.0 in /usr/local/lib/python3.8/dist-packages (from grpclib->betterproto<2.0.0->merlin-core>=0.2.0->merlin-models->-r /requirements.txt (line 7)) (4.1.0)\n",
      "Requirement already satisfied: zipp>=0.5 in /usr/local/lib/python3.8/dist-packages (from importlib-metadata; python_version < \"3.9\"->numba>=0.54->merlin-core>=0.2.0->merlin-models->-r /requirements.txt (line 7)) (3.11.0)\n",
      "Requirement already satisfied: hpack<5,>=4.0 in /usr/local/lib/python3.8/dist-packages (from h2<5,>=3.1.0->grpclib->betterproto<2.0.0->merlin-core>=0.2.0->merlin-models->-r /requirements.txt (line 7)) (4.0.0)\n",
      "Requirement already satisfied: hyperframe<7,>=6.0 in /usr/local/lib/python3.8/dist-packages (from h2<5,>=3.1.0->grpclib->betterproto<2.0.0->merlin-core>=0.2.0->merlin-models->-r /requirements.txt (line 7)) (6.0.1)\n",
      "\u001b[91mERROR: dask-cudf 22.8.0a0+304.g6ca81bbc78.dirty requires cupy-cuda118<12,>=9.5.0, which is not installed.\n",
      "ERROR: cudf 22.8.0a0+304.g6ca81bbc78.dirty requires cupy-cuda118<12,>=9.5.0, which is not installed.\n",
      "ERROR: tensorflow 2.10.0+nv22.11 has requirement flatbuffers>=2.0, but you'll have flatbuffers 1.12 which is incompatible.\n",
      "ERROR: tensorflow 2.10.0+nv22.11 has requirement tensorboard<2.11,>=2.10, but you'll have tensorboard 2.9.1 which is incompatible.\n",
      "\u001b[0m\u001b[91mERROR: tensorflow 2.10.0+nv22.11 has requirement tensorflow-estimator<2.11,>=2.10.0, but you'll have tensorflow-estimator 2.9.0 which is incompatible.\n",
      "\u001b[0m\u001b[91mERROR: merlin-core 0.10.0 has requirement fsspec==2022.5.0, but you'll have fsspec 2023.3.0 which is incompatible.\n",
      "\u001b[0m\u001b[91mERROR: jupyter-server 2.0.6 has requirement tornado>=6.2.0, but you'll have tornado 6.1 which is incompatible.\n",
      "\u001b[0m\u001b[91mERROR: grpcio-channelz 1.51.1 has requirement protobuf>=4.21.6, but you'll have protobuf 3.19.6 which is incompatible.\n",
      "\u001b[0m\u001b[91mERROR: cudf 22.8.0a0+304.g6ca81bbc78.dirty has requirement cuda-python<11.7.1,>=11.5, but you'll have cuda-python 11.8.1 which is incompatible.\n",
      "ERROR: cudf 22.8.0a0+304.g6ca81bbc78.dirty has requirement protobuf<3.21.0a0,>=3.20.1, but you'll have protobuf 3.19.6 which is incompatible.\n",
      "\u001b[0m\u001b[91mERROR: grpcio-status 1.51.3 has requirement protobuf>=4.21.6, but you'll have protobuf 3.19.6 which is incompatible.\n",
      "\u001b[0mInstalling collected packages: h11, asgiref, websockets, httptools, python-dotenv, watchgod, uvloop, uvicorn, gunicorn, pydantic, starlette, fastapi, shapely, proto-plus, grpcio, grpcio-status, google-api-core, grpc-google-iam-v1, google-cloud-resource-manager, google-cloud-core, google-crc32c, google-resumable-media, google-cloud-storage, packaging, google-cloud-bigquery, google-cloud-aiplatform, fsspec, gcsfs\n",
      "  Attempting uninstall: grpcio\n",
      "    Found existing installation: grpcio 1.42.0\n",
      "    Uninstalling grpcio-1.42.0:\n",
      "      Successfully uninstalled grpcio-1.42.0\n",
      "  Attempting uninstall: packaging\n",
      "    Found existing installation: packaging 22.0\n",
      "    Uninstalling packaging-22.0:\n",
      "      Successfully uninstalled packaging-22.0\n",
      "  Attempting uninstall: fsspec\n",
      "    Found existing installation: fsspec 2022.5.0\n",
      "    Uninstalling fsspec-2022.5.0:\n",
      "      Successfully uninstalled fsspec-2022.5.0\n",
      "Successfully installed asgiref-3.6.0 fastapi-0.68.1 fsspec-2023.3.0 gcsfs-2023.3.0 google-api-core-2.11.0 google-cloud-aiplatform-1.22.1 google-cloud-bigquery-3.6.0 google-cloud-core-2.3.2 google-cloud-resource-manager-1.9.0 google-cloud-storage-2.7.0 google-crc32c-1.5.0 google-resumable-media-2.4.1 grpc-google-iam-v1-0.12.6 grpcio-1.51.3 grpcio-status-1.51.3 gunicorn-20.1.0 h11-0.14.0 httptools-0.2.0 packaging-21.3 proto-plus-1.22.2 pydantic-1.10.5 python-dotenv-1.0.0 shapely-1.8.5.post1 starlette-0.14.2 uvicorn-0.15.0 uvloop-0.17.0 watchgod-0.8.2 websockets-10.4\n",
      "Removing intermediate container fe709fc3b583\n",
      " ---> baf6967dd08e\n",
      "Step 5/9 : RUN mkdir /docker_workflow\n",
      " ---> Running in 64e76767b157\n",
      "Removing intermediate container 64e76767b157\n",
      " ---> d54d5d8889fa\n",
      "Step 6/9 : ADD local_workflow /docker_workflow\n",
      " ---> 933285838ab4\n",
      "Step 7/9 : COPY ./app /app\n",
      " ---> ae41ece594d7\n",
      "Step 8/9 : EXPOSE 80\n",
      " ---> Running in 18e26c280606\n",
      "Removing intermediate container 18e26c280606\n",
      " ---> 37c9573cbe98\n",
      "Step 9/9 : CMD [\"sh\", \"-c\", \"uvicorn main:app --host 0.0.0.0 --port $AIP_HTTP_PORT\"]\n",
      " ---> Running in 7447db019c1f\n",
      "Removing intermediate container 7447db019c1f\n",
      " ---> f8377365a975\n",
      "Successfully built f8377365a975\n",
      "Successfully tagged us-central1-docker.pkg.dev/hybrid-vertex/sp-mm-cpr/mm-prediction-cpr-jt:latest\n"
     ]
    }
   ],
   "source": [
    "SERVER_IMAGE = \"mm-prediction-cpr-jt\"  # @param {type:\"string\"} \n",
    "REMOTE_IMAGE_NAME=f\"{LOCATION}-docker.pkg.dev/{PROJECT_ID}/{REPOSITORY}/{SERVER_IMAGE}\"\n",
    "\n",
    "!docker build -t $REMOTE_IMAGE_NAME .\n",
    "# !gcloud builds submit -t $REMOTE_IMAGE_NAME ."
   ]
  },
  {
   "cell_type": "code",
   "execution_count": 28,
   "id": "cb6f716c-76e2-4776-a9af-ca82b42510ca",
   "metadata": {},
   "outputs": [],
   "source": [
    "docker run -p 80:8080 \\\n",
    "            --name=mm-prediction-cpr-jt \\\n",
    "            -e AIP_HTTP_PORT=8080 \\\n",
    "            -e AIP_HEALTH_ROUTE=/health \\\n",
    "            -e AIP_PREDICT_ROUTE=/predict \\\n",
    "            -e AIP_STORAGE_URI=gs://spotify-beam-v3/merlin-processed/workflow/query-tower-model-22-12 \\\n",
    "            us-central1-docker.pkg.dev/hybrid-vertex/sp-mm-cpr/mm-prediction-cpr-jt"
   ]
  },
  {
   "cell_type": "code",
   "execution_count": 30,
   "id": "5ac7e553-2da3-4efa-9a04-fcef7efeb0ce",
   "metadata": {},
   "outputs": [
    {
     "name": "stdout",
     "output_type": "stream",
     "text": [
      "curl: (7) Failed to connect to localhost port 80: Connection refused\n"
     ]
    }
   ],
   "source": [
    "! curl localhost/health"
   ]
  },
  {
   "cell_type": "code",
   "execution_count": 32,
   "id": "1b63e1fd-857e-4f39-b824-bbf84e37cd9d",
   "metadata": {},
   "outputs": [
    {
     "name": "stdout",
     "output_type": "stream",
     "text": [
      "mm-prediction-cpr-jt\n",
      "mm-prediction-cpr-jt\n"
     ]
    }
   ],
   "source": [
    "! docker stop $SERVER_IMAGE\n",
    "! docker rm $SERVER_IMAGE"
   ]
  },
  {
   "cell_type": "code",
   "execution_count": 33,
   "id": "3633ec94-9886-4e2b-90d0-c9e8a611058a",
   "metadata": {
    "collapsed": true,
    "jupyter": {
     "outputs_hidden": true
    },
    "tags": []
   },
   "outputs": [
    {
     "name": "stdout",
     "output_type": "stream",
     "text": [
      "Using default tag: latest\n",
      "The push refers to repository [us-central1-docker.pkg.dev/hybrid-vertex/sp-mm-cpr/mm-prediction-cpr-jt]\n",
      "\n",
      "\u001b[1B16900418: Preparing \n",
      "\u001b[1Bfa907c00: Preparing \n",
      "\u001b[1B86ab44ad: Preparing \n",
      "\u001b[1Bac39c605: Preparing \n",
      "\u001b[1B087c6cbb: Preparing \n",
      "\u001b[1Bb5b3875a: Preparing \n",
      "\u001b[1B2e747ad7: Preparing \n",
      "\u001b[1B46caf956: Preparing \n",
      "\u001b[1Bc4f4a731: Preparing \n",
      "\u001b[1B6f8ac904: Preparing \n",
      "\u001b[1B55970ccc: Preparing \n",
      "\u001b[1B1e82e910: Preparing \n",
      "\u001b[1B7c23e98f: Preparing \n",
      "\u001b[1B70ded861: Preparing \n",
      "\u001b[1Bda794091: Preparing \n",
      "\u001b[1B493f5d44: Preparing \n",
      "\u001b[1Bcaa9de82: Preparing \n",
      "\u001b[1B03ad2a31: Preparing \n",
      "\u001b[1B5e1b9e48: Preparing \n",
      "\u001b[1Bf4addbfc: Preparing \n",
      "\u001b[1B81e7ae87: Preparing \n",
      "\u001b[1B3d5ddcb4: Preparing \n",
      "\u001b[1Ba992b719: Preparing \n",
      "\u001b[1Bf10e020a: Preparing \n",
      "\u001b[1B7f70fff9: Preparing \n",
      "\u001b[1B2562fda1: Preparing \n",
      "\u001b[1Bdecbb6f6: Preparing \n",
      "\u001b[1B1cea2b76: Preparing \n",
      "\u001b[1Bfcaf77a9: Preparing \n",
      "\u001b[1Be31ca3c7: Preparing \n",
      "\u001b[1Bf58ddb35: Preparing \n",
      "\u001b[1B61786022: Preparing \n",
      "\u001b[1B1f7b3d75: Preparing \n",
      "\u001b[1Be5c17b0b: Preparing \n",
      "\u001b[1B15f32335: Preparing \n",
      "\u001b[1Bfb54d10a: Preparing \n",
      "\u001b[1B90be1950: Preparing \n",
      "\u001b[1B84fa095a: Preparing \n",
      "\u001b[1Bcab8959e: Preparing \n",
      "\u001b[1B7d764727: Preparing \n",
      "\u001b[1Bd4d05916: Preparing \n",
      "\u001b[1B34553782: Preparing \n",
      "\u001b[1Be86689d1: Preparing \n",
      "\u001b[38Be747ad7: Waiting g \n",
      "\u001b[1B1f9c0e0a: Preparing \n",
      "\u001b[1B75a3e25e: Preparing \n",
      "\u001b[40B6caf956: Waiting g \n",
      "\u001b[40B4f4a731: Waiting g \n",
      "\u001b[1B0b4929c1: Preparing \n",
      "\u001b[1Bd49243b5: Preparing \n",
      "\u001b[1B34ceba88: Preparing \n",
      "\u001b[25Bcea2b76: Waiting g \n",
      "\u001b[48B5b3875a: Waiting g \n",
      "\u001b[1Bbd207a0a: Preparing \n",
      "\u001b[11Bf9c0e0a: Waiting g \n",
      "\u001b[1B1eae2464: Preparing \n",
      "\u001b[1Bdf2e75c1: Preparing \n",
      "\u001b[9Bd49243b5: Waiting g \n",
      "\u001b[1B19fd6cda: Preparing \n",
      "\u001b[15B5a3e25e: Waiting g \n",
      "\u001b[10Bf0c03c7: Waiting g \n",
      "\u001b[16Be8ae666: Waiting g \n",
      "\u001b[11B25f046a: Waiting g \n",
      "\u001b[11Bd207a0a: Waiting g \n",
      "\u001b[1Bb4761a81: Preparing \n",
      "\u001b[1B72edea27: Preparing \n",
      "\u001b[33B5f32335: Waiting g \n",
      "\u001b[21B4ca1ed9: Waiting g \n",
      "\u001b[21Bb4929c1: Waiting g \n",
      "\u001b[35Bb54d10a: Waiting g \n",
      "\u001b[53Be1b9e48: Waiting g \n",
      "\u001b[52B1e7ae87: Waiting g \n",
      "\u001b[17Bf2e75c1: Waiting g \n",
      "\u001b[43B1786022: Waiting g \n",
      "\u001b[64Be82e910: Waiting g \n",
      "\u001b[50Becbb6f6: Waiting g \n",
      "\u001b[65Bc23e98f: Waiting g \n",
      "\u001b[1Bea05bcc3: Preparing \n",
      "\u001b[21B9fd6cda: Waiting g \n",
      "\u001b[26Bc892765: Waiting g \n",
      "\u001b[1Bc5ba8f95: Preparing \n",
      "\u001b[1Bbe4d1ae6: Preparing \n",
      "\u001b[1B2e76641b: Preparing \n",
      "\u001b[1B925be13d: Preparing \n",
      "\u001b[1B7d9e38c0: Preparing \n",
      "\u001b[53B5c17b0b: Waiting g \n",
      "\u001b[80B6caf956: Pushed   2.577GB/2.552GBex/workbench/merlin-torch-t4rec-22-12 2K\u001b[86A\u001b[2K\u001b[82A\u001b[2K\u001b[80A\u001b[2K\u001b[84A\u001b[2K\u001b[82A\u001b[2K\u001b[84A\u001b[2K\u001b[86A\u001b[2K\u001b[84A\u001b[2K\u001b[80A\u001b[2K\u001b[79A\u001b[2K\u001b[80A\u001b[2K\u001b[81A\u001b[2K\u001b[80A\u001b[2K\u001b[81A\u001b[2K\u001b[84A\u001b[2K\u001b[81A\u001b[2K\u001b[84A\u001b[2K\u001b[86A\u001b[2K\u001b[78A\u001b[2K\u001b[86A\u001b[2K\u001b[84A\u001b[2K\u001b[86A\u001b[2K\u001b[84A\u001b[2K\u001b[80A\u001b[2K\u001b[84A\u001b[2K\u001b[80A\u001b[2K\u001b[84A\u001b[2K\u001b[86A\u001b[2K\u001b[80A\u001b[2K\u001b[77A\u001b[2K\u001b[80A\u001b[2K\u001b[84A\u001b[2K\u001b[80A\u001b[2K\u001b[84A\u001b[2K\u001b[86A\u001b[2K\u001b[81A\u001b[2K\u001b[86A\u001b[2K\u001b[84A\u001b[2K\u001b[86A\u001b[2K\u001b[86A\u001b[2K\u001b[86A\u001b[2K\u001b[76A\u001b[2K\u001b[77A\u001b[2K\u001b[84A\u001b[2K\u001b[80A\u001b[2K\u001b[84A\u001b[2K\u001b[86A\u001b[2K\u001b[84A\u001b[2K\u001b[74A\u001b[2K\u001b[84A\u001b[2K\u001b[80A\u001b[2K\u001b[73A\u001b[2K\u001b[80A\u001b[2K\u001b[86A\u001b[2K\u001b[80A\u001b[2K\u001b[84A\u001b[2K\u001b[73A\u001b[2K\u001b[86A\u001b[2K\u001b[72A\u001b[2K\u001b[72A\u001b[2K\u001b[84A\u001b[2K\u001b[74A\u001b[2K\u001b[84A\u001b[2K\u001b[72A\u001b[2K\u001b[74A\u001b[2K\u001b[71A\u001b[2K\u001b[71A\u001b[2K\u001b[86A\u001b[2K\u001b[84A\u001b[2K\u001b[74A\u001b[2K\u001b[84A\u001b[2K\u001b[71A\u001b[2K\u001b[84A\u001b[2K\u001b[70A\u001b[2K\u001b[74A\u001b[2K\u001b[84A\u001b[2K\u001b[80A\u001b[2K\u001b[70A\u001b[2K\u001b[80A\u001b[2K\u001b[70A\u001b[2K\u001b[74A\u001b[2K\u001b[70A\u001b[2K\u001b[80A\u001b[2K\u001b[70A\u001b[2K\u001b[80A\u001b[2K\u001b[70A\u001b[2K\u001b[84A\u001b[2K\u001b[70A\u001b[2K\u001b[80A\u001b[2K\u001b[86A\u001b[2K\u001b[80A\u001b[2K\u001b[74A\u001b[2K\u001b[80A\u001b[2K\u001b[69A\u001b[2K\u001b[86A\u001b[2K\u001b[80A\u001b[2K\u001b[86A\u001b[2K\u001b[80A\u001b[2K\u001b[69A\u001b[2K\u001b[80A\u001b[2K\u001b[84A\u001b[2K\u001b[80A\u001b[2K\u001b[86A\u001b[2K\u001b[68A\u001b[2K\u001b[74A\u001b[2K\u001b[68A\u001b[2K\u001b[67A\u001b[2K\u001b[86A\u001b[2K\u001b[67A\u001b[2K\u001b[68A\u001b[2K\u001b[68A\u001b[2K\u001b[74A\u001b[2K\u001b[80A\u001b[2K\u001b[86A\u001b[2K\u001b[80A\u001b[2K\u001b[74A\u001b[2K\u001b[86A\u001b[2K\u001b[66A\u001b[2K\u001b[86A\u001b[2K\u001b[67A\u001b[2K\u001b[66A\u001b[2K\u001b[86A\u001b[2K\u001b[80A\u001b[2K\u001b[68A\u001b[2K\u001b[86A\u001b[2K\u001b[68A\u001b[2K\u001b[67A\u001b[2K\u001b[80A\u001b[2K\u001b[67A\u001b[2K\u001b[66A\u001b[2K\u001b[68A\u001b[2K\u001b[86A\u001b[2K\u001b[68A\u001b[2K\u001b[86A\u001b[2K\u001b[80A\u001b[2K\u001b[68A\u001b[2K\u001b[86A\u001b[2K\u001b[66A\u001b[2K\u001b[86A\u001b[2K\u001b[66A\u001b[2K\u001b[80A\u001b[2K\u001b[66A\u001b[2K\u001b[67A\u001b[2K\u001b[66A\u001b[2K\u001b[68A\u001b[2K\u001b[80A\u001b[2K\u001b[67A\u001b[2K\u001b[80A\u001b[2K\u001b[67A\u001b[2K\u001b[80A\u001b[2K\u001b[68A\u001b[2K\u001b[80A\u001b[2K\u001b[66A\u001b[2K\u001b[80A\u001b[2K\u001b[66A\u001b[2K\u001b[80A\u001b[2K\u001b[66A\u001b[2K\u001b[67A\u001b[2K\u001b[80A\u001b[2K\u001b[67A\u001b[2K\u001b[80A\u001b[2K\u001b[86A\u001b[2K\u001b[80A\u001b[2K\u001b[86A\u001b[2K\u001b[66A\u001b[2K\u001b[68A\u001b[2K\u001b[80A\u001b[2K\u001b[66A\u001b[2K\u001b[80A\u001b[2K\u001b[86A\u001b[2K\u001b[66A\u001b[2K\u001b[68A\u001b[2K\u001b[66A\u001b[2K\u001b[68A\u001b[2K\u001b[66A\u001b[2K\u001b[68A\u001b[2K\u001b[80A\u001b[2K\u001b[67A\u001b[2K\u001b[80A\u001b[2K\u001b[86A\u001b[2K\u001b[80A\u001b[2K\u001b[68A\u001b[2K\u001b[80A\u001b[2K\u001b[66A\u001b[2K\u001b[80A\u001b[2K\u001b[66A\u001b[2K\u001b[67A\u001b[2K\u001b[86A\u001b[2K\u001b[67A\u001b[2K\u001b[80A\u001b[2K\u001b[67A\u001b[2K\u001b[68A\u001b[2K\u001b[67A\u001b[2K\u001b[68A\u001b[2K\u001b[67A\u001b[2K\u001b[68A\u001b[2K\u001b[80A\u001b[2K\u001b[86A\u001b[2K\u001b[80A\u001b[2K\u001b[86A\u001b[2K\u001b[80A\u001b[2K\u001b[66A\u001b[2K\u001b[80A\u001b[2K\u001b[67A\u001b[2K\u001b[80A\u001b[2K\u001b[67A\u001b[2K\u001b[67A\u001b[2K\u001b[67A\u001b[2K\u001b[86A\u001b[2K\u001b[67A\u001b[2K\u001b[86A\u001b[2K\u001b[67A\u001b[2K\u001b[86A\u001b[2K\u001b[86A\u001b[2K\u001b[80A\u001b[2K\u001b[86A\u001b[2K\u001b[80A\u001b[2K\u001b[68A\u001b[2K\u001b[80A\u001b[2K\u001b[68A\u001b[2K\u001b[67A\u001b[2K\u001b[66A\u001b[2K\u001b[67A\u001b[2K\u001b[80A\u001b[2K\u001b[67A\u001b[2K\u001b[80A\u001b[2K\u001b[66A\u001b[2K\u001b[80A\u001b[2K\u001b[67A\u001b[2K\u001b[68A\u001b[2K\u001b[67A\u001b[2K\u001b[68A\u001b[2K\u001b[67A\u001b[2K\u001b[68A\u001b[2K\u001b[80A\u001b[2K\u001b[68A\u001b[2K\u001b[66A\u001b[2K\u001b[68A\u001b[2K\u001b[67A\u001b[2K\u001b[68A\u001b[2K\u001b[66A\u001b[2K\u001b[68A\u001b[2K\u001b[86A\u001b[2K\u001b[86A\u001b[2K\u001b[67A\u001b[2K\u001b[86A\u001b[2K\u001b[67A\u001b[2K\u001b[86A\u001b[2K\u001b[68A\u001b[2K\u001b[86A\u001b[2K\u001b[68A\u001b[2K\u001b[86A\u001b[2K\u001b[66A\u001b[2K\u001b[67A\u001b[2K\u001b[66A\u001b[2K\u001b[68A\u001b[2K\u001b[86A\u001b[2K\u001b[66A\u001b[2K\u001b[86A\u001b[2K\u001b[67A\u001b[2K\u001b[86A\u001b[2K\u001b[67A\u001b[2K\u001b[80A\u001b[2K\u001b[68A\u001b[2K\u001b[66A\u001b[2K\u001b[68A\u001b[2K\u001b[66A\u001b[2K\u001b[68A\u001b[2K\u001b[67A\u001b[2K\u001b[86A\u001b[2K\u001b[67A\u001b[2K\u001b[80A\u001b[2K\u001b[68A\u001b[2K\u001b[67A\u001b[2K\u001b[67A\u001b[2K\u001b[80A\u001b[2K\u001b[67A\u001b[2K\u001b[68A\u001b[2K\u001b[66A\u001b[2K\u001b[86A\u001b[2K\u001b[80A\u001b[2K\u001b[66A\u001b[2K\u001b[68A\u001b[2K\u001b[66A\u001b[2K\u001b[80A\u001b[2K\u001b[66A\u001b[2K\u001b[80A\u001b[2K\u001b[68A\u001b[2K\u001b[80A\u001b[2K\u001b[68A\u001b[2K\u001b[80A\u001b[2K\u001b[67A\u001b[2K\u001b[80A\u001b[2K\u001b[67A\u001b[2K\u001b[80A\u001b[2K\u001b[67A\u001b[2K\u001b[66A\u001b[2K\u001b[86A\u001b[2K\u001b[68A\u001b[2K\u001b[86A\u001b[2K\u001b[68A\u001b[2K\u001b[66A\u001b[2K\u001b[68A\u001b[2K\u001b[86A\u001b[2K\u001b[66A\u001b[2K\u001b[86A\u001b[2K\u001b[80A\u001b[2K\u001b[86A\u001b[2K\u001b[80A\u001b[2K\u001b[67A\u001b[2K\u001b[80A\u001b[2K\u001b[67A\u001b[2K\u001b[80A\u001b[2K\u001b[86A\u001b[2K\u001b[68A\u001b[2K\u001b[80A\u001b[2K\u001b[66A\u001b[2K\u001b[80A\u001b[2K\u001b[66A\u001b[2K\u001b[80A\u001b[2K\u001b[68A\u001b[2K\u001b[65A\u001b[2K\u001b[67A\u001b[2K\u001b[68A\u001b[2K\u001b[67A\u001b[2K\u001b[68A\u001b[2K\u001b[67A\u001b[2K\u001b[68A\u001b[2K\u001b[80A\u001b[2K\u001b[68A\u001b[2K\u001b[80A\u001b[2K\u001b[66A\u001b[2K\u001b[80A\u001b[2K\u001b[63A\u001b[2K\u001b[80A\u001b[2K\u001b[67A\u001b[2K\u001b[66A\u001b[2K\u001b[67A\u001b[2K\u001b[68A\u001b[2K\u001b[80A\u001b[2K\u001b[68A\u001b[2K\u001b[80A\u001b[2K\u001b[68A\u001b[2K\u001b[66A\u001b[2K\u001b[68A\u001b[2K\u001b[66A\u001b[2K\u001b[68A\u001b[2K\u001b[67A\u001b[2K\u001b[61A\u001b[2K\u001b[68A\u001b[2K\u001b[80A\u001b[2K\u001b[68A\u001b[2K\u001b[67A\u001b[2K\u001b[68A\u001b[2K\u001b[67A\u001b[2K\u001b[60A\u001b[2K\u001b[68A\u001b[2K\u001b[66A\u001b[2K\u001b[67A\u001b[2K\u001b[80A\u001b[2K\u001b[68A\u001b[2K\u001b[80A\u001b[2K\u001b[66A\u001b[2K\u001b[67A\u001b[2K\u001b[80A\u001b[2K\u001b[67A\u001b[2K\u001b[80A\u001b[2K\u001b[66A\u001b[2K\u001b[58A\u001b[2K\u001b[66A\u001b[2K\u001b[68A\u001b[2K\u001b[80A\u001b[2K\u001b[67A\u001b[2K\u001b[80A\u001b[2K\u001b[67A\u001b[2K\u001b[57A\u001b[2K\u001b[67A\u001b[2K\u001b[68A\u001b[2K\u001b[67A\u001b[2K\u001b[68A\u001b[2K\u001b[67A\u001b[2K\u001b[66A\u001b[2K\u001b[67A\u001b[2K\u001b[67A\u001b[2K\u001b[68A\u001b[2K\u001b[80A\u001b[2K\u001b[66A\u001b[2K\u001b[67A\u001b[2K\u001b[80A\u001b[2K\u001b[68A\u001b[2K\u001b[80A\u001b[2K\u001b[68A\u001b[2K\u001b[67A\u001b[2K\u001b[54A\u001b[2K\u001b[67A\u001b[2K\u001b[68A\u001b[2K\u001b[66A\u001b[2K\u001b[67A\u001b[2K\u001b[80A\u001b[2K\u001b[67A\u001b[2K\u001b[68A\u001b[2K\u001b[67A\u001b[2K\u001b[80A\u001b[2K\u001b[67A\u001b[2K\u001b[52A\u001b[2K\u001b[67A\u001b[2K\u001b[66A\u001b[2K\u001b[67A\u001b[2K\u001b[66A\u001b[2K\u001b[80A\u001b[2K\u001b[66A\u001b[2K\u001b[67A\u001b[2K\u001b[68A\u001b[2K\u001b[67A\u001b[2K\u001b[68A\u001b[2K\u001b[66A\u001b[2K\u001b[68A\u001b[2K\u001b[66A\u001b[2K\u001b[67A\u001b[2K\u001b[66A\u001b[2K\u001b[80A\u001b[2K\u001b[68A\u001b[2K\u001b[80A\u001b[2K\u001b[68A\u001b[2K\u001b[66A\u001b[2K\u001b[68A\u001b[2K\u001b[66A\u001b[2K\u001b[67A\u001b[2K\u001b[66A\u001b[2K\u001b[67A\u001b[2K\u001b[68A\u001b[2K\u001b[67A\u001b[2K\u001b[68A\u001b[2K\u001b[47A\u001b[2K\u001b[68A\u001b[2K\u001b[80A\u001b[2K\u001b[68A\u001b[2K\u001b[68A\u001b[2K\u001b[80A\u001b[2K\u001b[80A\u001b[2K\u001b[66A\u001b[2K\u001b[45A\u001b[2K\u001b[68A\u001b[2K\u001b[80A\u001b[2K\u001b[68A\u001b[2K\u001b[80A\u001b[2K\u001b[68A\u001b[2K\u001b[44A\u001b[2K\u001b[68A\u001b[2K\u001b[66A\u001b[2K\u001b[80A\u001b[2K\u001b[66A\u001b[2K\u001b[80A\u001b[2K\u001b[43A\u001b[2K\u001b[80A\u001b[2K\u001b[68A\u001b[2K\u001b[66A\u001b[2K\u001b[67A\u001b[2K\u001b[42A\u001b[2K\u001b[67A\u001b[2K\u001b[66A\u001b[2K\u001b[67A\u001b[2K\u001b[66A\u001b[2K\u001b[41A\u001b[2K\u001b[66A\u001b[2K\u001b[66A\u001b[2K\u001b[80A\u001b[2K\u001b[66A\u001b[2K\u001b[80A\u001b[2K\u001b[66A\u001b[2K\u001b[80A\u001b[2K\u001b[66A\u001b[2K\u001b[66A\u001b[2K\u001b[66A\u001b[2K\u001b[67A\u001b[2K\u001b[80A\u001b[2K\u001b[67A\u001b[2K\u001b[38A\u001b[2K\u001b[67A\u001b[2K\u001b[68A\u001b[2K\u001b[80A\u001b[2K\u001b[80A\u001b[2K\u001b[68A\u001b[2K\u001b[80A\u001b[2K\u001b[68A\u001b[2K\u001b[36A\u001b[2K\u001b[68A\u001b[2K\u001b[67A\u001b[2K\u001b[66A\u001b[2K\u001b[68A\u001b[2K\u001b[67A\u001b[2K\u001b[35A\u001b[2K\u001b[68A\u001b[2K\u001b[68A\u001b[2K\u001b[68A\u001b[2K\u001b[67A\u001b[2K\u001b[68A\u001b[2K\u001b[66A\u001b[2K\u001b[68A\u001b[2K\u001b[66A\u001b[2K\u001b[68A\u001b[2K\u001b[80A\u001b[2K\u001b[68A\u001b[2K\u001b[80A\u001b[2K\u001b[68A\u001b[2K\u001b[66A\u001b[2K\u001b[68A\u001b[2K\u001b[66A\u001b[2K\u001b[67A\u001b[2K\u001b[68A\u001b[2K\u001b[67A\u001b[2K\u001b[68A\u001b[2K\u001b[80A\u001b[2K\u001b[68A\u001b[2K\u001b[80A\u001b[2K\u001b[68A\u001b[2K\u001b[66A\u001b[2K\u001b[30A\u001b[2K\u001b[68A\u001b[2K\u001b[68A\u001b[2K\u001b[80A\u001b[2K\u001b[68A\u001b[2K\u001b[80A\u001b[2K\u001b[68A\u001b[2K\u001b[80A\u001b[2K\u001b[68A\u001b[2K\u001b[80A\u001b[2K\u001b[28A\u001b[2K\u001b[68A\u001b[2K\u001b[66A\u001b[2K\u001b[67A\u001b[2K\u001b[66A\u001b[2K\u001b[80A\u001b[2K\u001b[66A\u001b[2K\u001b[80A\u001b[2K\u001b[68A\u001b[2K\u001b[80A\u001b[2K\u001b[67A\u001b[2K\u001b[80A\u001b[2K\u001b[67A\u001b[2K\u001b[80A\u001b[2K\u001b[67A\u001b[2K\u001b[68A\u001b[2K\u001b[67A\u001b[2K\u001b[25A\u001b[2K\u001b[66A\u001b[2K\u001b[67A\u001b[2K\u001b[80A\u001b[2K\u001b[67A\u001b[2K\u001b[80A\u001b[2K\u001b[66A\u001b[2K\u001b[68A\u001b[2K\u001b[66A\u001b[2K\u001b[80A\u001b[2K\u001b[67A\u001b[2K\u001b[80A\u001b[2K\u001b[68A\u001b[2K\u001b[66A\u001b[2K\u001b[68A\u001b[2K\u001b[66A\u001b[2K\u001b[68A\u001b[2K\u001b[67A\u001b[2K\u001b[68A\u001b[2K\u001b[67A\u001b[2K\u001b[22A\u001b[2K\u001b[67A\u001b[2K\u001b[80A\u001b[2K\u001b[67A\u001b[2K\u001b[80A\u001b[2K\u001b[21A\u001b[2K\u001b[80A\u001b[2K\u001b[68A\u001b[2K\u001b[67A\u001b[2K\u001b[66A\u001b[2K\u001b[67A\u001b[2K\u001b[66A\u001b[2K\u001b[80A\u001b[2K\u001b[66A\u001b[2K\u001b[80A\u001b[2K\u001b[67A\u001b[2K\u001b[68A\u001b[2K\u001b[67A\u001b[2K\u001b[66A\u001b[2K\u001b[67A\u001b[2K\u001b[66A\u001b[2K\u001b[68A\u001b[2K\u001b[18A\u001b[2K\u001b[68A\u001b[2K\u001b[67A\u001b[2K\u001b[80A\u001b[2K\u001b[67A\u001b[2K\u001b[80A\u001b[2K\u001b[68A\u001b[2K\u001b[80A\u001b[2K\u001b[68A\u001b[2K\u001b[80A\u001b[2K\u001b[66A\u001b[2K\u001b[80A\u001b[2K\u001b[66A\u001b[2K\u001b[80A\u001b[2K\u001b[68A\u001b[2K\u001b[80A\u001b[2K\u001b[68A\u001b[2K\u001b[67A\u001b[2K\u001b[68A\u001b[2K\u001b[66A\u001b[2K\u001b[68A\u001b[2K\u001b[66A\u001b[2K\u001b[67A\u001b[2K\u001b[68A\u001b[2K\u001b[80A\u001b[2K\u001b[68A\u001b[2K\u001b[80A\u001b[2K\u001b[68A\u001b[2K\u001b[80A\u001b[2K\u001b[13A\u001b[2K\u001b[80A\u001b[2K\u001b[67A\u001b[2K\u001b[68A\u001b[2K\u001b[67A\u001b[2K\u001b[68A\u001b[2K\u001b[12A\u001b[2K\u001b[67A\u001b[2K\u001b[66A\u001b[2K\u001b[80A\u001b[2K\u001b[68A\u001b[2K\u001b[11A\u001b[2K\u001b[67A\u001b[2K\u001b[80A\u001b[2K\u001b[66A\u001b[2K\u001b[80A\u001b[2K\u001b[10A\u001b[2K\u001b[80A\u001b[2K\u001b[67A\u001b[2K\u001b[80A\u001b[2K\u001b[67A\u001b[2K\u001b[66A\u001b[2K\u001b[67A\u001b[2K\u001b[68A\u001b[2K\u001b[67A\u001b[2K\u001b[68A\u001b[2K\u001b[8A\u001b[2K\u001b[68A\u001b[2K\u001b[66A\u001b[2K\u001b[68A\u001b[2K\u001b[66A\u001b[2K\u001b[68A\u001b[2K\u001b[80A\u001b[2K\u001b[67A\u001b[2K\u001b[80A\u001b[2K\u001b[66A\u001b[2K\u001b[80A\u001b[2K\u001b[66A\u001b[2K\u001b[68A\u001b[2K\u001b[66A\u001b[2K\u001b[68A\u001b[2K\u001b[66A\u001b[2K\u001b[5A\u001b[2K\u001b[67A\u001b[2K\u001b[67A\u001b[2K\u001b[68A\u001b[2K\u001b[4A\u001b[2K\u001b[67A\u001b[2K\u001b[67A\u001b[2K\u001b[67A\u001b[2K\u001b[66A\u001b[2K\u001b[67A\u001b[2K\u001b[68A\u001b[2K\u001b[67A\u001b[2K\u001b[80A\u001b[2K\u001b[67A\u001b[2K\u001b[66A\u001b[2K\u001b[67A\u001b[2K\u001b[68A\u001b[2K\u001b[67A\u001b[2K\u001b[68A\u001b[2K\u001b[66A\u001b[2K\u001b[68A\u001b[2K\u001b[66A\u001b[2K\u001b[68A\u001b[2K\u001b[67A\u001b[2K\u001b[68A\u001b[2K\u001b[80A\u001b[2K\u001b[68A\u001b[2K\u001b[80A\u001b[2K\u001b[67A\u001b[2K\u001b[68A\u001b[2K\u001b[66A\u001b[2K\u001b[68A\u001b[2K\u001b[66A\u001b[2K\u001b[67A\u001b[2K\u001b[66A\u001b[2K\u001b[68A\u001b[2K\u001b[80A\u001b[2K\u001b[67A\u001b[2K\u001b[68A\u001b[2K\u001b[66A\u001b[2K\u001b[67A\u001b[2K\u001b[80A\u001b[2K\u001b[67A\u001b[2K\u001b[68A\u001b[2K\u001b[67A\u001b[2K\u001b[67A\u001b[2K\u001b[66A\u001b[2K\u001b[68A\u001b[2K\u001b[80A\u001b[2K\u001b[68A\u001b[2K\u001b[80A\u001b[2K\u001b[67A\u001b[2K\u001b[67A\u001b[2K\u001b[66A\u001b[2K\u001b[80A\u001b[2K\u001b[66A\u001b[2K\u001b[80A\u001b[2K\u001b[68A\u001b[2K\u001b[80A\u001b[2K\u001b[80A\u001b[2K\u001b[66A\u001b[2K\u001b[80A\u001b[2K\u001b[68A\u001b[2K\u001b[80A\u001b[2K\u001b[68A\u001b[2K\u001b[80A\u001b[2K\u001b[68A\u001b[2K\u001b[66A\u001b[2K\u001b[68A\u001b[2K\u001b[67A\u001b[2K\u001b[68A\u001b[2K\u001b[67A\u001b[2K\u001b[80A\u001b[2K\u001b[68A\u001b[2K\u001b[66A\u001b[2K\u001b[68A\u001b[2K\u001b[66A\u001b[2K\u001b[68A\u001b[2K\u001b[67A\u001b[2K\u001b[68A\u001b[2K\u001b[67A\u001b[2K\u001b[68A\u001b[2K\u001b[80A\u001b[2K\u001b[68A\u001b[2K\u001b[67A\u001b[2K\u001b[68A\u001b[2K\u001b[80A\u001b[2K\u001b[68A\u001b[2K\u001b[67A\u001b[2K\u001b[66A\u001b[2K\u001b[80A\u001b[2K\u001b[68A\u001b[2K\u001b[67A\u001b[2K\u001b[66A\u001b[2K\u001b[67A\u001b[2K\u001b[67A\u001b[2K\u001b[68A\u001b[2K\u001b[80A\u001b[2K\u001b[66A\u001b[2K\u001b[80A\u001b[2K\u001b[67A\u001b[2K\u001b[80A\u001b[2K\u001b[67A\u001b[2K\u001b[80A\u001b[2K\u001b[67A\u001b[2K\u001b[80A\u001b[2K\u001b[67A\u001b[2K\u001b[80A\u001b[2K\u001b[66A\u001b[2K\u001b[68A\u001b[2K\u001b[66A\u001b[2K\u001b[68A\u001b[2K\u001b[66A\u001b[2K\u001b[68A\u001b[2K\u001b[66A\u001b[2K\u001b[66A\u001b[2K\u001b[80A\u001b[2K\u001b[66A\u001b[2K\u001b[80A\u001b[2K\u001b[68A\u001b[2K\u001b[80A\u001b[2K\u001b[68A\u001b[2K\u001b[66A\u001b[2K\u001b[68A\u001b[2K\u001b[68A\u001b[2K\u001b[80A\u001b[2K\u001b[66A\u001b[2K\u001b[80A\u001b[2K\u001b[68A\u001b[2K\u001b[80A\u001b[2K\u001b[68A\u001b[2K\u001b[68A\u001b[2K\u001b[68A\u001b[2K\u001b[66A\u001b[2K\u001b[66A\u001b[2K\u001b[66A\u001b[2K\u001b[66A\u001b[2K\u001b[66A\u001b[2K\u001b[80A\u001b[2K\u001b[66A\u001b[2K\u001b[80A\u001b[2K\u001b[66A\u001b[2K\u001b[66A\u001b[2K\u001b[66A\u001b[2K\u001b[80A\u001b[2K\u001b[68A\u001b[2K\u001b[68A\u001b[2K\u001b[68A\u001b[2K\u001b[66A\u001b[2K\u001b[66A\u001b[2K\u001b[68A\u001b[2K\u001b[80A\u001b[2K\u001b[68A\u001b[2K\u001b[66A\u001b[2K\u001b[68A\u001b[2K\u001b[66A\u001b[2K\u001b[68A\u001b[2K\u001b[66A\u001b[2K\u001b[80A\u001b[2K\u001b[66A\u001b[2K\u001b[80A\u001b[2K\u001b[66A\u001b[2K\u001b[68A\u001b[2K\u001b[66A\u001b[2K\u001b[68A\u001b[2K\u001b[66A\u001b[2K\u001b[66A\u001b[2K\u001b[80A\u001b[2K\u001b[66A\u001b[2K\u001b[66A\u001b[2K\u001b[68A\u001b[2K\u001b[66A\u001b[2K\u001b[68A\u001b[2K\u001b[66A\u001b[2K\u001b[66A\u001b[2K\u001b[80A\u001b[2K\u001b[68A\u001b[2K\u001b[68A\u001b[2K\u001b[80A\u001b[2K\u001b[68A\u001b[2K\u001b[66A\u001b[2K\u001b[68A\u001b[2K\u001b[80A\u001b[2K\u001b[66A\u001b[2K\u001b[68A\u001b[2K\u001b[66A\u001b[2K\u001b[68A\u001b[2K\u001b[80A\u001b[2K\u001b[68A\u001b[2K\u001b[66A\u001b[2K\u001b[68A\u001b[2K\u001b[80A\u001b[2K\u001b[68A\u001b[2K\u001b[80A\u001b[2K\u001b[66A\u001b[2K\u001b[68A\u001b[2K\u001b[68A\u001b[2K\u001b[68A\u001b[2K\u001b[66A\u001b[2K\u001b[68A\u001b[2K\u001b[80A\u001b[2K\u001b[68A\u001b[2K\u001b[80A\u001b[2K\u001b[66A\u001b[2K\u001b[80A\u001b[2K\u001b[66A\u001b[2K\u001b[80A\u001b[2K\u001b[68A\u001b[2K\u001b[80A\u001b[2K\u001b[68A\u001b[2K\u001b[80A\u001b[2K\u001b[68A\u001b[2K\u001b[80A\u001b[2K\u001b[68A\u001b[2K\u001b[68A\u001b[2K\u001b[80A\u001b[2K\u001b[66A\u001b[2K\u001b[80A\u001b[2K\u001b[66A\u001b[2K\u001b[80A\u001b[2K\u001b[66A\u001b[2K\u001b[80A\u001b[2K\u001b[66A\u001b[2K\u001b[80A\u001b[2K\u001b[66A\u001b[2K\u001b[68A\u001b[2K\u001b[66A\u001b[2K\u001b[68A\u001b[2K\u001b[80A\u001b[2K\u001b[68A\u001b[2K\u001b[80A\u001b[2K\u001b[66A\u001b[2K\u001b[80A\u001b[2K\u001b[66A\u001b[2K\u001b[80A\u001b[2K\u001b[66A\u001b[2K\u001b[68A\u001b[2K\u001b[66A\u001b[2K\u001b[68A\u001b[2K\u001b[80A\u001b[2K\u001b[68A\u001b[2K\u001b[80A\u001b[2K\u001b[68A\u001b[2K\u001b[80A\u001b[2K\u001b[68A\u001b[2K\u001b[80A\u001b[2K\u001b[68A\u001b[2K\u001b[80A\u001b[2K\u001b[80A\u001b[2K\u001b[66A\u001b[2K\u001b[80A\u001b[2K\u001b[68A\u001b[2K\u001b[68A\u001b[2K\u001b[68A\u001b[2K\u001b[68A\u001b[2K\u001b[66A\u001b[2K\u001b[80A\u001b[2K\u001b[66A\u001b[2K\u001b[80A\u001b[2K\u001b[66A\u001b[2K\u001b[68A\u001b[2K\u001b[66A\u001b[2K\u001b[80A\u001b[2K\u001b[66A\u001b[2K\u001b[80A\u001b[2K\u001b[66A\u001b[2K\u001b[80A\u001b[2K\u001b[66A\u001b[2K\u001b[80A\u001b[2K\u001b[80A\u001b[2K\u001b[80A\u001b[2K\u001b[66A\u001b[2K\u001b[68A\u001b[2K\u001b[66A\u001b[2K\u001b[68A\u001b[2K\u001b[66A\u001b[2K\u001b[66A\u001b[2K\u001b[80A\u001b[2K\u001b[68A\u001b[2K\u001b[66A\u001b[2K\u001b[68A\u001b[2K\u001b[80A\u001b[2K\u001b[68A\u001b[2K\u001b[80A\u001b[2K\u001b[68A\u001b[2K\u001b[80A\u001b[2K\u001b[68A\u001b[2K\u001b[80A\u001b[2K\u001b[68A\u001b[2K\u001b[80A\u001b[2K\u001b[68A\u001b[2K\u001b[80A\u001b[2K\u001b[68A\u001b[2K\u001b[66A\u001b[2K\u001b[68A\u001b[2K\u001b[80A\u001b[2K\u001b[68A\u001b[2K\u001b[66A\u001b[2K\u001b[68A\u001b[2K\u001b[68A\u001b[2K\u001b[66A\u001b[2K\u001b[68A\u001b[2K\u001b[80A\u001b[2K\u001b[68A\u001b[2K\u001b[80A\u001b[2K\u001b[68A\u001b[2K\u001b[80A\u001b[2K\u001b[66A\u001b[2K\u001b[80A\u001b[2K\u001b[80A\u001b[2K\u001b[68A\u001b[2K\u001b[80A\u001b[2K\u001b[68A\u001b[2K\u001b[80A\u001b[2K\u001b[66A\u001b[2K\u001b[80A\u001b[2K\u001b[66A\u001b[2K\u001b[66A\u001b[2K\u001b[68A\u001b[2K\u001b[80A\u001b[2K\u001b[68A\u001b[2K\u001b[80A\u001b[2K\u001b[68A\u001b[2K\u001b[80A\u001b[2K\u001b[68A\u001b[2K\u001b[80A\u001b[2K\u001b[68A\u001b[2K\u001b[68A\u001b[2K\u001b[68A\u001b[2K\u001b[80A\u001b[2K\u001b[68A\u001b[2K\u001b[80A\u001b[2K\u001b[68A\u001b[2K\u001b[80A\u001b[2K\u001b[68A\u001b[2K\u001b[80A\u001b[2K\u001b[80A\u001b[2K\u001b[68A\u001b[2K\u001b[80A\u001b[2K\u001b[68A\u001b[2K\u001b[80A\u001b[2K\u001b[68A\u001b[2K\u001b[80A\u001b[2K\u001b[68A\u001b[2K\u001b[80A\u001b[2K\u001b[80A\u001b[2K\u001b[80A\u001b[2K\u001b[68A\u001b[2K\u001b[68A\u001b[2K\u001b[80A\u001b[2K\u001b[68A\u001b[2K\u001b[80A\u001b[2K\u001b[68A\u001b[2K\u001b[80A\u001b[2K\u001b[68A\u001b[2K\u001b[80A\u001b[2K\u001b[68A\u001b[2K\u001b[80A\u001b[2K\u001b[68A\u001b[2K\u001b[80A\u001b[2K\u001b[80A\u001b[2K\u001b[68A\u001b[2K\u001b[80A\u001b[2K\u001b[80A\u001b[2K\u001b[80A\u001b[2K\u001b[68A\u001b[2K\u001b[80A\u001b[2K\u001b[68A\u001b[2K\u001b[80A\u001b[2K\u001b[68A\u001b[2K\u001b[80A\u001b[2K\u001b[68A\u001b[2K\u001b[80A\u001b[2K\u001b[68A\u001b[2K\u001b[80A\u001b[2K\u001b[68A\u001b[2K\u001b[80A\u001b[2K\u001b[68A\u001b[2K\u001b[80A\u001b[2K\u001b[68A\u001b[2K\u001b[80A\u001b[2K\u001b[80A\u001b[2K\u001b[68A\u001b[2K\u001b[80A\u001b[2K\u001b[68A\u001b[2K\u001b[80A\u001b[2K\u001b[80A\u001b[2K\u001b[80A\u001b[2K\u001b[68A\u001b[2K\u001b[68A\u001b[2K\u001b[68A\u001b[2K\u001b[68A\u001b[2K\u001b[68A\u001b[2K\u001b[80A\u001b[2K\u001b[68A\u001b[2K\u001b[80A\u001b[2K\u001b[68A\u001b[2K\u001b[80A\u001b[2K\u001b[68A\u001b[2K\u001b[80A\u001b[2K\u001b[68A\u001b[2K\u001b[80A\u001b[2K\u001b[68A\u001b[2K\u001b[80A\u001b[2K\u001b[68A\u001b[2K\u001b[80A\u001b[2K\u001b[80A\u001b[2K\u001b[80A\u001b[2K\u001b[68A\u001b[2K\u001b[68A\u001b[2K\u001b[80A\u001b[2K\u001b[80A\u001b[2K\u001b[80A\u001b[2K\u001b[80A\u001b[2K\u001b[80A\u001b[2K\u001b[80A\u001b[2K\u001b[68A\u001b[2K\u001b[80A\u001b[2K\u001b[68A\u001b[2K\u001b[80A\u001b[2K\u001b[80A\u001b[2K\u001b[68A\u001b[2K\u001b[68A\u001b[2K\u001b[68A\u001b[2K\u001b[80A\u001b[2K\u001b[68A\u001b[2K\u001b[80A\u001b[2K\u001b[68A\u001b[2K\u001b[80A\u001b[2K\u001b[68A\u001b[2K\u001b[80A\u001b[2K\u001b[68A\u001b[2K\u001b[80A\u001b[2K\u001b[68A\u001b[2K\u001b[68A\u001b[2K\u001b[80A\u001b[2K\u001b[80A\u001b[2K\u001b[68A\u001b[2K\u001b[80A\u001b[2K\u001b[68A\u001b[2K\u001b[80A\u001b[2K\u001b[68A\u001b[2K\u001b[80A\u001b[2K\u001b[68A\u001b[2K\u001b[80A\u001b[2K\u001b[80A\u001b[2K\u001b[80A\u001b[2K\u001b[80A\u001b[2K\u001b[68A\u001b[2K\u001b[80A\u001b[2K\u001b[68A\u001b[2K\u001b[80A\u001b[2K\u001b[68A\u001b[2K\u001b[80A\u001b[2K\u001b[68A\u001b[2K\u001b[80A\u001b[2K\u001b[68A\u001b[2K\u001b[80A\u001b[2K\u001b[80A\u001b[2K\u001b[68A\u001b[2K\u001b[80A\u001b[2K\u001b[68A\u001b[2K\u001b[80A\u001b[2K\u001b[68A\u001b[2K\u001b[80A\u001b[2K\u001b[68A\u001b[2K\u001b[80A\u001b[2K\u001b[80A\u001b[2K\u001b[68A\u001b[2K\u001b[80A\u001b[2K\u001b[68A\u001b[2K\u001b[68A\u001b[2K\u001b[68A\u001b[2K\u001b[68A\u001b[2K\u001b[68A\u001b[2K\u001b[80A\u001b[2K\u001b[68A\u001b[2K\u001b[80A\u001b[2K\u001b[68A\u001b[2K\u001b[80A\u001b[2K\u001b[68A\u001b[2K\u001b[80A\u001b[2K\u001b[68A\u001b[2K\u001b[80A\u001b[2K\u001b[68A\u001b[2K\u001b[80A\u001b[2K\u001b[68A\u001b[2K\u001b[80A\u001b[2K\u001b[68A\u001b[2K\u001b[80A\u001b[2K\u001b[68A\u001b[2K\u001b[80A\u001b[2K\u001b[80A\u001b[2K\u001b[68A\u001b[2K\u001b[80A\u001b[2K\u001b[68A\u001b[2K\u001b[80A\u001b[2K\u001b[68A\u001b[2K\u001b[68A\u001b[2K\u001b[68A\u001b[2K\u001b[68A\u001b[2K\u001b[68A\u001b[2K\u001b[80A\u001b[2K\u001b[68A\u001b[2K\u001b[80A\u001b[2K\u001b[68A\u001b[2K\u001b[80A\u001b[2K\u001b[68A\u001b[2K\u001b[80A\u001b[2K\u001b[68A\u001b[2K\u001b[80A\u001b[2K\u001b[68A\u001b[2K\u001b[80A\u001b[2K\u001b[80A\u001b[2K\u001b[68A\u001b[2K\u001b[80A\u001b[2K\u001b[68A\u001b[2K\u001b[80A\u001b[2K\u001b[68A\u001b[2K\u001b[80A\u001b[2K\u001b[68A\u001b[2K\u001b[80A\u001b[2K\u001b[68A\u001b[2K\u001b[80A\u001b[2K\u001b[68A\u001b[2K\u001b[80A\u001b[2K\u001b[68A\u001b[2K\u001b[80A\u001b[2K\u001b[68A\u001b[2K\u001b[80A\u001b[2K\u001b[68A\u001b[2K\u001b[80A\u001b[2K\u001b[68A\u001b[2K\u001b[80A\u001b[2K\u001b[68A\u001b[2K\u001b[80A\u001b[2K\u001b[68A\u001b[2K\u001b[80A\u001b[2K\u001b[68A\u001b[2K\u001b[80A\u001b[2K\u001b[68A\u001b[2K\u001b[80A\u001b[2K\u001b[68A\u001b[2K\u001b[80A\u001b[2K\u001b[68A\u001b[2K\u001b[80A\u001b[2K\u001b[68A\u001b[2K\u001b[68A\u001b[2K\u001b[68A\u001b[2K\u001b[80A\u001b[2K\u001b[68A\u001b[2K\u001b[68A\u001b[2K\u001b[68A\u001b[2K\u001b[80A\u001b[2K\u001b[68A\u001b[2K\u001b[80A\u001b[2K\u001b[68A\u001b[2K\u001b[80A\u001b[2K\u001b[68A\u001b[2K\u001b[80A\u001b[2K\u001b[68A\u001b[2K\u001b[80A\u001b[2K\u001b[68A\u001b[2K\u001b[80A\u001b[2K\u001b[68A\u001b[2K\u001b[68A\u001b[2K\u001b[80A\u001b[2K\u001b[68A\u001b[2K\u001b[80A\u001b[2K\u001b[68A\u001b[2K\u001b[80A\u001b[2K\u001b[68A\u001b[2K\u001b[68A\u001b[2K\u001b[68A\u001b[2K\u001b[80A\u001b[2K\u001b[68A\u001b[2K\u001b[68A\u001b[2K\u001b[80A\u001b[2K\u001b[68A\u001b[2K\u001b[80A\u001b[2K\u001b[80A\u001b[2K\u001b[68A\u001b[2K\u001b[80A\u001b[2K\u001b[80A\u001b[2K\u001b[80A\u001b[2K\u001b[68A\u001b[2K\u001b[80A\u001b[2K\u001b[68A\u001b[2K\u001b[80A\u001b[2K\u001b[68A\u001b[2K\u001b[68A\u001b[2K\u001b[80A\u001b[2K\u001b[68A\u001b[2K\u001b[80A\u001b[2K\u001b[68A\u001b[2K\u001b[80A\u001b[2K\u001b[68A\u001b[2K\u001b[80A\u001b[2K\u001b[68A\u001b[2K\u001b[80A\u001b[2K\u001b[68A\u001b[2K\u001b[80A\u001b[2K\u001b[68A\u001b[2K\u001b[80A\u001b[2K\u001b[68A\u001b[2K\u001b[80A\u001b[2K\u001b[68A\u001b[2K\u001b[80A\u001b[2K\u001b[68A\u001b[2K\u001b[80A\u001b[2K\u001b[68A\u001b[2K\u001b[80A\u001b[2K\u001b[68A\u001b[2K\u001b[80A\u001b[2K\u001b[68A\u001b[2K\u001b[80A\u001b[2K\u001b[68A\u001b[2K\u001b[80A\u001b[2K\u001b[68A\u001b[2K\u001b[80A\u001b[2K\u001b[68A\u001b[2K\u001b[80A\u001b[2K\u001b[68A\u001b[2K\u001b[80A\u001b[2K\u001b[68A\u001b[2K\u001b[80A\u001b[2K\u001b[68A\u001b[2K\u001b[68A\u001b[2K\u001b[80A\u001b[2K\u001b[68A\u001b[2K\u001b[80A\u001b[2K\u001b[68A\u001b[2K\u001b[80A\u001b[2K\u001b[68A\u001b[2K\u001b[80A\u001b[2K\u001b[68A\u001b[2K\u001b[80A\u001b[2K\u001b[68A\u001b[2K\u001b[80A\u001b[2K\u001b[68A\u001b[2K\u001b[80A\u001b[2K\u001b[68A\u001b[2K\u001b[80A\u001b[2K\u001b[68A\u001b[2K\u001b[80A\u001b[2K\u001b[68A\u001b[2K\u001b[80A\u001b[2K\u001b[68A\u001b[2K\u001b[80A\u001b[2K\u001b[80A\u001b[2K\u001b[80A\u001b[2K\u001b[80A\u001b[2K\u001b[80A\u001b[2K\u001b[68A\u001b[2K\u001b[80A\u001b[2K\u001b[80A\u001b[2K\u001b[68A\u001b[2K\u001b[80A\u001b[2K\u001b[68A\u001b[2K\u001b[80A\u001b[2K\u001b[80A\u001b[2K\u001b[68A\u001b[2K\u001b[80A\u001b[2K\u001b[80A\u001b[2K\u001b[80A\u001b[2K\u001b[80A\u001b[2K\u001b[68A\u001b[2K\u001b[80A\u001b[2K\u001b[80A\u001b[2K\u001b[80A\u001b[2K\u001b[80A\u001b[2K\u001b[80A\u001b[2K\u001b[68A\u001b[2K\u001b[80A\u001b[2K\u001b[80A\u001b[2K\u001b[80A\u001b[2K\u001b[68A\u001b[2K\u001b[80A\u001b[2K\u001b[68A\u001b[2K\u001b[80A\u001b[2K\u001b[68A\u001b[2K\u001b[80A\u001b[2K\u001b[80A\u001b[2K\u001b[80A\u001b[2K\u001b[68A\u001b[2K\u001b[80A\u001b[2K\u001b[80A\u001b[2K\u001b[68A\u001b[2K\u001b[68A\u001b[2K\u001b[80A\u001b[2K\u001b[68A\u001b[2K\u001b[68A\u001b[2K\u001b[68A\u001b[2K\u001b[68A\u001b[2K\u001b[80A\u001b[2K\u001b[68A\u001b[2K\u001b[80A\u001b[2K\u001b[68A\u001b[2K\u001b[68A\u001b[2K\u001b[80A\u001b[2K\u001b[80A\u001b[2K\u001b[80A\u001b[2K\u001b[68A\u001b[2K\u001b[80A\u001b[2K\u001b[68A\u001b[2K\u001b[80A\u001b[2K\u001b[68A\u001b[2K\u001b[80A\u001b[2K\u001b[80A\u001b[2K\u001b[80A\u001b[2K\u001b[80A\u001b[2K\u001b[80A\u001b[2K\u001b[80A\u001b[2K\u001b[80A\u001b[2K\u001b[80A\u001b[2K\u001b[80A\u001b[2K\u001b[80A\u001b[2K\u001b[80A\u001b[2K\u001b[80A\u001b[2K\u001b[80A\u001b[2K\u001b[80A\u001b[2K\u001b[80A\u001b[2K\u001b[80A\u001b[2K\u001b[80A\u001b[2K\u001b[80A\u001b[2K\u001b[80A\u001b[2K\u001b[80A\u001b[2K\u001b[80A\u001b[2K\u001b[80A\u001b[2K\u001b[80A\u001b[2K\u001b[80A\u001b[2K\u001b[80A\u001b[2K\u001b[80A\u001b[2K\u001b[80A\u001b[2K\u001b[80A\u001b[2K\u001b[80A\u001b[2K\u001b[80A\u001b[2K\u001b[80A\u001b[2K\u001b[80A\u001b[2K\u001b[80A\u001b[2K\u001b[80A\u001b[2K\u001b[80A\u001b[2K\u001b[80A\u001b[2K\u001b[80A\u001b[2K\u001b[80A\u001b[2K\u001b[80A\u001b[2K\u001b[80A\u001b[2K\u001b[80A\u001b[2K\u001b[80A\u001b[2K\u001b[80A\u001b[2K\u001b[80A\u001b[2K\u001b[80A\u001b[2K\u001b[80A\u001b[2K\u001b[80A\u001b[2K\u001b[80A\u001b[2K\u001b[80A\u001b[2K\u001b[80A\u001b[2K\u001b[80A\u001b[2K\u001b[80A\u001b[2K\u001b[80A\u001b[2K\u001b[80A\u001b[2K\u001b[80A\u001b[2K\u001b[80A\u001b[2K\u001b[80A\u001b[2K\u001b[80A\u001b[2K\u001b[80A\u001b[2K\u001b[80A\u001b[2K\u001b[80A\u001b[2K\u001b[80A\u001b[2K\u001b[80A\u001b[2K\u001b[80A\u001b[2K\u001b[80A\u001b[2K\u001b[80A\u001b[2K\u001b[80A\u001b[2K\u001b[80A\u001b[2K\u001b[80A\u001b[2K\u001b[80A\u001b[2K\u001b[80A\u001b[2K\u001b[80A\u001b[2K\u001b[80A\u001b[2K\u001b[80A\u001b[2K\u001b[80A\u001b[2K\u001b[80A\u001b[2K\u001b[80A\u001b[2K\u001b[80A\u001b[2K\u001b[80A\u001b[2K\u001b[80A\u001b[2K\u001b[80A\u001b[2K\u001b[80A\u001b[2K\u001b[80A\u001b[2K\u001b[80A\u001b[2K\u001b[80A\u001b[2K\u001b[80A\u001b[2K\u001b[80A\u001b[2K\u001b[80A\u001b[2K\u001b[80A\u001b[2K\u001b[80A\u001b[2K\u001b[80A\u001b[2K\u001b[80A\u001b[2K\u001b[80A\u001b[2K\u001b[80A\u001b[2K\u001b[80A\u001b[2K\u001b[80A\u001b[2K\u001b[80A\u001b[2K\u001b[80A\u001b[2K\u001b[80A\u001b[2K\u001b[80A\u001b[2K\u001b[80A\u001b[2K\u001b[80A\u001b[2K\u001b[80A\u001b[2K\u001b[80A\u001b[2K\u001b[80A\u001b[2K\u001b[80A\u001b[2K\u001b[80A\u001b[2K\u001b[80A\u001b[2K\u001b[80A\u001b[2K\u001b[80A\u001b[2K\u001b[80A\u001b[2K\u001b[80A\u001b[2K\u001b[80A\u001b[2K\u001b[80A\u001b[2K\u001b[80A\u001b[2K\u001b[80A\u001b[2K\u001b[80A\u001b[2K\u001b[80A\u001b[2K\u001b[80A\u001b[2K\u001b[80A\u001b[2K\u001b[80A\u001b[2K\u001b[80A\u001b[2K\u001b[80A\u001b[2K\u001b[80A\u001b[2K\u001b[80A\u001b[2K\u001b[80A\u001b[2K\u001b[80A\u001b[2K\u001b[80A\u001b[2K\u001b[80A\u001b[2K\u001b[80A\u001b[2K\u001b[80A\u001b[2K\u001b[80A\u001b[2K\u001b[80A\u001b[2K\u001b[80A\u001b[2K\u001b[80A\u001b[2K\u001b[80A\u001b[2K\u001b[80A\u001b[2K\u001b[80A\u001b[2K\u001b[80A\u001b[2K\u001b[80A\u001b[2K\u001b[80A\u001b[2K\u001b[80A\u001b[2K\u001b[80A\u001b[2K\u001b[80A\u001b[2K\u001b[80A\u001b[2K\u001b[80A\u001b[2K\u001b[80A\u001b[2K\u001b[80A\u001b[2K\u001b[80A\u001b[2K\u001b[80A\u001b[2K\u001b[80A\u001b[2K\u001b[80A\u001b[2K\u001b[80A\u001b[2K\u001b[80A\u001b[2K\u001b[80A\u001b[2K\u001b[80A\u001b[2K\u001b[80A\u001b[2K\u001b[80A\u001b[2K\u001b[80A\u001b[2K\u001b[80A\u001b[2K\u001b[80A\u001b[2K\u001b[80A\u001b[2K\u001b[80A\u001b[2K\u001b[80A\u001b[2K\u001b[80A\u001b[2K\u001b[80A\u001b[2K\u001b[80A\u001b[2K\u001b[80A\u001b[2K\u001b[80A\u001b[2K\u001b[80A\u001b[2K\u001b[80A\u001b[2K\u001b[80A\u001b[2K\u001b[80A\u001b[2K\u001b[80A\u001b[2K\u001b[80A\u001b[2K\u001b[80A\u001b[2K\u001b[80A\u001b[2K\u001b[80A\u001b[2K\u001b[80A\u001b[2K\u001b[80A\u001b[2K\u001b[80A\u001b[2K\u001b[80A\u001b[2K\u001b[80A\u001b[2K\u001b[80A\u001b[2K\u001b[80A\u001b[2K\u001b[80A\u001b[2K\u001b[80A\u001b[2K\u001b[80A\u001b[2K\u001b[80A\u001b[2K\u001b[80A\u001b[2K\u001b[80A\u001b[2K\u001b[80A\u001b[2K\u001b[80A\u001b[2K\u001b[80A\u001b[2K\u001b[80A\u001b[2K\u001b[80A\u001b[2K\u001b[80A\u001b[2K\u001b[80A\u001b[2K\u001b[80A\u001b[2K\u001b[80A\u001b[2K\u001b[80A\u001b[2K\u001b[80A\u001b[2K\u001b[80A\u001b[2K\u001b[80A\u001b[2K\u001b[80A\u001b[2K\u001b[80A\u001b[2K\u001b[80A\u001b[2K\u001b[80A\u001b[2K\u001b[80A\u001b[2K\u001b[80A\u001b[2K\u001b[80A\u001b[2K\u001b[80A\u001b[2K\u001b[80A\u001b[2K\u001b[80A\u001b[2K\u001b[80A\u001b[2K\u001b[80A\u001b[2K\u001b[80A\u001b[2K\u001b[80A\u001b[2K\u001b[80A\u001b[2K\u001b[80A\u001b[2K\u001b[80A\u001b[2K\u001b[80A\u001b[2K\u001b[80A\u001b[2K\u001b[80A\u001b[2K\u001b[80A\u001b[2K\u001b[80A\u001b[2K\u001b[80A\u001b[2K\u001b[80A\u001b[2K\u001b[80A\u001b[2K\u001b[80A\u001b[2K\u001b[80A\u001b[2K\u001b[80A\u001b[2K\u001b[80A\u001b[2K\u001b[80A\u001b[2K\u001b[80A\u001b[2K\u001b[80A\u001b[2K\u001b[80A\u001b[2K\u001b[80A\u001b[2K\u001b[80A\u001b[2K\u001b[80A\u001b[2K\u001b[80A\u001b[2K\u001b[80A\u001b[2K\u001b[80A\u001b[2K\u001b[80A\u001b[2K\u001b[80A\u001b[2K\u001b[80A\u001b[2K\u001b[80A\u001b[2K\u001b[80A\u001b[2K\u001b[80A\u001b[2K\u001b[80A\u001b[2K\u001b[80A\u001b[2K\u001b[80A\u001b[2K\u001b[80A\u001b[2K\u001b[80A\u001b[2K\u001b[80A\u001b[2K\u001b[80A\u001b[2K\u001b[80A\u001b[2K\u001b[80A\u001b[2K\u001b[80A\u001b[2K\u001b[80A\u001b[2K\u001b[80A\u001b[2K\u001b[80A\u001b[2K\u001b[80A\u001b[2K\u001b[80A\u001b[2K\u001b[80A\u001b[2K\u001b[80A\u001b[2K\u001b[80A\u001b[2K\u001b[80A\u001b[2K\u001b[80A\u001b[2K\u001b[80A\u001b[2K\u001b[80A\u001b[2K\u001b[80A\u001b[2K\u001b[80A\u001b[2K\u001b[80A\u001b[2K\u001b[80A\u001b[2K\u001b[80A\u001b[2K\u001b[80A\u001b[2K\u001b[80A\u001b[2K\u001b[80A\u001b[2K\u001b[80A\u001b[2K\u001b[80A\u001b[2K\u001b[80A\u001b[2K\u001b[80A\u001b[2K\u001b[80A\u001b[2K\u001b[80A\u001b[2K\u001b[80A\u001b[2K\u001b[80A\u001b[2K\u001b[80A\u001b[2K\u001b[80A\u001b[2K\u001b[80A\u001b[2K\u001b[80A\u001b[2K\u001b[80A\u001b[2K\u001b[80A\u001b[2K\u001b[80A\u001b[2K\u001b[80A\u001b[2K\u001b[80A\u001b[2K\u001b[80A\u001b[2K\u001b[80A\u001b[2K\u001b[80A\u001b[2K\u001b[80A\u001b[2K\u001b[80A\u001b[2K\u001b[80A\u001b[2K\u001b[80A\u001b[2K\u001b[80A\u001b[2K\u001b[80A\u001b[2K\u001b[80A\u001b[2K\u001b[80A\u001b[2K\u001b[80A\u001b[2K\u001b[80A\u001b[2K\u001b[80A\u001b[2K\u001b[80A\u001b[2K\u001b[80A\u001b[2K\u001b[80A\u001b[2K\u001b[80A\u001b[2K\u001b[80A\u001b[2K\u001b[80A\u001b[2K\u001b[80A\u001b[2K\u001b[80A\u001b[2K\u001b[80A\u001b[2K\u001b[80A\u001b[2K\u001b[80A\u001b[2K\u001b[80A\u001b[2K\u001b[80A\u001b[2K\u001b[80A\u001b[2Klatest: digest: sha256:d4e5923081ae72895895a59d670e07f987f0b20711dd1eb15baeaaa80e39302d size: 18617\n"
     ]
    }
   ],
   "source": [
    "!docker push $REMOTE_IMAGE_NAME"
   ]
  },
  {
   "cell_type": "code",
   "execution_count": 34,
   "id": "27906d01-fade-4ab3-a47a-1ac5f67d62a1",
   "metadata": {},
   "outputs": [
    {
     "name": "stdout",
     "output_type": "stream",
     "text": [
      "EXPERIMENT_RUN_DIR: gs://jt-merlin-scaling/new9-2tower-merlin-tf-jtv24/run-20230228-170848\n",
      "MODEL_DIR: gs://jt-merlin-scaling/new9-2tower-merlin-tf-jtv24/run-20230228-170848/model_dir\n",
      "MODEL_ARTIFACT_URI: gs://jt-merlin-scaling/new9-2tower-merlin-tf-jtv24/run-20230228-170848/model_dir/query_tower\n"
     ]
    }
   ],
   "source": [
    "MODEL_DEPLOY_VERSION = \"v23\"\n",
    "\n",
    "EXPERIMENT_RUN_DIR='gs://jt-merlin-scaling/new9-2tower-merlin-tf-jtv24/run-20230228-170848'\n",
    "MODEL_DIR=f'{EXPERIMENT_RUN_DIR}/model_dir'\n",
    "\n",
    "print(f\"EXPERIMENT_RUN_DIR: {EXPERIMENT_RUN_DIR}\")\n",
    "print(f\"MODEL_DIR: {MODEL_DIR}\")\n",
    "\n",
    "\n",
    "MODEL_DISPLAY_NAME=f\"mm-qtower-{MODEL_DEPLOY_VERSION}\"\n",
    "MODEL_ARTIFACT_URI = f'{MODEL_DIR}/query_tower'\n",
    "\n",
    "print(f\"MODEL_ARTIFACT_URI: {MODEL_ARTIFACT_URI}\")"
   ]
  },
  {
   "cell_type": "code",
   "execution_count": 39,
   "id": "942e2097-2bf5-4ced-9f3f-da3e6e317134",
   "metadata": {},
   "outputs": [
    {
     "data": {
      "text/plain": [
       "'us-central1-docker.pkg.dev/hybrid-vertex/sp-mm-cpr/mm-prediction-cpr-jt'"
      ]
     },
     "execution_count": 39,
     "metadata": {},
     "output_type": "execute_result"
    }
   ],
   "source": [
    "REMOTE_IMAGE_NAME"
   ]
  },
  {
   "cell_type": "code",
   "execution_count": 35,
   "id": "0790424d-3121-4372-98bd-ef45ed65f238",
   "metadata": {},
   "outputs": [
    {
     "name": "stdout",
     "output_type": "stream",
     "text": [
      "Creating Model\n",
      "Create Model backing LRO: projects/934903580331/locations/us-central1/models/3931415975299121152/operations/4295169399981080576\n",
      "Model created. Resource name: projects/934903580331/locations/us-central1/models/3931415975299121152@1\n",
      "To use this Model in another session:\n",
      "model = aiplatform.Model('projects/934903580331/locations/us-central1/models/3931415975299121152@1')\n",
      "Created model in 0.15 seconds\n",
      "\n"
     ]
    }
   ],
   "source": [
    "start = time.process_time()\n",
    "\n",
    "model = vertex_ai.Model.upload(\n",
    "        display_name=MODEL_DISPLAY_NAME,\n",
    "        artifact_uri=MODEL_ARTIFACT_URI,\n",
    "        serving_container_image_uri=REMOTE_IMAGE_NAME,\n",
    "        serving_container_predict_route='/predict',\n",
    "        serving_container_health_route='/health',\n",
    "        serving_container_command=[\"sh\", \"-c\", \"uvicorn main:app --host 0.0.0.0 --port $AIP_HTTP_PORT\"],\n",
    "        serving_container_args='--gpus all',\n",
    "        # parent_model=PARENT_MODEL,\n",
    "        sync=True,\n",
    "    )\n",
    "\n",
    "print(f\"Created model in {round((time.process_time() - start),2)} seconds\\n\")"
   ]
  },
  {
   "cell_type": "code",
   "execution_count": 36,
   "id": "716cefc2-66df-4c4a-97f7-7a955ba6a188",
   "metadata": {},
   "outputs": [
    {
     "name": "stdout",
     "output_type": "stream",
     "text": [
      "DEPLOYED_MODEL_DISPLAY_NAME: nb-deployed-mm-qtower-v23\n",
      "ENDPOINT_DISPLAY_NAME: mm-endpoint-v23\n"
     ]
    }
   ],
   "source": [
    "# service account for predictions\n",
    "VERTEX_SA = '934903580331-compute@developer.gserviceaccount.com'\n",
    "\n",
    "# model and endpoint display names\n",
    "# MODEL_DISPLAY_NAME=f\"mm-retrieval-{VERSION_serving}\"\n",
    "DEPLOYED_MODEL_DISPLAY_NAME=f\"nb-deployed-{MODEL_DISPLAY_NAME}\"\n",
    "ENDPOINT_DISPLAY_NAME = f\"mm-endpoint-{MODEL_DEPLOY_VERSION}\"\n",
    "\n",
    "# Endpoint resource config\n",
    "# DEPLOY_COMPUTE=\"n1-standard-4\"\n",
    "# DEPLOY_GPU=\"NVIDIA_TESLA_T4\"\n",
    "# DEPLOY_NGPU=1\n",
    "# MIN_NODES=1\n",
    "# MAX_NODES=1\n",
    "# TRAFFIC=100\n",
    "traffic_percentage = 100\n",
    "machine_type = \"n1-highmem-16\"\n",
    "accelerator_type = \"NVIDIA_TESLA_T4\"\n",
    "accelerator_count = 1\n",
    "min_replica_count = 1\n",
    "max_replica_count = 1\n",
    "\n",
    "print(f\"DEPLOYED_MODEL_DISPLAY_NAME: {DEPLOYED_MODEL_DISPLAY_NAME}\")\n",
    "print(f\"ENDPOINT_DISPLAY_NAME: {ENDPOINT_DISPLAY_NAME}\")"
   ]
  },
  {
   "cell_type": "code",
   "execution_count": 37,
   "id": "1e0b74f6-85fa-43ca-9f06-7b0601889510",
   "metadata": {},
   "outputs": [
    {
     "name": "stdout",
     "output_type": "stream",
     "text": [
      "Creating Endpoint\n",
      "Create Endpoint backing LRO: projects/934903580331/locations/us-central1/endpoints/7280926416714072064/operations/7463451737836224512\n",
      "Endpoint created. Resource name: projects/934903580331/locations/us-central1/endpoints/7280926416714072064\n",
      "To use this Endpoint in another session:\n",
      "endpoint = aiplatform.Endpoint('projects/934903580331/locations/us-central1/endpoints/7280926416714072064')\n",
      "Created endpoint in 0.04 seconds\n",
      "\n",
      "<google.cloud.aiplatform.models.Endpoint object at 0x7f5a5c97da50> \n",
      "resource name: projects/934903580331/locations/us-central1/endpoints/7280926416714072064\n"
     ]
    }
   ],
   "source": [
    "start = time.process_time()\n",
    "\n",
    "endpoint = vertex_ai.Endpoint.create(\n",
    "    display_name=ENDPOINT_DISPLAY_NAME,\n",
    "    project=PROJECT_ID,\n",
    "    location=LOCATION,\n",
    ")\n",
    "\n",
    "print(f\"Created endpoint in {round((time.process_time() - start),2)} seconds\\n\")\n",
    "\n",
    "print(endpoint)"
   ]
  },
  {
   "cell_type": "code",
   "execution_count": 38,
   "id": "f9d3f331-5cf9-4b16-82d0-67c442ccbb63",
   "metadata": {},
   "outputs": [
    {
     "name": "stdout",
     "output_type": "stream",
     "text": [
      "Deploying model to Endpoint : projects/934903580331/locations/us-central1/endpoints/7280926416714072064\n",
      "Deploy Endpoint model backing LRO: projects/934903580331/locations/us-central1/endpoints/7280926416714072064/operations/8438481057161936896\n",
      "Endpoint model deployed. Resource name: projects/934903580331/locations/us-central1/endpoints/7280926416714072064\n",
      "Deployed model to endpoint in 0.48 seconds\n",
      "\n",
      "<google.cloud.aiplatform.models.Model object at 0x7f59cbf33110> \n",
      "resource name: projects/934903580331/locations/us-central1/models/3931415975299121152\n"
     ]
    }
   ],
   "source": [
    "start = time.process_time()\n",
    "\n",
    "model.deploy(\n",
    "    endpoint=endpoint,\n",
    "    deployed_model_display_name=DEPLOYED_MODEL_DISPLAY_NAME,\n",
    "    machine_type=machine_type,\n",
    "    min_replica_count=min_replica_count,\n",
    "    max_replica_count=max_replica_count,\n",
    "    traffic_percentage=traffic_percentage,\n",
    "    accelerator_type=accelerator_type,\n",
    "    accelerator_count=accelerator_count,\n",
    "    service_account=VERTEX_SA,\n",
    "    sync=True,\n",
    "    # deploy_request_timeout=1800\n",
    ")\n",
    "\n",
    "print(f\"Deployed model to endpoint in {round((time.process_time() - start),2)} seconds\\n\")\n",
    "\n",
    "print(model)"
   ]
  },
  {
   "cell_type": "code",
   "execution_count": 40,
   "id": "0c613b49-2e02-4a32-bcd7-ee517171cb07",
   "metadata": {},
   "outputs": [
    {
     "name": "stdout",
     "output_type": "stream",
     "text": [
      "id: \"2380288742507151360\"\n",
      "model: \"projects/934903580331/locations/us-central1/models/3931415975299121152\"\n",
      "display_name: \"nb-deployed-mm-qtower-v23\"\n",
      "create_time {\n",
      "  seconds: 1678145739\n",
      "  nanos: 478510000\n",
      "}\n",
      "dedicated_resources {\n",
      "  machine_spec {\n",
      "    machine_type: \"n1-highmem-16\"\n",
      "    accelerator_type: NVIDIA_TESLA_T4\n",
      "    accelerator_count: 1\n",
      "  }\n",
      "  min_replica_count: 1\n",
      "  max_replica_count: 1\n",
      "}\n",
      "service_account: \"934903580331-compute@developer.gserviceaccount.com\"\n",
      "model_version_id: \"1\"\n",
      "\n"
     ]
    }
   ],
   "source": [
    "print(endpoint.gca_resource.deployed_models[0])"
   ]
  },
  {
   "cell_type": "code",
   "execution_count": 41,
   "id": "b6f03850-37a1-488e-a668-fb50f504e29f",
   "metadata": {},
   "outputs": [],
   "source": [
    "TEST_INSTANCE = {\n",
    "    'collaborative': 'false',\n",
    "    'album_name_pl': [\n",
    "        \"There's Really A Wolf\", 'Late Nights: The Album','American Teen', 'Crazy In Love', 'Pony'\n",
    "    ], \n",
    "    'artist_genres_pl': [\n",
    "        \"'hawaiian hip hop', 'rap'\",\n",
    "       \"'chicago rap', 'dance pop', 'pop', 'pop rap', 'r&b', 'southern hip hop', 'trap', 'urban contemporary'\",\n",
    "       \"'pop', 'pop r&b'\", \"'dance pop', 'pop', 'r&b'\",\n",
    "       \"'chill r&b', 'pop', 'pop r&b', 'r&b', 'urban contemporary'\"\n",
    "    ], \n",
    "    'artist_name_pl': [\n",
    "        'Russ', 'Jeremih', 'Khalid', 'Beyonc\\xc3\\xa9','William Singe'\n",
    "    ], \n",
    "    'artist_pop_can': 82.0, \n",
    "    'description_pl': '', \n",
    "    'duration_ms_songs_pl': [\n",
    "        237506.0, 217200.0, 219080.0, 226400.0, 121739.0\n",
    "    ], \n",
    "    'n_songs_pl': 8.0, \n",
    "    'name': 'Lit Tunes ', \n",
    "    'num_albums_pl': 8.0, \n",
    "    'num_artists_pl': 8.0, \n",
    "    'track_name_pl': [\n",
    "        'Losin Control', 'Paradise', 'Location','Crazy In Love - Remix', 'Pony'\n",
    "    ], \n",
    "    'track_pop_pl': [\n",
    "        79.0, 58.0, 83.0, 71.0, 57.0\n",
    "    ],\n",
    "    'duration_ms_seed_pl': 51023.1,\n",
    "    'pid': 1,\n",
    "    'track_uri_pl': [\n",
    "        'spotify:track:4cxMGhkinTocPSVVKWIw0d',\n",
    "        'spotify:track:1wNEBPo3nsbGCZRryI832I',\n",
    "        'spotify:track:152lZdxL1OR0ZMW6KquMif',\n",
    "        'spotify:track:2f4IuijXLxYOeBncS60GUD',\n",
    "        'spotify:track:4Lj8paMFwyKTGfILLELVxt'\n",
    "    ]\n",
    "}"
   ]
  },
  {
   "cell_type": "code",
   "execution_count": 42,
   "id": "3f8cb6ca-6395-476c-bb70-bf1ab0d07b1e",
   "metadata": {},
   "outputs": [
    {
     "name": "stdout",
     "output_type": "stream",
     "text": [
      "query conversion: 0.0824 seconds\n",
      "Vector Dimensions: 128\n",
      "\n",
      "embeddings: [[0.1575801819562912, 0.0250331275165081, 0.0, 0.01443512085825205, 0.004722597077488899, 0.0, 0.06282097101211548, 0.0, 0.0, 0.0, 0.0, 0.0, 0.0, 0.007788579910993576, 0.0, 0.01886783353984356, 0.0, 0.01729366183280945, 0.0, 0.006211482454091311, 0.00838406290858984, 0.03776045143604279, 0.02149274945259094, 0.0, 0.0, 0.03309539705514908, 0.04335452243685722, 0.1061182543635368, 0.0, 0.001437801984138787, 0.002923614345490932, 0.08064340800046921, 0.0, 0.0, 0.0, 0.0839158147573471, 0.0, 0.007533694617450237, 0.0, 0.08348245173692703, 0.0, 0.0, 0.0, 0.06940964609384537, 0.0, 0.0, 0.0, 0.05281869694590569, 0.0, 0.0, 0.09006726741790771, 0.0, 0.02304030582308769, 0.0, 0.0, 0.1235332861542702, 0.0, 0.0, 0.0, 0.0, 0.0, 0.0, 0.05732613429427147, 0.1368753612041473, 0.0, 0.0, 0.04231433570384979, 0.02258080057799816, 0.1451370418071747, 0.0, 0.0, 4.405411891639233e-05, 0.01958194933831692, 0.08558918535709381, 0.02892324142158031, 0.0, 0.0, 0.0, 0.0, 0.1039104163646698, 0.0, 0.07062456011772156, 0.04469482600688934, 0.0, 0.06034788489341736, 0.04911841824650764, 0.01223199348896742, 0.0, 0.0, 0.0, 0.0, 0.0, 0.09373706579208374, 0.03716122731566429, 0.02811390161514282, 0.005763671826571226, 0.0, 0.00527226272970438, 0.004233377519994974, 0.0, 0.05264626070857048, 0.0, 0.007682512979954481, 0.03449894860386848, 0.00709805591031909, 0.0, 0.02938228473067284, 0.05054216831922531, 0.0, 0.004321055486798286, 0.0, 0.07757750153541565, 0.0, 0.008962921798229218, 0.0, 0.0, 0.004551188088953495, 0.0, 0.0, 0.04320501536130905, 0.09563911706209183, 0.0, 0.0, 0.02130646258592606, 0.0, 0.0, 0.01366408076137304, 0.0004126514540985227]]\n"
     ]
    }
   ],
   "source": [
    "start = time.process_time()\n",
    "\n",
    "playlist_emb = endpoint.predict(instances=[TEST_INSTANCE])\n",
    "\n",
    "print(f\"query conversion: {round((time.process_time() - start),4)} seconds\")\n",
    "print(f\"Vector Dimensions: {len(playlist_emb.predictions[0])}\\n\")\n",
    "\n",
    "print(f\"embeddings: {playlist_emb.predictions}\")"
   ]
  },
  {
   "cell_type": "code",
   "execution_count": 43,
   "id": "509ab895-1d1c-4ada-be9b-317cce9d95e4",
   "metadata": {},
   "outputs": [
    {
     "name": "stdout",
     "output_type": "stream",
     "text": [
      "query conversion: 0.0261\n"
     ]
    }
   ],
   "source": [
    "start = time.process_time()\n",
    "\n",
    "playlist_emb = endpoint.predict(instances=[TEST_INSTANCE])\n",
    "\n",
    "end = time.process_time()\n",
    "\n",
    "total_train_time = round((end - start),4)\n",
    "\n",
    "print(f\"query conversion: {total_train_time}\")"
   ]
  },
  {
   "cell_type": "code",
   "execution_count": null,
   "id": "57f635b5-cfb3-460c-b2bf-8f77337df8c1",
   "metadata": {},
   "outputs": [],
   "source": []
  }
 ],
 "metadata": {
  "environment": {
   "kernel": "python3",
   "name": "tf2-gpu.2-9.m100",
   "type": "gcloud",
   "uri": "gcr.io/deeplearning-platform-release/tf2-gpu.2-9:m100"
  },
  "kernelspec": {
   "display_name": "Python 3",
   "language": "python",
   "name": "python3"
  },
  "language_info": {
   "codemirror_mode": {
    "name": "ipython",
    "version": 3
   },
   "file_extension": ".py",
   "mimetype": "text/x-python",
   "name": "python",
   "nbconvert_exporter": "python",
   "pygments_lexer": "ipython3",
   "version": "3.7.12"
  }
 },
 "nbformat": 4,
 "nbformat_minor": 5
}
