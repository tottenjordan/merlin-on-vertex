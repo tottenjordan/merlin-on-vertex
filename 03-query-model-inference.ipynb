{
 "cells": [
  {
   "cell_type": "markdown",
   "id": "cc27ca62-e310-4139-b3bb-3a0cba5d58ef",
   "metadata": {},
   "source": [
    "# Deploying Merlin Query Tower with Vertex AI\n",
    "\n",
    "* Create custom prediction routine (CPR)\n",
    "* Upload query model to Vertex AI Model Registry\n",
    "* Test registered models predictions"
   ]
  },
  {
   "cell_type": "code",
   "execution_count": 1,
   "id": "7eb40555-d090-45b8-a197-26252e430287",
   "metadata": {},
   "outputs": [
    {
     "name": "stdout",
     "output_type": "stream",
     "text": [
      "PROJECT_ID: hybrid-vertex\n",
      "PROJECT_NUM: 934903580331\n",
      "LOCATION: us-central1\n"
     ]
    }
   ],
   "source": [
    "GCP_PROJECTS = !gcloud config get-value project\n",
    "PROJECT_ID = GCP_PROJECTS[0]\n",
    "PROJECT_NUM = !gcloud projects list --filter=\"$PROJECT_ID\" --format=\"value(PROJECT_NUMBER)\"\n",
    "PROJECT_NUM = PROJECT_NUM[0]\n",
    "LOCATION = 'us-central1'\n",
    "\n",
    "print(f\"PROJECT_ID: {PROJECT_ID}\")\n",
    "print(f\"PROJECT_NUM: {PROJECT_NUM}\")\n",
    "print(f\"LOCATION: {LOCATION}\")"
   ]
  },
  {
   "cell_type": "code",
   "execution_count": 2,
   "id": "bb336ccc-239a-4f43-8fc5-318a31dd0876",
   "metadata": {},
   "outputs": [],
   "source": [
    "from google.cloud import aiplatform as vertex_ai\n",
    "import os\n",
    "import time\n",
    "\n",
    "BUCKET = 'jt-merlin-scaling'\n",
    "BUCKET_URI = 'gs://jt-merlin-scaling'\n",
    "\n",
    "vertex_ai.init(project=PROJECT_ID, location=LOCATION)"
   ]
  },
  {
   "cell_type": "code",
   "execution_count": 3,
   "id": "15b8b6e4-0426-49f9-82ca-8e7cf5ea07b9",
   "metadata": {},
   "outputs": [],
   "source": [
    "# !gcloud auth application-default login"
   ]
  },
  {
   "cell_type": "markdown",
   "id": "ce275cb8-05ba-4daf-9cfc-2a2d8ab4f591",
   "metadata": {},
   "source": [
    "## Build serving app"
   ]
  },
  {
   "cell_type": "code",
   "execution_count": 4,
   "id": "3a28ef83-b05b-4b4c-9694-59d5b64e2045",
   "metadata": {},
   "outputs": [],
   "source": [
    "REPO_DOCKER_PATH_PREFIX = 'src'\n",
    "SERVING_SUB_DIR = 'serving'\n",
    "SERVING_APPLICATION_DIR = 'app'\n",
    "SERVING_DOCKERNAME = 'mm-query-serve'\n",
    "LOCAL_WORKFLOW_DIR = f'{REPO_DOCKER_PATH_PREFIX}/{SERVING_SUB_DIR}/local_workflow'"
   ]
  },
  {
   "cell_type": "markdown",
   "id": "2723aaec-495e-4a74-b895-ff87fdd9ba1d",
   "metadata": {},
   "source": [
    "### write pred files to local dir"
   ]
  },
  {
   "cell_type": "code",
   "execution_count": 5,
   "id": "734aea8d-6367-4bcd-9ce2-e8025ac17475",
   "metadata": {},
   "outputs": [],
   "source": [
    "# Make the training subfolder\n",
    "! rm -rf {REPO_DOCKER_PATH_PREFIX}/{SERVING_SUB_DIR}\n",
    "! mkdir {REPO_DOCKER_PATH_PREFIX}/{SERVING_SUB_DIR}\n",
    "! mkdir {REPO_DOCKER_PATH_PREFIX}/{SERVING_SUB_DIR}/{SERVING_APPLICATION_DIR}\n",
    "! touch {REPO_DOCKER_PATH_PREFIX}/{SERVING_SUB_DIR}/{SERVING_APPLICATION_DIR}/__init__.py\n",
    "\n",
    "!rm -rf $LOCAL_WORKFLOW_DIR\n",
    "!mkdir $LOCAL_WORKFLOW_DIR"
   ]
  },
  {
   "cell_type": "markdown",
   "id": "3d4c1711-1b15-4df1-8ec1-b919e25eddaa",
   "metadata": {},
   "source": [
    "#### requirements"
   ]
  },
  {
   "cell_type": "code",
   "execution_count": 6,
   "id": "308c947c-1bdf-42ea-96aa-0bb897bd9217",
   "metadata": {},
   "outputs": [
    {
     "name": "stdout",
     "output_type": "stream",
     "text": [
      "Writing src/serving/app/requirements.txt\n"
     ]
    }
   ],
   "source": [
    "%%writefile {REPO_DOCKER_PATH_PREFIX}/{SERVING_SUB_DIR}/{SERVING_APPLICATION_DIR}/requirements.txt\n",
    "uvicorn[standard]==0.15.0\n",
    "gunicorn==20.1.0\n",
    "fastapi==0.68.1\n",
    "# uvloop==0.15.2\n",
    "# fastapi-utils\n",
    "google-cloud-aiplatform\n",
    "merlin-models\n",
    "nvtabular\n",
    "gcsfs\n",
    "google-cloud-storage"
   ]
  },
  {
   "cell_type": "markdown",
   "id": "8ef49b8d-c2eb-4216-8468-1e94cb96dd5b",
   "metadata": {},
   "source": [
    "### dataset to tensors"
   ]
  },
  {
   "cell_type": "code",
   "execution_count": 7,
   "id": "a2b4ea03-b21e-4a58-a737-7622278dbafe",
   "metadata": {},
   "outputs": [
    {
     "name": "stdout",
     "output_type": "stream",
     "text": [
      "Writing src/serving/app/dataset_to_tensors.py\n"
     ]
    }
   ],
   "source": [
    "%%writefile {REPO_DOCKER_PATH_PREFIX}/{SERVING_SUB_DIR}/{SERVING_APPLICATION_DIR}/dataset_to_tensors.py\n",
    "\n",
    "try:\n",
    "    import cudf\n",
    "except ImportError:\n",
    "    cudf = None\n",
    "import pandas as pd\n",
    "import tensorflow as tf\n",
    "from typing import Dict\n",
    "from merlin.io import Dataset\n",
    "import itertools\n",
    "\n",
    "\n",
    "def cupy_array_to_tensor(array):\n",
    "    return tf.experimental.dlpack.from_dlpack(array.reshape(-1, 1).toDlpack())\n",
    "\n",
    "def numpy_array_to_tensor(array):\n",
    "    return tf.convert_to_tensor(array.reshape(-1, 1))\n",
    "\n",
    "def cudf_series_to_tensor(col) -> tf.Tensor:\n",
    "    \"Convert a cudf.Series to a TensorFlow Tensor with DLPack\"\n",
    "    if isinstance(col.dtype, cudf.ListDtype):\n",
    "        values = col.list.leaves.values\n",
    "        offsets = col.list._column.offsets.values\n",
    "        row_lengths = offsets[1:] - offsets[:-1]\n",
    "        return cupy_array_to_tensor(values), cupy_array_to_tensor(row_lengths)\n",
    "    else:\n",
    "        return cupy_array_to_tensor(col.values)\n",
    "\n",
    "def pandas_series_to_tensor(col) -> tf.Tensor:\n",
    "    if len(col) and pd.api.types.is_list_like(col.values[0]):\n",
    "        values = pd.Series(itertools.chain(*col)).values\n",
    "        row_lengths = col.map(len).values\n",
    "        return numpy_array_to_tensor(values), numpy_array_to_tensor(row_lengths)\n",
    "    else:\n",
    "        return numpy_array_to_tensor(col.values)\n",
    "        \n",
    "    \n",
    "def dataset_to_tensors(dataset: Dataset) -> Dict[str, tf.Tensor]:\n",
    "    \"\"\"Convert a DataFrame to Dict of Tensors\"\"\"\n",
    "    df = dataset.to_ddf().compute()\n",
    "    if isinstance(df, pd.DataFrame):\n",
    "        col_to_tensor = pandas_series_to_tensor\n",
    "    else:\n",
    "        col_to_tensor = cudf_series_to_tensor\n",
    "    return {\n",
    "        column: col_to_tensor(df[column])\n",
    "        for column in df.columns\n",
    "    }"
   ]
  },
  {
   "cell_type": "markdown",
   "id": "e5d9432c-59f2-467e-8334-da6764e64326",
   "metadata": {},
   "source": [
    "#### predictor"
   ]
  },
  {
   "cell_type": "code",
   "execution_count": 8,
   "id": "141ef566-1582-433b-a5c6-e6ad41c8e3c9",
   "metadata": {},
   "outputs": [
    {
     "name": "stdout",
     "output_type": "stream",
     "text": [
      "Writing src/serving/app/predictor.py\n"
     ]
    }
   ],
   "source": [
    "%%writefile {REPO_DOCKER_PATH_PREFIX}/{SERVING_SUB_DIR}/{SERVING_APPLICATION_DIR}/predictor.py\n",
    "import nvtabular as nvt\n",
    "import pandas as pd\n",
    "import os\n",
    "import json\n",
    "import merlin.models.tf as mm\n",
    "from nvtabular.loader.tf_utils import configure_tensorflow\n",
    "configure_tensorflow()\n",
    "import tensorflow as tf\n",
    "import time\n",
    "import logging\n",
    "from dataset_to_tensors import *\n",
    "\n",
    "\n",
    "# These are helper functions that ensure the dictionary input is in a certain order and types are preserved\n",
    "# this is to get scalar values to appear first in the dict to not confuse pandas with lists https://github.com/pandas-dev/pandas/issues/46092\n",
    "reordered_keys = [\n",
    "    'collaborative', \n",
    "    'album_name_pl', \n",
    "    'artist_genres_pl', \n",
    "    'artist_name_pl', \n",
    "    'artist_pop_can', \n",
    "    'description_pl', \n",
    "    'duration_ms_songs_pl', \n",
    "    'n_songs_pl', \n",
    "    'name', \n",
    "    'num_albums_pl', \n",
    "    'num_artists_pl', \n",
    "    'track_name_pl', \n",
    "    'track_pop_pl', \n",
    "    'duration_ms_seed_pl', \n",
    "    'pid', \n",
    "    'track_uri_pl'\n",
    "]\n",
    "\n",
    "float_num_fix = ['n_songs_pl','num_albums_pl','num_artists_pl','duration_ms_seed_pl']\n",
    "float_list_fix = ['track_pop_pl', 'duration_ms_songs_pl']\n",
    "    \n",
    "def fix_list_num_dtypes(num_list):\n",
    "    \"this fixes lists of ints to list of floats converted in json input\"\n",
    "    return [float(x) for x in num_list]\n",
    "\n",
    "def fix_num_dtypes(num):\n",
    "    \"this fixes ints and casts to floats\"\n",
    "    return float(num)\n",
    "\n",
    "def fix_types(k, v):\n",
    "    if k in float_num_fix:\n",
    "        return fix_num_dtypes(v)\n",
    "    if k in float_list_fix:\n",
    "        return fix_list_num_dtypes(v)\n",
    "    else:\n",
    "        return v\n",
    "\n",
    "def create_pandas_instance(inputs):\n",
    "    \"\"\"\n",
    "    Helper function to reorder the input to have a sclar first for pandas\n",
    "    And fix the types converted when data is imported by fastAPI\n",
    "    \"\"\"\n",
    "    if type(inputs) == list:\n",
    "        header = inputs[0]\n",
    "        reordered_header_dict = {k: fix_types(k,header[k]) for k in reordered_keys}\n",
    "        pandas_instance = pd.DataFrame.from_dict(reordered_header_dict, orient='index').T\n",
    "        if len(inputs) > 1:\n",
    "            for ti in inputs[1:]:\n",
    "                reordered_dict = {k: fix_types(k,ti[k]) for k in reordered_keys}\n",
    "                pandas_instance = pandas_instance.append(pd.DataFrame.from_dict(reordered_dict, orient='index').T)\n",
    "    else:\n",
    "        reordered_dict = {k: fix_types(k,inputs[k]) for k in reordered_keys}\n",
    "        pandas_instance = pd.DataFrame.from_dict(reordered_dict, orient='index').T\n",
    "    return pandas_instance\n",
    "\n",
    "class Predictor():\n",
    "    \"\"\"Interface of the Predictor class for Custom Prediction Routines.\n",
    "    The Predictor is responsible for the ML logic for processing a prediction request.\n",
    "    Specifically, the Predictor must define:\n",
    "    (1) How to load all model artifacts used during prediction into memory.\n",
    "    (2) The logic that should be executed at predict time.\n",
    "    When using the default PredictionHandler, the Predictor will be invoked as follows:\n",
    "      predictor.postprocess(predictor.predict(predictor.preprocess(prediction_input)))\n",
    "    \"\"\"\n",
    "    def __init__(self):\n",
    "        return\n",
    "    \n",
    "    def load(self, artifacts_uri):\n",
    "        \"\"\"Loads the model artifact.\n",
    "        Args:\n",
    "            artifacts_uri (str):\n",
    "                Required. The value of the environment variable AIP_STORAGE_URI.\n",
    "        \"\"\"\n",
    "        logging.info(\"loading model and workflow\")\n",
    "        start_init = time.process_time()\n",
    "        \n",
    "        #test_bucket = 'gs://jt-merlin-scaling'\n",
    "        # self.model = tf.keras.models.load_model(os.path.join(artifacts_uri, \"query_model_merlin\" ))\n",
    "        # self.workflow = nvt.Workflow.load(os.path.join(artifacts_uri, \"workflow/2t-spotify-workflow\")) # TODO: parameterize\n",
    "        self.model = tf.keras.models.load_model(artifacts_uri)\n",
    "        \n",
    "        # self.workflow = nvt.Workflow.load(os.path.join(artifacts_uri, \"workflow/2t-spotify-workflow\"))\n",
    "        # self.workflow = nvt.Workflow.load('gs://jt-merlin-scaling/nvt-last5-v1full/nvt-analyzed') # TODO: parametrize\n",
    "        self.workflow = nvt.Workflow.load(\"/docker_workflow/workflow\")\n",
    "        \n",
    "        self.workflow = self.workflow.remove_inputs(\n",
    "            [\n",
    "                'track_pop_can', \n",
    "                'track_uri_can', \n",
    "                'duration_ms_can', \n",
    "                'track_name_can', \n",
    "                'artist_name_can',\n",
    "                'album_name_can',\n",
    "                'album_uri_can',\n",
    "                'artist_followers_can', \n",
    "                'artist_genres_can',\n",
    "                'artist_name_can', \n",
    "                'artist_pop_can',\n",
    "                'artist_pop_pl',\n",
    "                'artist_uri_can', \n",
    "                'artists_followers_pl'\n",
    "            ]\n",
    "        )\n",
    "        return self\n",
    "        \n",
    "    def predict(self, prediction_input):\n",
    "        \"\"\"Preprocesses the prediction input before doing the prediction.\n",
    "        Args:\n",
    "            prediction_input (Any):\n",
    "                Required. The prediction input that needs to be preprocessed.\n",
    "        Returns:\n",
    "            The preprocessed prediction input.\n",
    "        \"\"\"\n",
    "        # handle different input types, can take a dict or list of dicts\n",
    "        self.n_rows = len(prediction_input)\n",
    "        start = time.process_time()\n",
    "        pandas_instance = create_pandas_instance(prediction_input[0])\n",
    "        #logging.info(f\"Pandas conversion took {time.process_time() - start} seconds\")\n",
    "        print(f\"Pandas conversion took {time.process_time() - start} seconds\")\n",
    "        start = time.process_time()\n",
    "        transformed_inputs = nvt.Dataset(pandas_instance)\n",
    "        #logging.info(f\"NVT data loading took {time.process_time() - start} seconds\")\n",
    "        print(f\"NVT data loading took {time.process_time() - start} seconds\")\n",
    "        start = time.process_time()\n",
    "        transformed_instance = self.workflow.transform(transformed_inputs)\n",
    "        print(f\"Workflow transformation took {time.process_time() - start} seconds\")\n",
    "\n",
    "        # def predict(self, instances):\n",
    "        start = time.process_time()\n",
    "        \n",
    "        batch = dataset_to_tensors(transformed_instance)\n",
    "        print(f\"converting to dict_tensors took {time.process_time() - start} seconds\")\n",
    "        start = time.process_time()\n",
    "        output = self.model(batch)\n",
    "        print(f\"Generating query embeddings took {time.process_time() - start} seconds\")\n",
    "        return transformed_instance, output, batch"
   ]
  },
  {
   "cell_type": "markdown",
   "id": "5f31d7cf-0a48-4190-8c48-9f6544d47124",
   "metadata": {},
   "source": [
    "#### main"
   ]
  },
  {
   "cell_type": "code",
   "execution_count": 9,
   "id": "9af6931b-0fe1-43b1-a14e-85b8fa0ef862",
   "metadata": {},
   "outputs": [
    {
     "name": "stdout",
     "output_type": "stream",
     "text": [
      "Writing src/serving/app/main.py\n"
     ]
    }
   ],
   "source": [
    "%%writefile {REPO_DOCKER_PATH_PREFIX}/{SERVING_SUB_DIR}/{SERVING_APPLICATION_DIR}/main.py\n",
    "from fastapi import FastAPI, Request\n",
    "\n",
    "import json\n",
    "import numpy as np\n",
    "import os\n",
    "import logging\n",
    "\n",
    "\n",
    "from google.cloud import storage\n",
    "from predictor import Predictor\n",
    "\n",
    "app = FastAPI()\n",
    "\n",
    "predictor_instance = Predictor()\n",
    "loaded_predictor = predictor_instance.load(artifacts_uri = os.environ['AIP_STORAGE_URI'])\n",
    "\n",
    "@app.get(os.environ['AIP_HEALTH_ROUTE'], status_code=200)\n",
    "def health():\n",
    "    return {}\n",
    "\n",
    "\n",
    "@app.post(os.environ['AIP_PREDICT_ROUTE'])\n",
    "async def predict(request: Request):\n",
    "    body = await request.json()\n",
    "    instances = body[\"instances\"]\n",
    "    outputs = loaded_predictor.predict(instances)\n",
    "\n",
    "    return {\"predictions\": outputs[1].numpy().tolist()}"
   ]
  },
  {
   "cell_type": "code",
   "execution_count": 11,
   "id": "6e5eb243-8407-4f90-a070-749038288fef",
   "metadata": {},
   "outputs": [
    {
     "name": "stdout",
     "output_type": "stream",
     "text": [
      "Writing src/serving/app/prestart.sh\n"
     ]
    }
   ],
   "source": [
    "%%writefile {REPO_DOCKER_PATH_PREFIX}/{SERVING_SUB_DIR}/{SERVING_APPLICATION_DIR}/prestart.sh\n",
    "#!/bin/bash\n",
    "export PORT=$AIP_HTTP_PORT"
   ]
  },
  {
   "cell_type": "code",
   "execution_count": 12,
   "id": "f71121ab-b4d8-40de-8c72-022fd97878bd",
   "metadata": {},
   "outputs": [
    {
     "name": "stdout",
     "output_type": "stream",
     "text": [
      "Writing src/serving/app/instances.json\n"
     ]
    }
   ],
   "source": [
    "%%writefile {REPO_DOCKER_PATH_PREFIX}/{SERVING_SUB_DIR}/{SERVING_APPLICATION_DIR}/instances.json\n",
    "{\"instances\": {\"collaborative\": \"false\", \"album_name_pl\": [\"There's Really A Wolf\", \"Late Nights: The Album\", \"American Teen\", \"Crazy In Love\", \"Pony\"], \"album_uri_can\": \"spotify:album:5l83t3mbVgCrIe1VU9uJZR\", \"artist_followers_can\": 4339757.0, \"artist_genres_can\": \"'hawaiian hip hop', 'rap'\", \"artist_genres_pl\": [\"'hawaiian hip hop', 'rap'\", \"'chicago rap', 'dance pop', 'pop', 'pop rap', 'r&b', 'southern hip hop', 'trap', 'urban contemporary'\", \"'pop', 'pop r&b'\", \"'dance pop', 'pop', 'r&b'\", \"'chill r&b', 'pop', 'pop r&b', 'r&b', 'urban contemporary'\"], \"artist_name_can\": \"Russ\", \"artist_name_pl\": [\"Russ\", \"Jeremih\", \"Khalid\", \"Beyonc\\u00c3\\u00a9\", \"William Singe\"], \"artist_pop_can\": 82.0, \"artist_pop_pl\": [82.0, 80.0, 90.0, 87.0, 65.0], \"artist_uri_can\": \"spotify:artist:1z7b1Pr1rSlvWRzsW3HOrS\", \"artists_followers_pl\": [4339757.0, 5611842.0, 15046756.0, 30713126.0, 603837.0], \"description_pl\": \"\", \"duration_ms_can\": 237322.0, \"duration_ms_songs_pl\": [237506.0, 217200.0, 219080.0, 226400.0, 121739.0], \"n_songs_pl\": 8.0, \"name\": \"Lit Tunes \", \"num_albums_pl\": 8.0, \"num_artists_pl\": 8.0, \"track_name_can\": \"We Just Havent Met Yet\", \"track_name_pl\": [\"Losin Control\", \"Paradise\", \"Location\", \"Crazy In Love - Remix\", \"Pony\"], \"track_pop_can\": 57.0, \"track_pop_pl\": [79.0, 58.0, 83.0, 71.0, 57.0], \"duration_ms_seed_pl\": 51023.1, \"pid\": 1, \"track_uri_can\": \"spotify:track:0VzDv4wiuZsLsNOmfaUy2W\", \"track_uri_pl\": [\"spotify:track:4cxMGhkinTocPSVVKWIw0d\", \"spotify:track:1wNEBPo3nsbGCZRryI832I\", \"spotify:track:152lZdxL1OR0ZMW6KquMif\", \"spotify:track:2f4IuijXLxYOeBncS60GUD\", \"spotify:track:4Lj8paMFwyKTGfILLELVxt\"]}}"
   ]
  },
  {
   "cell_type": "code",
   "execution_count": 13,
   "id": "1147891d-0d39-4ad6-8466-da0ad292d511",
   "metadata": {},
   "outputs": [],
   "source": [
    "# !pwd\n",
    "# !tree /home/jupyter/merlin-on-vertex"
   ]
  },
  {
   "cell_type": "markdown",
   "id": "e08d1058-73f1-48a7-bede-a1bca7d9f47c",
   "metadata": {},
   "source": [
    "### local nvtabular workflow"
   ]
  },
  {
   "cell_type": "code",
   "execution_count": 13,
   "id": "b3b5714b-31dc-4e59-8b6e-cfa63e69e8a4",
   "metadata": {},
   "outputs": [
    {
     "name": "stdout",
     "output_type": "stream",
     "text": [
      "Copying gs://jt-merlin-scaling/nvt-last5-latest-12/nvt-processed/workflow/categories/unique.album_name_pl.parquet...\n",
      "Copying gs://jt-merlin-scaling/nvt-last5-latest-12/nvt-processed/workflow/categories/unique.artist_genres_can.parquet...\n",
      "Copying gs://jt-merlin-scaling/nvt-last5-latest-12/nvt-processed/workflow/categories/unique.artist_genres_pl.parquet...\n",
      "Copying gs://jt-merlin-scaling/nvt-last5-latest-12/nvt-processed/workflow/categories/unique.artist_name_can.parquet...\n",
      "- [4 files][ 23.6 MiB/ 23.6 MiB]                                                \n",
      "==> NOTE: You are performing a sequence of gsutil operations that may\n",
      "run significantly faster if you instead use gsutil -m cp ... Please\n",
      "see the -m section under \"gsutil help options\" for further information\n",
      "about when gsutil -m can be advantageous.\n",
      "\n",
      "Copying gs://jt-merlin-scaling/nvt-last5-latest-12/nvt-processed/workflow/categories/unique.artist_name_pl.parquet...\n",
      "Copying gs://jt-merlin-scaling/nvt-last5-latest-12/nvt-processed/workflow/categories/unique.collaborative.parquet...\n",
      "Copying gs://jt-merlin-scaling/nvt-last5-latest-12/nvt-processed/workflow/categories/unique.description_pl.parquet...\n",
      "Copying gs://jt-merlin-scaling/nvt-last5-latest-12/nvt-processed/workflow/categories/unique.name.parquet...\n",
      "Copying gs://jt-merlin-scaling/nvt-last5-latest-12/nvt-processed/workflow/categories/unique.pid.parquet...\n",
      "Copying gs://jt-merlin-scaling/nvt-last5-latest-12/nvt-processed/workflow/categories/unique.track_name_can.parquet...\n",
      "Copying gs://jt-merlin-scaling/nvt-last5-latest-12/nvt-processed/workflow/categories/unique.track_name_pl.parquet...\n",
      "Copying gs://jt-merlin-scaling/nvt-last5-latest-12/nvt-processed/workflow/categories/unique.track_uri_can.parquet...\n",
      "Copying gs://jt-merlin-scaling/nvt-last5-latest-12/nvt-processed/workflow/categories/unique.track_uri_pl.parquet...\n",
      "Copying gs://jt-merlin-scaling/nvt-last5-latest-12/nvt-processed/workflow/metadata.json...\n",
      "Copying gs://jt-merlin-scaling/nvt-last5-latest-12/nvt-processed/workflow/workflow.pkl...\n",
      "| [15 files][284.9 MiB/284.9 MiB]                                               \n",
      "Operation completed over 15 objects/284.9 MiB.                                   \n"
     ]
    }
   ],
   "source": [
    "WORKFLOW_DIR='gs://jt-merlin-scaling/nvt-last5-latest-12/nvt-processed/workflow'\n",
    "\n",
    "!gsutil cp -r $WORKFLOW_DIR $LOCAL_WORKFLOW_DIR"
   ]
  },
  {
   "cell_type": "markdown",
   "id": "c2390771-4c19-4c14-b8b3-940437deb824",
   "metadata": {},
   "source": [
    "### dockerfile"
   ]
  },
  {
   "cell_type": "code",
   "execution_count": 112,
   "id": "10de1285-535f-4952-9bb0-15e08ab36de2",
   "metadata": {},
   "outputs": [],
   "source": [
    "! rm -rf {REPO_DOCKER_PATH_PREFIX}/Dockerfile.{SERVING_DOCKERNAME}"
   ]
  },
  {
   "cell_type": "code",
   "execution_count": 113,
   "id": "0f9837b4-c739-4671-9ca6-df71fb590404",
   "metadata": {},
   "outputs": [
    {
     "name": "stdout",
     "output_type": "stream",
     "text": [
      "Writing src/Dockerfile.mm-query-serve\n"
     ]
    }
   ],
   "source": [
    "%%writefile {REPO_DOCKER_PATH_PREFIX}/Dockerfile.{SERVING_DOCKERNAME}\n",
    "\n",
    "FROM nvcr.io/nvidia/merlin/merlin-tensorflow:22.12\n",
    "\n",
    "# WORKDIR /src\n",
    "WORKDIR /app\n",
    "\n",
    "# Copies the serving code to the docker image.\n",
    "# COPY serving/* serving/ \n",
    "\n",
    "# COPY /serving/requirements.txt /requirements.txt\n",
    "COPY ./serving/app/requirements.txt /requirements.txt\n",
    "RUN pip install -r /requirements.txt\n",
    "\n",
    "#DEBUG CHANGES!!\n",
    "# RUN mkdir /docker_workflow\n",
    "# RUN mkdir /docker_model\n",
    "# ADD local_model /docker_model\n",
    "# ADD /serving/local_workflow /docker_workflow # TODO - jt paramterize\n",
    "#END DEBUG!\n",
    "# COPY /serving/local_workflow /docker_workflow #chaned to local_workflow\n",
    "\n",
    "RUN mkdir /docker_workflow\n",
    "# ADD ./serving/local_workflow /docker_workflow\n",
    "COPY ./serving/local_workflow /docker_workflow\n",
    "# ADD local_workflow /docker_workflow\n",
    "\n",
    "# COPY /serving/app /app\n",
    "COPY ./serving/app /app\n",
    "\n",
    "EXPOSE 80\n",
    "    \n",
    "CMD [\"sh\", \"-c\", \"uvicorn main:app --host 0.0.0.0 --port $AIP_HTTP_PORT\"]"
   ]
  },
  {
   "cell_type": "code",
   "execution_count": 114,
   "id": "e8bf668c-7fd8-4a71-aca8-6a6d18319402",
   "metadata": {},
   "outputs": [],
   "source": [
    "# !pwd\n",
    "\n",
    "# !cp /src/serving/local_workflow /docker_workflow"
   ]
  },
  {
   "cell_type": "markdown",
   "id": "e7bede56-9349-47b8-8149-ad4daf0487c0",
   "metadata": {},
   "source": [
    "## Copy serving assets to `MODEL_DIR`"
   ]
  },
  {
   "cell_type": "code",
   "execution_count": 115,
   "id": "28005617-3219-4810-9be6-2b2960365dbc",
   "metadata": {},
   "outputs": [
    {
     "name": "stdout",
     "output_type": "stream",
     "text": [
      "EXPERIMENT_RUN_DIR: gs://jt-merlin-scaling/new9-2tower-merlin-tf-jtv24/run-20230228-170848\n",
      "MODEL_DIR: gs://jt-merlin-scaling/new9-2tower-merlin-tf-jtv24/run-20230228-170848/model_dir\n"
     ]
    }
   ],
   "source": [
    "# MODEL_DIR_old = 'gs://jt-merlin-scaling/pipes-2tower-merlin-tf-v5/run-v1-20221110-024710/model-dir'\n",
    "# MODEL_DIR = 'gs://jt-merlin-scaling/pipes-2tower-merlin-tf-v5/run-v1-20221110-024710/model-dir2'\n",
    "\n",
    "EXPERIMENT_RUN_DIR='gs://jt-merlin-scaling/new9-2tower-merlin-tf-jtv24/run-20230228-170848'\n",
    "MODEL_DIR=f'{EXPERIMENT_RUN_DIR}/model_dir'\n",
    "\n",
    "print(f\"EXPERIMENT_RUN_DIR: {EXPERIMENT_RUN_DIR}\")\n",
    "print(f\"MODEL_DIR: {MODEL_DIR}\")"
   ]
  },
  {
   "cell_type": "code",
   "execution_count": 116,
   "id": "4253ac00-f75f-4cd5-aacb-c5c5b3c8959c",
   "metadata": {},
   "outputs": [
    {
     "name": "stdout",
     "output_type": "stream",
     "text": [
      "gs://jt-merlin-scaling/new9-2tower-merlin-tf-jtv24/run-20230228-170848/model_dir/candidate_embeddings/\n",
      "gs://jt-merlin-scaling/new9-2tower-merlin-tf-jtv24/run-20230228-170848/model_dir/candidate_tower/\n",
      "gs://jt-merlin-scaling/new9-2tower-merlin-tf-jtv24/run-20230228-170848/model_dir/query_tower/\n"
     ]
    }
   ],
   "source": [
    "!gsutil ls $MODEL_DIR"
   ]
  },
  {
   "cell_type": "code",
   "execution_count": 90,
   "id": "309d8c62-c6f0-4d24-a400-b993f2c2a8fd",
   "metadata": {},
   "outputs": [],
   "source": [
    "# !gsutil cp -r $MODEL_DIR_old/candidate-embeddings $MODEL_DIR/candidate-embeddings"
   ]
  },
  {
   "cell_type": "code",
   "execution_count": 91,
   "id": "ae9f29a0-21e7-4fec-957e-33b6c27195ce",
   "metadata": {},
   "outputs": [],
   "source": [
    "# !gsutil cp -r $MODEL_DIR_old/query-tower $MODEL_DIR/query-tower\n",
    "# !gsutil cp -r $MODEL_DIR_old/candidate-tower $MODEL_DIR/candidate-tower\n",
    "# !gsutil cp -r $MODEL_DIR_old/workflow $MODEL_DIR/workflow"
   ]
  },
  {
   "cell_type": "markdown",
   "id": "15f3d84d-bb16-4d55-a8d3-0e2f5af774c2",
   "metadata": {},
   "source": [
    "### copy Dockerfile"
   ]
  },
  {
   "cell_type": "code",
   "execution_count": 117,
   "id": "c8acb93a-6776-4027-891a-beccf422007f",
   "metadata": {},
   "outputs": [
    {
     "name": "stdout",
     "output_type": "stream",
     "text": [
      "Copying file://./src/Dockerfile.mm-query-serve [Content-Type=application/octet-stream]...\n",
      "/ [1 files][  862.0 B/  862.0 B]                                                \n",
      "Operation completed over 1 objects/862.0 B.                                      \n"
     ]
    }
   ],
   "source": [
    "!gsutil cp ./src/Dockerfile.$SERVING_DOCKERNAME $EXPERIMENT_RUN_DIR/"
   ]
  },
  {
   "cell_type": "markdown",
   "id": "d9b4d265-24ff-4f2d-bbd3-7f2fc65ec00f",
   "metadata": {},
   "source": [
    "### copy serving application"
   ]
  },
  {
   "cell_type": "code",
   "execution_count": 22,
   "id": "a56eaf0f-591a-4d25-9fe4-67119f10f43d",
   "metadata": {},
   "outputs": [
    {
     "name": "stdout",
     "output_type": "stream",
     "text": [
      "Copying file://./src/serving/app/requirements.txt [Content-Type=text/plain]...\n",
      "Copying file://./src/serving/app/dataset_to_tensors.py [Content-Type=text/x-python]...\n",
      "Copying file://./src/serving/app/__init__.py [Content-Type=text/x-python]...    \n",
      "Copying file://./src/serving/app/instances.json [Content-Type=application/json]...\n",
      "Copying file://./src/serving/app/predictor.py [Content-Type=text/x-python]...   \n",
      "Copying file://./src/serving/app/main.py [Content-Type=text/x-python]...        \n",
      "Copying file://./src/serving/app/prestart.sh [Content-Type=text/x-sh]...        \n",
      "Copying file://./src/serving/local_workflow/workflow/workflow.pkl [Content-Type=application/octet-stream]...\n",
      "Copying file://./src/serving/local_workflow/workflow/metadata.json [Content-Type=application/json]...\n",
      "Copying file://./src/serving/local_workflow/workflow/categories/unique.track_uri_pl.parquet [Content-Type=application/octet-stream]...\n",
      "Copying file://./src/serving/local_workflow/workflow/categories/unique.collaborative.parquet [Content-Type=application/octet-stream]...\n",
      "Copying file://./src/serving/local_workflow/workflow/categories/unique.track_name_can.parquet [Content-Type=application/octet-stream]...\n",
      "Copying file://./src/serving/local_workflow/workflow/categories/unique.artist_name_can.parquet [Content-Type=application/octet-stream]...\n",
      "Copying file://./src/serving/local_workflow/workflow/categories/unique.track_name_pl.parquet [Content-Type=application/octet-stream]...\n",
      "Copying file://./src/serving/local_workflow/workflow/categories/unique.track_uri_can.parquet [Content-Type=application/octet-stream]...\n",
      "Copying file://./src/serving/local_workflow/workflow/categories/unique.artist_genres_can.parquet [Content-Type=application/octet-stream]...\n",
      "Copying file://./src/serving/local_workflow/workflow/categories/unique.name.parquet [Content-Type=application/octet-stream]...\n",
      "Copying file://./src/serving/local_workflow/workflow/categories/unique.album_name_pl.parquet [Content-Type=application/octet-stream]...\n",
      "Copying file://./src/serving/local_workflow/workflow/categories/unique.description_pl.parquet [Content-Type=application/octet-stream]...\n",
      "Copying file://./src/serving/local_workflow/workflow/categories/unique.pid.parquet [Content-Type=application/octet-stream]...\n",
      "Copying file://./src/serving/local_workflow/workflow/categories/unique.artist_name_pl.parquet [Content-Type=application/octet-stream]...\n",
      "Copying file://./src/serving/local_workflow/workflow/categories/unique.artist_genres_pl.parquet [Content-Type=application/octet-stream]...\n",
      "| [22/22 files][284.9 MiB/284.9 MiB] 100% Done                                  \n",
      "Operation completed over 22 objects/284.9 MiB.                                   \n"
     ]
    }
   ],
   "source": [
    "!gsutil -m cp -r ./$REPO_DOCKER_PATH_PREFIX/$SERVING_SUB_DIR $EXPERIMENT_RUN_DIR/"
   ]
  },
  {
   "cell_type": "markdown",
   "id": "a283c95e-a6b4-4901-9bee-1840fd46e9f2",
   "metadata": {},
   "source": [
    "### copy workflow\n",
    "\n",
    "* easier for prediction container if a model's related workflow artifacts are stored in the `model_dir`"
   ]
  },
  {
   "cell_type": "code",
   "execution_count": 24,
   "id": "984d0b76-1bd8-4b68-8e8a-8f77638c8c40",
   "metadata": {},
   "outputs": [],
   "source": [
    "# WORKFLOW_DIR = \"gs://jt-merlin-scaling/nvt-last5-v1full/nvt-analyzed\""
   ]
  },
  {
   "cell_type": "code",
   "execution_count": 25,
   "id": "020ef708-19e5-45b1-b364-e2839318b3ea",
   "metadata": {},
   "outputs": [
    {
     "name": "stdout",
     "output_type": "stream",
     "text": [
      "Copying gs://jt-merlin-scaling/nvt-last5-latest-12/nvt-processed/workflow/categories/unique.album_name_pl.parquet [Content-Type=application/octet-stream]...\n",
      "Copying gs://jt-merlin-scaling/nvt-last5-latest-12/nvt-processed/workflow/categories/unique.artist_genres_can.parquet [Content-Type=application/octet-stream]...\n",
      "Copying gs://jt-merlin-scaling/nvt-last5-latest-12/nvt-processed/workflow/categories/unique.artist_genres_pl.parquet [Content-Type=application/octet-stream]...\n",
      "Copying gs://jt-merlin-scaling/nvt-last5-latest-12/nvt-processed/workflow/categories/unique.artist_name_can.parquet [Content-Type=application/octet-stream]...\n",
      "Copying gs://jt-merlin-scaling/nvt-last5-latest-12/nvt-processed/workflow/categories/unique.artist_name_pl.parquet [Content-Type=application/octet-stream]...\n",
      "Copying gs://jt-merlin-scaling/nvt-last5-latest-12/nvt-processed/workflow/categories/unique.collaborative.parquet [Content-Type=application/octet-stream]...\n",
      "Copying gs://jt-merlin-scaling/nvt-last5-latest-12/nvt-processed/workflow/categories/unique.name.parquet [Content-Type=application/octet-stream]...\n",
      "Copying gs://jt-merlin-scaling/nvt-last5-latest-12/nvt-processed/workflow/categories/unique.description_pl.parquet [Content-Type=application/octet-stream]...\n",
      "Copying gs://jt-merlin-scaling/nvt-last5-latest-12/nvt-processed/workflow/categories/unique.pid.parquet [Content-Type=application/octet-stream]...\n",
      "Copying gs://jt-merlin-scaling/nvt-last5-latest-12/nvt-processed/workflow/categories/unique.track_name_pl.parquet [Content-Type=application/octet-stream]...\n",
      "Copying gs://jt-merlin-scaling/nvt-last5-latest-12/nvt-processed/workflow/categories/unique.track_name_can.parquet [Content-Type=application/octet-stream]...\n",
      "Copying gs://jt-merlin-scaling/nvt-last5-latest-12/nvt-processed/workflow/categories/unique.track_uri_pl.parquet [Content-Type=application/octet-stream]...\n",
      "Copying gs://jt-merlin-scaling/nvt-last5-latest-12/nvt-processed/workflow/categories/unique.track_uri_can.parquet [Content-Type=application/octet-stream]...\n",
      "Copying gs://jt-merlin-scaling/nvt-last5-latest-12/nvt-processed/workflow/metadata.json [Content-Type=application/octet-stream]...\n",
      "Copying gs://jt-merlin-scaling/nvt-last5-latest-12/nvt-processed/workflow/workflow.pkl [Content-Type=application/octet-stream]...\n",
      "/ [15/15 files][284.9 MiB/284.9 MiB] 100% Done                                  \n",
      "Operation completed over 15 objects/284.9 MiB.                                   \n"
     ]
    }
   ],
   "source": [
    "!gsutil -m cp -r $WORKFLOW_DIR $EXPERIMENT_RUN_DIR/workflow"
   ]
  },
  {
   "cell_type": "code",
   "execution_count": 119,
   "id": "42b497b8-5134-49f7-8ee2-29184a0da60a",
   "metadata": {},
   "outputs": [
    {
     "name": "stdout",
     "output_type": "stream",
     "text": [
      "gs://jt-merlin-scaling/new9-2tower-merlin-tf-jtv24/run-20230228-170848/\n",
      "gs://jt-merlin-scaling/new9-2tower-merlin-tf-jtv24/run-20230228-170848/Dockerfile.mm-query-serve\n",
      "gs://jt-merlin-scaling/new9-2tower-merlin-tf-jtv24/run-20230228-170848/logs/\n",
      "gs://jt-merlin-scaling/new9-2tower-merlin-tf-jtv24/run-20230228-170848/model_dir/\n",
      "gs://jt-merlin-scaling/new9-2tower-merlin-tf-jtv24/run-20230228-170848/serving/\n",
      "gs://jt-merlin-scaling/new9-2tower-merlin-tf-jtv24/run-20230228-170848/workflow/\n"
     ]
    }
   ],
   "source": [
    "# check experiment run dir\n",
    "!gsutil ls $EXPERIMENT_RUN_DIR"
   ]
  },
  {
   "cell_type": "code",
   "execution_count": 118,
   "id": "c1511e95-c5d3-4ceb-b9a7-acdac2e317db",
   "metadata": {},
   "outputs": [
    {
     "name": "stdout",
     "output_type": "stream",
     "text": [
      "gs://jt-merlin-scaling/new9-2tower-merlin-tf-jtv24/run-20230228-170848/model_dir/candidate_embeddings/\n",
      "gs://jt-merlin-scaling/new9-2tower-merlin-tf-jtv24/run-20230228-170848/model_dir/candidate_tower/\n",
      "gs://jt-merlin-scaling/new9-2tower-merlin-tf-jtv24/run-20230228-170848/model_dir/query_tower/\n"
     ]
    }
   ],
   "source": [
    "# check model_dir\n",
    "!gsutil ls $MODEL_DIR"
   ]
  },
  {
   "cell_type": "markdown",
   "id": "83083194-47bd-470c-9d20-4449d1b48535",
   "metadata": {},
   "source": [
    "## Build Serving Image"
   ]
  },
  {
   "cell_type": "markdown",
   "id": "7dc7b07c-13d9-41e8-aabe-25e9e32497a2",
   "metadata": {},
   "source": [
    "### gcloud ignore (optional)"
   ]
  },
  {
   "cell_type": "code",
   "execution_count": 120,
   "id": "eaf6e5ff-e6e5-4870-9bdb-496a9d3f9bf8",
   "metadata": {},
   "outputs": [
    {
     "name": "stdout",
     "output_type": "stream",
     "text": [
      "Updated property [gcloudignore/enabled].\n"
     ]
    }
   ],
   "source": [
    "! gcloud config set gcloudignore/enabled true\n",
    "# !pwd"
   ]
  },
  {
   "cell_type": "code",
   "execution_count": 121,
   "id": "6cb80ffb-1a10-4316-ac1b-be7e3595615a",
   "metadata": {},
   "outputs": [
    {
     "name": "stdout",
     "output_type": "stream",
     "text": [
      "Overwriting .gcloudignore\n"
     ]
    }
   ],
   "source": [
    "%%writefile .gcloudignore\n",
    ".gcloudignore\n",
    "/archive/\n",
    "/imgs/\n",
    "/mm_src/\n",
    "src/process_pipes/*\n",
    "src/preprocessor/*\n",
    "src/train_pipes/*\n",
    "src/trainer/*\n",
    "/local_workflow/*\n",
    "# *.json\n",
    "*.ipynb\n",
    ".git\n",
    ".github\n",
    ".ipynb_checkpoints/*\n",
    "*__pycache__\n",
    "*cpython-37.pyc\n",
    "README.md\n",
    "src/Dockerfile.triton-cpr\n",
    "src/Dockerfile.merlintf-22_12_v4\n",
    "src/Dockerfile.nvt\n",
    "src/Dockerfile.train\n",
    "src/Dockerfile.nvt-133\n",
    "Dockerfile\n",
    "/app/*\n",
    "src/Dockerfile.merlin-retriever\n",
    "custom_container_pipeline_spec.json\n",
    "nvt-parquet-full-1a100.json\n",
    "nvt-parquet-latest-12.json\n",
    "nvt-parquet-full-4t4.json\n",
    "nvt-parquet-full-2a100.json"
   ]
  },
  {
   "cell_type": "code",
   "execution_count": 122,
   "id": "9f21ea3a-6d26-45dc-8440-5742bb3f3f29",
   "metadata": {},
   "outputs": [
    {
     "name": "stdout",
     "output_type": "stream",
     "text": [
      ".gitignore\n",
      "src/cloudbuild.yaml\n",
      "src/Dockerfile.mm-query-serve\n",
      "src/serving/app/requirements.txt\n",
      "src/serving/app/dataset_to_tensors.py\n",
      "src/serving/app/__init__.py\n",
      "src/serving/app/instances.json\n",
      "src/serving/app/predictor.py\n",
      "src/serving/app/main.py\n",
      "src/serving/app/prestart.sh\n",
      "src/serving/local_workflow/workflow/metadata.json\n",
      "src/serving/local_workflow/workflow/workflow.pkl\n",
      "src/serving/local_workflow/workflow/categories/unique.track_uri_pl.parquet\n",
      "src/serving/local_workflow/workflow/categories/unique.collaborative.parquet\n",
      "src/serving/local_workflow/workflow/categories/unique.track_name_can.parquet\n",
      "src/serving/local_workflow/workflow/categories/unique.artist_name_can.parquet\n",
      "src/serving/local_workflow/workflow/categories/unique.track_name_pl.parquet\n",
      "src/serving/local_workflow/workflow/categories/unique.track_uri_can.parquet\n",
      "src/serving/local_workflow/workflow/categories/unique.artist_genres_can.parquet\n",
      "src/serving/local_workflow/workflow/categories/unique.album_name_pl.parquet\n",
      "src/serving/local_workflow/workflow/categories/unique.name.parquet\n",
      "src/serving/local_workflow/workflow/categories/unique.description_pl.parquet\n",
      "src/serving/local_workflow/workflow/categories/unique.pid.parquet\n",
      "src/serving/local_workflow/workflow/categories/unique.artist_name_pl.parquet\n",
      "src/serving/local_workflow/workflow/categories/unique.artist_genres_pl.parquet\n"
     ]
    }
   ],
   "source": [
    "!gcloud meta list-files-for-upload"
   ]
  },
  {
   "cell_type": "markdown",
   "id": "b5094bb7-6a37-483e-9689-bd0d885dd651",
   "metadata": {},
   "source": [
    "### submit to Cloud Build"
   ]
  },
  {
   "cell_type": "code",
   "execution_count": 123,
   "id": "114833f2-f22a-4657-93ba-e8c5b6f5a913",
   "metadata": {},
   "outputs": [],
   "source": [
    "# !pwd\n",
    "SERVING_VERSION = 'v27'"
   ]
  },
  {
   "cell_type": "code",
   "execution_count": 124,
   "id": "29dd9ca3-6fb2-4030-80c4-42ebb256140c",
   "metadata": {},
   "outputs": [
    {
     "name": "stdout",
     "output_type": "stream",
     "text": [
      "IMAGE_NAME: mm2t-vertex-serv-v27\n",
      "IMAGE_URI: gcr.io/hybrid-vertex/mm2t-vertex-serv-v27\n",
      "DOCKERNAME: mm-query-serve\n",
      "FILE_LOCATION: ./src\n",
      "MACHINE_TYPE: e2-highcpu-32\n"
     ]
    }
   ],
   "source": [
    "# Docker definitions for training\n",
    "IMAGE_NAME = f'mm2t-vertex-serv-{SERVING_VERSION}'\n",
    "IMAGE_URI = f'gcr.io/{PROJECT_ID}/{IMAGE_NAME}'\n",
    "\n",
    "DOCKERNAME = f'{SERVING_DOCKERNAME}'\n",
    "MACHINE_TYPE ='e2-highcpu-32'\n",
    "FILE_LOCATION = './src'\n",
    "\n",
    "print(f\"IMAGE_NAME: {IMAGE_NAME}\")\n",
    "print(f\"IMAGE_URI: {IMAGE_URI}\")\n",
    "print(f\"DOCKERNAME: {DOCKERNAME}\")\n",
    "print(f\"FILE_LOCATION: {FILE_LOCATION}\")\n",
    "print(f\"MACHINE_TYPE: {MACHINE_TYPE}\")"
   ]
  },
  {
   "cell_type": "code",
   "execution_count": 125,
   "id": "0db70f2c-99e8-477a-b7f7-e42fc5749137",
   "metadata": {
    "collapsed": true,
    "jupyter": {
     "outputs_hidden": true
    },
    "tags": []
   },
   "outputs": [
    {
     "name": "stdout",
     "output_type": "stream",
     "text": [
      "Creating temporary tarball archive of 25 file(s) totalling 284.9 MiB before compression.\n",
      "Uploading tarball of [.] to [gs://hybrid-vertex_cloudbuild/source/1678202800.337596-85a843a85d4d4760a913dcf6062b93a8.tgz]\n",
      "Created [https://cloudbuild.googleapis.com/v1/projects/hybrid-vertex/locations/global/builds/ff893e96-f561-4a38-b917-de0424012a55].\n",
      "Logs are available at [ https://console.cloud.google.com/cloud-build/builds/ff893e96-f561-4a38-b917-de0424012a55?project=934903580331 ].\n",
      "----------------------------- REMOTE BUILD OUTPUT ------------------------------\n",
      "starting build \"ff893e96-f561-4a38-b917-de0424012a55\"\n",
      "\n",
      "FETCHSOURCE\n",
      "Fetching storage object: gs://hybrid-vertex_cloudbuild/source/1678202800.337596-85a843a85d4d4760a913dcf6062b93a8.tgz#1678202905110717\n",
      "Copying gs://hybrid-vertex_cloudbuild/source/1678202800.337596-85a843a85d4d4760a913dcf6062b93a8.tgz#1678202905110717...\n",
      "\\ [1 files][117.6 MiB/117.6 MiB]                                                \n",
      "Operation completed over 1 objects/117.6 MiB.\n",
      "BUILD\n",
      "Already have image (with digest): gcr.io/cloud-builders/docker\n",
      "Sending build context to Docker daemon  298.8MB\n",
      "Step 1/9 : FROM nvcr.io/nvidia/merlin/merlin-tensorflow:22.12\n",
      "22.12: Pulling from nvidia/merlin/merlin-tensorflow\n",
      "eaead16dc43b: Pulling fs layer\n",
      "d86e6ecee9ab: Pulling fs layer\n",
      "6b08e0981273: Pulling fs layer\n",
      "54de03fa67ca: Pulling fs layer\n",
      "d0067f8e4744: Pulling fs layer\n",
      "9e8473502f86: Pulling fs layer\n",
      "62cbcf4cbe13: Pulling fs layer\n",
      "9054d495b912: Pulling fs layer\n",
      "363a6cd12433: Pulling fs layer\n",
      "69633d945bde: Pulling fs layer\n",
      "030b5d54675a: Pulling fs layer\n",
      "282a25844090: Pulling fs layer\n",
      "51caa25c21ff: Pulling fs layer\n",
      "4f4fb700ef54: Pulling fs layer\n",
      "77bc21e94f24: Pulling fs layer\n",
      "784e1b6fd612: Pulling fs layer\n",
      "af1ee39433f4: Pulling fs layer\n",
      "52321cba559e: Pulling fs layer\n",
      "af00054fc370: Pulling fs layer\n",
      "0b6fc99b1680: Pulling fs layer\n",
      "6cee73498bf6: Pulling fs layer\n",
      "8b4cfd996372: Pulling fs layer\n",
      "b090c9ed50ff: Pulling fs layer\n",
      "0a8adb3dcf22: Pulling fs layer\n",
      "6e88a7f6f15d: Pulling fs layer\n",
      "00f5ed83fb5b: Pulling fs layer\n",
      "e518f4c1fb4d: Pulling fs layer\n",
      "8b6afde98e21: Pulling fs layer\n",
      "dcdde75d70d4: Pulling fs layer\n",
      "c131c32a822c: Pulling fs layer\n",
      "7ef98a0bb031: Pulling fs layer\n",
      "7b2bf50cb482: Pulling fs layer\n",
      "7dd53e86e25e: Pulling fs layer\n",
      "228e876a170d: Pulling fs layer\n",
      "2b8ce232b0f5: Pulling fs layer\n",
      "6acab9f9b6c9: Pulling fs layer\n",
      "49738298fc0b: Pulling fs layer\n",
      "450e691b8934: Pulling fs layer\n",
      "c11b1ed1ee46: Pulling fs layer\n",
      "67e193f6923c: Pulling fs layer\n",
      "f3a3e4335302: Pulling fs layer\n",
      "31514946c388: Pulling fs layer\n",
      "4045938dbcf0: Pulling fs layer\n",
      "ec3ab3614609: Pulling fs layer\n",
      "d59ff5de4fe3: Pulling fs layer\n",
      "c5e6195fcb5a: Pulling fs layer\n",
      "b64eb74ea0f6: Pulling fs layer\n",
      "fde2f9173aa1: Pulling fs layer\n",
      "05c48a632d89: Pulling fs layer\n",
      "45643bc35dd6: Pulling fs layer\n",
      "dac08d81643b: Pulling fs layer\n",
      "753e545517ec: Pulling fs layer\n",
      "59fa5f6703c7: Pulling fs layer\n",
      "5251fc0e145f: Pulling fs layer\n",
      "bdd807f81520: Pulling fs layer\n",
      "cda9dd232241: Pulling fs layer\n",
      "c1c0778801ed: Pulling fs layer\n",
      "d2ac586dac26: Pulling fs layer\n",
      "c82a34ea3155: Pulling fs layer\n",
      "07391a0f51be: Pulling fs layer\n",
      "7e85ce497f3c: Pulling fs layer\n",
      "732c433b96b6: Pulling fs layer\n",
      "de409ef6b855: Pulling fs layer\n",
      "36a7c7813429: Pulling fs layer\n",
      "cc688c082c64: Pulling fs layer\n",
      "92681808abed: Pulling fs layer\n",
      "8b7d3b755746: Pulling fs layer\n",
      "07973a04f293: Pulling fs layer\n",
      "84b159fc1d60: Pulling fs layer\n",
      "161c50cb1ab8: Pulling fs layer\n",
      "3adfd786ac79: Pulling fs layer\n",
      "b687b9abe298: Pulling fs layer\n",
      "4d55d43d5c97: Pulling fs layer\n",
      "2bda520db73d: Pulling fs layer\n",
      "f006e76f83a3: Pulling fs layer\n",
      "7b8995abb34f: Pulling fs layer\n",
      "70651e98f007: Pulling fs layer\n",
      "7e50d9a71c79: Pulling fs layer\n",
      "fe9e4cebdbb5: Pulling fs layer\n",
      "54de03fa67ca: Waiting\n",
      "0147547644c1: Pulling fs layer\n",
      "d0067f8e4744: Waiting\n",
      "daffe4a11a5d: Pulling fs layer\n",
      "9e8473502f86: Waiting\n",
      "030b5d54675a: Waiting\n",
      "4045938dbcf0: Waiting\n",
      "ec3ab3614609: Waiting\n",
      "282a25844090: Waiting\n",
      "d59ff5de4fe3: Waiting\n",
      "62cbcf4cbe13: Waiting\n",
      "4f4fb700ef54: Waiting\n",
      "c5e6195fcb5a: Waiting\n",
      "b64eb74ea0f6: Waiting\n",
      "77bc21e94f24: Waiting\n",
      "51caa25c21ff: Waiting\n",
      "9054d495b912: Waiting\n",
      "784e1b6fd612: Waiting\n",
      "fde2f9173aa1: Waiting\n",
      "363a6cd12433: Waiting\n",
      "05c48a632d89: Waiting\n",
      "52321cba559e: Waiting\n",
      "af1ee39433f4: Waiting\n",
      "0b6fc99b1680: Waiting\n",
      "45643bc35dd6: Waiting\n",
      "69633d945bde: Waiting\n",
      "6cee73498bf6: Waiting\n",
      "dac08d81643b: Waiting\n",
      "8b4cfd996372: Waiting\n",
      "0a8adb3dcf22: Waiting\n",
      "753e545517ec: Waiting\n",
      "6e88a7f6f15d: Waiting\n",
      "59fa5f6703c7: Waiting\n",
      "af00054fc370: Waiting\n",
      "e518f4c1fb4d: Waiting\n",
      "dcdde75d70d4: Waiting\n",
      "5251fc0e145f: Waiting\n",
      "7ef98a0bb031: Waiting\n",
      "8b6afde98e21: Waiting\n",
      "c131c32a822c: Waiting\n",
      "bdd807f81520: Waiting\n",
      "7b2bf50cb482: Waiting\n",
      "7dd53e86e25e: Waiting\n",
      "228e876a170d: Waiting\n",
      "cda9dd232241: Waiting\n",
      "49738298fc0b: Waiting\n",
      "450e691b8934: Waiting\n",
      "6acab9f9b6c9: Waiting\n",
      "c1c0778801ed: Waiting\n",
      "00f5ed83fb5b: Waiting\n",
      "b687b9abe298: Waiting\n",
      "cc688c082c64: Waiting\n",
      "d2ac586dac26: Waiting\n",
      "732c433b96b6: Waiting\n",
      "92681808abed: Waiting\n",
      "de409ef6b855: Waiting\n",
      "4d55d43d5c97: Waiting\n",
      "84b159fc1d60: Waiting\n",
      "2bda520db73d: Waiting\n",
      "36a7c7813429: Waiting\n",
      "c82a34ea3155: Waiting\n",
      "8b7d3b755746: Waiting\n",
      "f006e76f83a3: Waiting\n",
      "7b8995abb34f: Waiting\n",
      "161c50cb1ab8: Waiting\n",
      "07973a04f293: Waiting\n",
      "3adfd786ac79: Waiting\n",
      "7e85ce497f3c: Waiting\n",
      "fe9e4cebdbb5: Waiting\n",
      "70651e98f007: Waiting\n",
      "07391a0f51be: Waiting\n",
      "7e50d9a71c79: Waiting\n",
      "eaead16dc43b: Download complete\n",
      "54de03fa67ca: Verifying Checksum\n",
      "54de03fa67ca: Download complete\n",
      "d86e6ecee9ab: Verifying Checksum\n",
      "d86e6ecee9ab: Download complete\n",
      "6b08e0981273: Verifying Checksum\n",
      "6b08e0981273: Download complete\n",
      "9e8473502f86: Verifying Checksum\n",
      "9e8473502f86: Download complete\n",
      "62cbcf4cbe13: Verifying Checksum\n",
      "62cbcf4cbe13: Download complete\n",
      "9054d495b912: Download complete\n",
      "363a6cd12433: Verifying Checksum\n",
      "363a6cd12433: Download complete\n",
      "eaead16dc43b: Pull complete\n",
      "69633d945bde: Verifying Checksum\n",
      "69633d945bde: Download complete\n",
      "282a25844090: Download complete\n",
      "030b5d54675a: Verifying Checksum\n",
      "030b5d54675a: Download complete\n",
      "4f4fb700ef54: Download complete\n",
      "77bc21e94f24: Verifying Checksum\n",
      "77bc21e94f24: Download complete\n",
      "784e1b6fd612: Verifying Checksum\n",
      "784e1b6fd612: Download complete\n",
      "af1ee39433f4: Verifying Checksum\n",
      "af1ee39433f4: Download complete\n",
      "d86e6ecee9ab: Pull complete\n",
      "51caa25c21ff: Verifying Checksum\n",
      "51caa25c21ff: Download complete\n",
      "af00054fc370: Verifying Checksum\n",
      "af00054fc370: Download complete\n",
      "0b6fc99b1680: Verifying Checksum\n",
      "0b6fc99b1680: Download complete\n",
      "6cee73498bf6: Download complete\n",
      "6b08e0981273: Pull complete\n",
      "54de03fa67ca: Pull complete\n",
      "52321cba559e: Verifying Checksum\n",
      "52321cba559e: Download complete\n",
      "b090c9ed50ff: Verifying Checksum\n",
      "b090c9ed50ff: Download complete\n",
      "0a8adb3dcf22: Verifying Checksum\n",
      "0a8adb3dcf22: Download complete\n",
      "6e88a7f6f15d: Verifying Checksum\n",
      "6e88a7f6f15d: Download complete\n",
      "00f5ed83fb5b: Verifying Checksum\n",
      "00f5ed83fb5b: Download complete\n",
      "e518f4c1fb4d: Verifying Checksum\n",
      "e518f4c1fb4d: Download complete\n",
      "8b6afde98e21: Verifying Checksum\n",
      "8b6afde98e21: Download complete\n",
      "dcdde75d70d4: Verifying Checksum\n",
      "dcdde75d70d4: Download complete\n",
      "c131c32a822c: Verifying Checksum\n",
      "c131c32a822c: Download complete\n",
      "7ef98a0bb031: Verifying Checksum\n",
      "7ef98a0bb031: Download complete\n",
      "7b2bf50cb482: Verifying Checksum\n",
      "7b2bf50cb482: Download complete\n",
      "7dd53e86e25e: Verifying Checksum\n",
      "7dd53e86e25e: Download complete\n",
      "228e876a170d: Download complete\n",
      "2b8ce232b0f5: Verifying Checksum\n",
      "2b8ce232b0f5: Download complete\n",
      "6acab9f9b6c9: Verifying Checksum\n",
      "6acab9f9b6c9: Download complete\n",
      "49738298fc0b: Verifying Checksum\n",
      "49738298fc0b: Download complete\n",
      "450e691b8934: Verifying Checksum\n",
      "450e691b8934: Download complete\n",
      "c11b1ed1ee46: Verifying Checksum\n",
      "c11b1ed1ee46: Download complete\n",
      "d0067f8e4744: Verifying Checksum\n",
      "d0067f8e4744: Download complete\n",
      "f3a3e4335302: Verifying Checksum\n",
      "f3a3e4335302: Download complete\n",
      "31514946c388: Verifying Checksum\n",
      "31514946c388: Download complete\n",
      "8b4cfd996372: Verifying Checksum\n",
      "8b4cfd996372: Download complete\n",
      "4045938dbcf0: Verifying Checksum\n",
      "4045938dbcf0: Download complete\n",
      "d59ff5de4fe3: Download complete\n",
      "c5e6195fcb5a: Download complete\n",
      "b64eb74ea0f6: Verifying Checksum\n",
      "b64eb74ea0f6: Download complete\n",
      "ec3ab3614609: Verifying Checksum\n",
      "ec3ab3614609: Download complete\n",
      "67e193f6923c: Verifying Checksum\n",
      "67e193f6923c: Download complete\n",
      "fde2f9173aa1: Verifying Checksum\n",
      "fde2f9173aa1: Download complete\n",
      "dac08d81643b: Verifying Checksum\n",
      "dac08d81643b: Download complete\n",
      "05c48a632d89: Verifying Checksum\n",
      "05c48a632d89: Download complete\n",
      "753e545517ec: Verifying Checksum\n",
      "753e545517ec: Download complete\n",
      "59fa5f6703c7: Download complete\n",
      "5251fc0e145f: Verifying Checksum\n",
      "5251fc0e145f: Download complete\n",
      "bdd807f81520: Verifying Checksum\n",
      "bdd807f81520: Download complete\n",
      "45643bc35dd6: Verifying Checksum\n",
      "45643bc35dd6: Download complete\n",
      "cda9dd232241: Verifying Checksum\n",
      "cda9dd232241: Download complete\n",
      "c1c0778801ed: Verifying Checksum\n",
      "c1c0778801ed: Download complete\n",
      "d2ac586dac26: Verifying Checksum\n",
      "d2ac586dac26: Download complete\n",
      "c82a34ea3155: Verifying Checksum\n",
      "c82a34ea3155: Download complete\n",
      "7e85ce497f3c: Verifying Checksum\n",
      "7e85ce497f3c: Download complete\n",
      "732c433b96b6: Download complete\n",
      "de409ef6b855: Verifying Checksum\n",
      "de409ef6b855: Download complete\n",
      "07391a0f51be: Verifying Checksum\n",
      "07391a0f51be: Download complete\n",
      "36a7c7813429: Download complete\n",
      "cc688c082c64: Verifying Checksum\n",
      "cc688c082c64: Download complete\n",
      "92681808abed: Verifying Checksum\n",
      "92681808abed: Download complete\n",
      "84b159fc1d60: Verifying Checksum\n",
      "84b159fc1d60: Download complete\n",
      "161c50cb1ab8: Verifying Checksum\n",
      "161c50cb1ab8: Download complete\n",
      "3adfd786ac79: Verifying Checksum\n",
      "3adfd786ac79: Download complete\n",
      "b687b9abe298: Verifying Checksum\n",
      "b687b9abe298: Download complete\n",
      "4d55d43d5c97: Verifying Checksum\n",
      "4d55d43d5c97: Download complete\n",
      "8b7d3b755746: Verifying Checksum\n",
      "8b7d3b755746: Download complete\n",
      "2bda520db73d: Verifying Checksum\n",
      "2bda520db73d: Download complete\n",
      "f006e76f83a3: Download complete\n",
      "7b8995abb34f: Verifying Checksum\n",
      "7b8995abb34f: Download complete\n",
      "7e50d9a71c79: Verifying Checksum\n",
      "7e50d9a71c79: Download complete\n",
      "70651e98f007: Verifying Checksum\n",
      "70651e98f007: Download complete\n",
      "fe9e4cebdbb5: Verifying Checksum\n",
      "fe9e4cebdbb5: Download complete\n",
      "daffe4a11a5d: Verifying Checksum\n",
      "daffe4a11a5d: Download complete\n",
      "07973a04f293: Verifying Checksum\n",
      "07973a04f293: Download complete\n",
      "0147547644c1: Verifying Checksum\n",
      "0147547644c1: Download complete\n",
      "d0067f8e4744: Pull complete\n",
      "9e8473502f86: Pull complete\n",
      "62cbcf4cbe13: Pull complete\n",
      "9054d495b912: Pull complete\n",
      "363a6cd12433: Pull complete\n",
      "69633d945bde: Pull complete\n",
      "030b5d54675a: Pull complete\n",
      "282a25844090: Pull complete\n",
      "51caa25c21ff: Pull complete\n",
      "4f4fb700ef54: Pull complete\n",
      "77bc21e94f24: Pull complete\n",
      "784e1b6fd612: Pull complete\n",
      "af1ee39433f4: Pull complete\n",
      "52321cba559e: Pull complete\n",
      "af00054fc370: Pull complete\n",
      "0b6fc99b1680: Pull complete\n",
      "6cee73498bf6: Pull complete\n",
      "8b4cfd996372: Pull complete\n",
      "b090c9ed50ff: Pull complete\n",
      "0a8adb3dcf22: Pull complete\n",
      "6e88a7f6f15d: Pull complete\n",
      "00f5ed83fb5b: Pull complete\n",
      "e518f4c1fb4d: Pull complete\n",
      "8b6afde98e21: Pull complete\n",
      "dcdde75d70d4: Pull complete\n",
      "c131c32a822c: Pull complete\n",
      "7ef98a0bb031: Pull complete\n",
      "7b2bf50cb482: Pull complete\n",
      "7dd53e86e25e: Pull complete\n",
      "228e876a170d: Pull complete\n",
      "2b8ce232b0f5: Pull complete\n",
      "6acab9f9b6c9: Pull complete\n",
      "49738298fc0b: Pull complete\n",
      "450e691b8934: Pull complete\n",
      "c11b1ed1ee46: Pull complete\n",
      "67e193f6923c: Pull complete\n",
      "f3a3e4335302: Pull complete\n",
      "31514946c388: Pull complete\n",
      "4045938dbcf0: Pull complete\n",
      "ec3ab3614609: Pull complete\n",
      "d59ff5de4fe3: Pull complete\n",
      "c5e6195fcb5a: Pull complete\n",
      "b64eb74ea0f6: Pull complete\n",
      "fde2f9173aa1: Pull complete\n",
      "05c48a632d89: Pull complete\n",
      "45643bc35dd6: Pull complete\n",
      "dac08d81643b: Pull complete\n",
      "753e545517ec: Pull complete\n",
      "59fa5f6703c7: Pull complete\n",
      "5251fc0e145f: Pull complete\n",
      "bdd807f81520: Pull complete\n",
      "cda9dd232241: Pull complete\n",
      "c1c0778801ed: Pull complete\n",
      "d2ac586dac26: Pull complete\n",
      "c82a34ea3155: Pull complete\n",
      "07391a0f51be: Pull complete\n",
      "7e85ce497f3c: Pull complete\n",
      "732c433b96b6: Pull complete\n",
      "de409ef6b855: Pull complete\n",
      "36a7c7813429: Pull complete\n",
      "cc688c082c64: Pull complete\n",
      "92681808abed: Pull complete\n",
      "8b7d3b755746: Pull complete\n",
      "07973a04f293: Pull complete\n",
      "84b159fc1d60: Pull complete\n",
      "161c50cb1ab8: Pull complete\n",
      "3adfd786ac79: Pull complete\n",
      "b687b9abe298: Pull complete\n",
      "4d55d43d5c97: Pull complete\n",
      "2bda520db73d: Pull complete\n",
      "f006e76f83a3: Pull complete\n",
      "7b8995abb34f: Pull complete\n",
      "70651e98f007: Pull complete\n",
      "7e50d9a71c79: Pull complete\n",
      "fe9e4cebdbb5: Pull complete\n",
      "0147547644c1: Pull complete\n",
      "daffe4a11a5d: Pull complete\n",
      "Digest: sha256:f1714efb94467b1b8f2dfadb27f4b6703568b616ceba85dec4df36dc581c339e\n",
      "Status: Downloaded newer image for nvcr.io/nvidia/merlin/merlin-tensorflow:22.12\n",
      " ---> 58c045557af1\n",
      "Step 2/9 : WORKDIR /app\n",
      " ---> Running in e9e4ec5e1eb0\n",
      "Removing intermediate container e9e4ec5e1eb0\n",
      " ---> c87f81db5a3e\n",
      "Step 3/9 : COPY ./serving/app/requirements.txt /requirements.txt\n",
      " ---> 33efad81b779\n",
      "Step 4/9 : RUN pip install -r /requirements.txt\n",
      " ---> Running in 8da823327b54\n",
      "Collecting uvicorn[standard]==0.15.0\n",
      "  Downloading uvicorn-0.15.0-py3-none-any.whl (54 kB)\n",
      "Collecting gunicorn==20.1.0\n",
      "  Downloading gunicorn-20.1.0-py3-none-any.whl (79 kB)\n",
      "Collecting fastapi==0.68.1\n",
      "  Downloading fastapi-0.68.1-py3-none-any.whl (52 kB)\n",
      "Collecting google-cloud-aiplatform\n",
      "  Downloading google_cloud_aiplatform-1.22.1-py2.py3-none-any.whl (2.4 MB)\n",
      "Requirement already satisfied: merlin-models in /usr/local/lib/python3.8/dist-packages (from -r /requirements.txt (line 7)) (0.11.0)\n",
      "Requirement already satisfied: nvtabular in /usr/local/lib/python3.8/dist-packages (from -r /requirements.txt (line 8)) (1.8.0)\n",
      "Collecting gcsfs\n",
      "  Downloading gcsfs-2023.3.0-py2.py3-none-any.whl (26 kB)\n",
      "Collecting google-cloud-storage\n",
      "  Downloading google_cloud_storage-2.7.0-py2.py3-none-any.whl (110 kB)\n",
      "Requirement already satisfied: click>=7.0 in /usr/local/lib/python3.8/dist-packages (from uvicorn[standard]==0.15.0->-r /requirements.txt (line 1)) (8.1.3)\n",
      "Collecting h11>=0.8\n",
      "  Downloading h11-0.14.0-py3-none-any.whl (58 kB)\n",
      "Collecting asgiref>=3.4.0\n",
      "  Downloading asgiref-3.6.0-py3-none-any.whl (23 kB)\n",
      "Collecting httptools==0.2.*; extra == \"standard\"\n",
      "  Downloading httptools-0.2.0-cp38-cp38-manylinux1_x86_64.whl (354 kB)\n",
      "Requirement already satisfied: PyYAML>=5.1; extra == \"standard\" in /usr/local/lib/python3.8/dist-packages (from uvicorn[standard]==0.15.0->-r /requirements.txt (line 1)) (6.0)\n",
      "Collecting python-dotenv>=0.13; extra == \"standard\"\n",
      "  Downloading python_dotenv-1.0.0-py3-none-any.whl (19 kB)\n",
      "Collecting websockets>=9.1; extra == \"standard\"\n",
      "  Downloading websockets-10.4-cp38-cp38-manylinux_2_5_x86_64.manylinux1_x86_64.manylinux_2_17_x86_64.manylinux2014_x86_64.whl (106 kB)\n",
      "Collecting watchgod>=0.6; extra == \"standard\"\n",
      "  Downloading watchgod-0.8.2-py3-none-any.whl (12 kB)\n",
      "Collecting uvloop!=0.15.0,!=0.15.1,>=0.14.0; (sys_platform != \"win32\" and (sys_platform != \"cygwin\" and platform_python_implementation != \"PyPy\")) and extra == \"standard\"\n",
      "  Downloading uvloop-0.17.0-cp38-cp38-manylinux_2_17_x86_64.manylinux2014_x86_64.whl (4.6 MB)\n",
      "Requirement already satisfied: setuptools>=3.0 in /usr/lib/python3/dist-packages (from gunicorn==20.1.0->-r /requirements.txt (line 2)) (45.2.0)\n",
      "Collecting pydantic!=1.7,!=1.7.1,!=1.7.2,!=1.7.3,!=1.8,!=1.8.1,<2.0.0,>=1.6.2\n",
      "  Downloading pydantic-1.10.5-cp38-cp38-manylinux_2_17_x86_64.manylinux2014_x86_64.whl (3.2 MB)\n",
      "Collecting starlette==0.14.2\n",
      "  Downloading starlette-0.14.2-py3-none-any.whl (60 kB)\n",
      "Collecting packaging<22.0.0dev,>=14.3\n",
      "  Downloading packaging-21.3-py3-none-any.whl (40 kB)\n",
      "Collecting google-cloud-resource-manager<3.0.0dev,>=1.3.3\n",
      "  Downloading google_cloud_resource_manager-1.9.0-py2.py3-none-any.whl (276 kB)\n",
      "Requirement already satisfied: protobuf!=3.20.0,!=3.20.1,!=4.21.0,!=4.21.1,!=4.21.2,!=4.21.3,!=4.21.4,!=4.21.5,<5.0.0dev,>=3.19.5 in /usr/local/lib/python3.8/dist-packages (from google-cloud-aiplatform->-r /requirements.txt (line 6)) (3.19.6)\n",
      "Collecting google-cloud-bigquery<4.0.0dev,>=1.15.0\n",
      "  Downloading google_cloud_bigquery-3.6.0-py2.py3-none-any.whl (215 kB)\n",
      "Collecting shapely<2.0.0\n",
      "  Downloading Shapely-1.8.5.post1-cp38-cp38-manylinux_2_12_x86_64.manylinux2010_x86_64.whl (2.1 MB)\n",
      "Collecting google-api-core[grpc]!=2.0.*,!=2.1.*,!=2.2.*,!=2.3.*,!=2.4.*,!=2.5.*,!=2.6.*,!=2.7.*,<3.0.0dev,>=1.32.0\n",
      "  Downloading google_api_core-2.11.0-py3-none-any.whl (120 kB)\n",
      "Collecting proto-plus<2.0.0dev,>=1.22.0\n",
      "  Downloading proto_plus-1.22.2-py3-none-any.whl (47 kB)\n",
      "Requirement already satisfied: merlin-dataloader>=0.0.2 in /usr/local/lib/python3.8/dist-packages (from merlin-models->-r /requirements.txt (line 7)) (0.0.4)\n",
      "Requirement already satisfied: merlin-core>=0.2.0 in /usr/local/lib/python3.8/dist-packages (from merlin-models->-r /requirements.txt (line 7)) (0.10.0)\n",
      "Requirement already satisfied: scipy in /usr/local/lib/python3.8/dist-packages (from nvtabular->-r /requirements.txt (line 8)) (1.9.3)\n",
      "Requirement already satisfied: google-auth-oauthlib in /usr/local/lib/python3.8/dist-packages (from gcsfs->-r /requirements.txt (line 9)) (0.4.6)\n",
      "Requirement already satisfied: google-auth>=1.2 in /usr/local/lib/python3.8/dist-packages (from gcsfs->-r /requirements.txt (line 9)) (2.15.0)\n",
      "Collecting fsspec==2023.3.0\n",
      "  Downloading fsspec-2023.3.0-py3-none-any.whl (145 kB)\n",
      "Requirement already satisfied: aiohttp!=4.0.0a0,!=4.0.0a1 in /usr/local/lib/python3.8/dist-packages (from gcsfs->-r /requirements.txt (line 9)) (3.8.3)\n",
      "Requirement already satisfied: decorator>4.1.2 in /usr/local/lib/python3.8/dist-packages (from gcsfs->-r /requirements.txt (line 9)) (5.1.1)\n",
      "Requirement already satisfied: requests in /usr/local/lib/python3.8/dist-packages (from gcsfs->-r /requirements.txt (line 9)) (2.28.1)\n",
      "Collecting google-cloud-core<3.0dev,>=2.3.0\n",
      "  Downloading google_cloud_core-2.3.2-py2.py3-none-any.whl (29 kB)\n",
      "Collecting google-resumable-media>=2.3.2\n",
      "  Downloading google_resumable_media-2.4.1-py2.py3-none-any.whl (77 kB)\n",
      "Requirement already satisfied: anyio<4,>=3.0.0 in /usr/local/lib/python3.8/dist-packages (from watchgod>=0.6; extra == \"standard\"->uvicorn[standard]==0.15.0->-r /requirements.txt (line 1)) (3.6.2)\n",
      "Requirement already satisfied: typing-extensions>=4.2.0 in /usr/local/lib/python3.8/dist-packages (from pydantic!=1.7,!=1.7.1,!=1.7.2,!=1.7.3,!=1.8,!=1.8.1,<2.0.0,>=1.6.2->fastapi==0.68.1->-r /requirements.txt (line 3)) (4.4.0)\n",
      "Requirement already satisfied: pyparsing!=3.0.5,>=2.0.2 in /usr/local/lib/python3.8/dist-packages (from packaging<22.0.0dev,>=14.3->google-cloud-aiplatform->-r /requirements.txt (line 6)) (3.0.9)\n",
      "Collecting grpc-google-iam-v1<1.0.0dev,>=0.12.4\n",
      "  Downloading grpc_google_iam_v1-0.12.6-py2.py3-none-any.whl (26 kB)\n",
      "Requirement already satisfied: python-dateutil<3.0dev,>=2.7.2 in /usr/local/lib/python3.8/dist-packages (from google-cloud-bigquery<4.0.0dev,>=1.15.0->google-cloud-aiplatform->-r /requirements.txt (line 6)) (2.8.2)\n",
      "Collecting grpcio<2.0dev,>=1.47.0\n",
      "  Downloading grpcio-1.51.3-cp38-cp38-manylinux_2_17_x86_64.manylinux2014_x86_64.whl (4.8 MB)\n",
      "Requirement already satisfied: googleapis-common-protos<2.0dev,>=1.56.2 in /usr/local/lib/python3.8/dist-packages (from google-api-core[grpc]!=2.0.*,!=2.1.*,!=2.2.*,!=2.3.*,!=2.4.*,!=2.5.*,!=2.6.*,!=2.7.*,<3.0.0dev,>=1.32.0->google-cloud-aiplatform->-r /requirements.txt (line 6)) (1.57.0)\n",
      "Collecting grpcio-status<2.0dev,>=1.33.2; extra == \"grpc\"\n",
      "  Downloading grpcio_status-1.51.3-py3-none-any.whl (5.1 kB)\n",
      "Requirement already satisfied: pandas<1.4.0dev0,>=1.2.0 in /usr/local/lib/python3.8/dist-packages (from merlin-core>=0.2.0->merlin-models->-r /requirements.txt (line 7)) (1.3.5)\n",
      "Requirement already satisfied: tensorflow-metadata>=1.2.0 in /usr/local/lib/python3.8/dist-packages (from merlin-core>=0.2.0->merlin-models->-r /requirements.txt (line 7)) (1.12.0)\n",
      "Requirement already satisfied: numba>=0.54 in /usr/local/lib/python3.8/dist-packages (from merlin-core>=0.2.0->merlin-models->-r /requirements.txt (line 7)) (0.56.4)\n",
      "Requirement already satisfied: tqdm>=4.0 in /usr/local/lib/python3.8/dist-packages (from merlin-core>=0.2.0->merlin-models->-r /requirements.txt (line 7)) (4.64.1)\n",
      "Requirement already satisfied: distributed>=2022.3.0 in /usr/local/lib/python3.8/dist-packages (from merlin-core>=0.2.0->merlin-models->-r /requirements.txt (line 7)) (2022.7.1)\n",
      "Requirement already satisfied: dask>=2022.3.0 in /usr/local/lib/python3.8/dist-packages (from merlin-core>=0.2.0->merlin-models->-r /requirements.txt (line 7)) (2022.7.1)\n",
      "Requirement already satisfied: pyarrow>=5.0.0 in /usr/local/lib/python3.8/dist-packages (from merlin-core>=0.2.0->merlin-models->-r /requirements.txt (line 7)) (8.0.0)\n",
      "Requirement already satisfied: betterproto<2.0.0 in /usr/local/lib/python3.8/dist-packages (from merlin-core>=0.2.0->merlin-models->-r /requirements.txt (line 7)) (1.2.5)\n",
      "Requirement already satisfied: numpy<1.26.0,>=1.18.5 in /usr/local/lib/python3.8/dist-packages (from scipy->nvtabular->-r /requirements.txt (line 8)) (1.22.4)\n",
      "Requirement already satisfied: requests-oauthlib>=0.7.0 in /usr/local/lib/python3.8/dist-packages (from google-auth-oauthlib->gcsfs->-r /requirements.txt (line 9)) (1.3.1)\n",
      "Requirement already satisfied: rsa<5,>=3.1.4; python_version >= \"3.6\" in /usr/local/lib/python3.8/dist-packages (from google-auth>=1.2->gcsfs->-r /requirements.txt (line 9)) (4.9)\n",
      "Requirement already satisfied: six>=1.9.0 in /usr/lib/python3/dist-packages (from google-auth>=1.2->gcsfs->-r /requirements.txt (line 9)) (1.14.0)\n",
      "Requirement already satisfied: pyasn1-modules>=0.2.1 in /usr/local/lib/python3.8/dist-packages (from google-auth>=1.2->gcsfs->-r /requirements.txt (line 9)) (0.2.8)\n",
      "Requirement already satisfied: cachetools<6.0,>=2.0.0 in /usr/local/lib/python3.8/dist-packages (from google-auth>=1.2->gcsfs->-r /requirements.txt (line 9)) (5.2.0)\n",
      "Requirement already satisfied: attrs>=17.3.0 in /usr/local/lib/python3.8/dist-packages (from aiohttp!=4.0.0a0,!=4.0.0a1->gcsfs->-r /requirements.txt (line 9)) (22.2.0)\n",
      "Requirement already satisfied: frozenlist>=1.1.1 in /usr/local/lib/python3.8/dist-packages (from aiohttp!=4.0.0a0,!=4.0.0a1->gcsfs->-r /requirements.txt (line 9)) (1.3.3)\n",
      "Requirement already satisfied: multidict<7.0,>=4.5 in /usr/local/lib/python3.8/dist-packages (from aiohttp!=4.0.0a0,!=4.0.0a1->gcsfs->-r /requirements.txt (line 9)) (6.0.4)\n",
      "Requirement already satisfied: aiosignal>=1.1.2 in /usr/local/lib/python3.8/dist-packages (from aiohttp!=4.0.0a0,!=4.0.0a1->gcsfs->-r /requirements.txt (line 9)) (1.3.1)\n",
      "Requirement already satisfied: charset-normalizer<3.0,>=2.0 in /usr/local/lib/python3.8/dist-packages (from aiohttp!=4.0.0a0,!=4.0.0a1->gcsfs->-r /requirements.txt (line 9)) (2.1.1)\n",
      "Requirement already satisfied: async-timeout<5.0,>=4.0.0a3 in /usr/local/lib/python3.8/dist-packages (from aiohttp!=4.0.0a0,!=4.0.0a1->gcsfs->-r /requirements.txt (line 9)) (4.0.2)\n",
      "Requirement already satisfied: yarl<2.0,>=1.0 in /usr/local/lib/python3.8/dist-packages (from aiohttp!=4.0.0a0,!=4.0.0a1->gcsfs->-r /requirements.txt (line 9)) (1.8.2)\n",
      "Requirement already satisfied: certifi>=2017.4.17 in /usr/lib/python3/dist-packages (from requests->gcsfs->-r /requirements.txt (line 9)) (2019.11.28)\n",
      "Requirement already satisfied: urllib3<1.27,>=1.21.1 in /usr/local/lib/python3.8/dist-packages (from requests->gcsfs->-r /requirements.txt (line 9)) (1.26.13)\n",
      "Requirement already satisfied: idna<4,>=2.5 in /usr/lib/python3/dist-packages (from requests->gcsfs->-r /requirements.txt (line 9)) (2.8)\n",
      "Collecting google-crc32c<2.0dev,>=1.0\n",
      "  Downloading google_crc32c-1.5.0-cp38-cp38-manylinux_2_17_x86_64.manylinux2014_x86_64.whl (32 kB)\n",
      "Requirement already satisfied: sniffio>=1.1 in /usr/local/lib/python3.8/dist-packages (from anyio<4,>=3.0.0->watchgod>=0.6; extra == \"standard\"->uvicorn[standard]==0.15.0->-r /requirements.txt (line 1)) (1.3.0)\n",
      "Requirement already satisfied: pytz>=2017.3 in /usr/local/lib/python3.8/dist-packages (from pandas<1.4.0dev0,>=1.2.0->merlin-core>=0.2.0->merlin-models->-r /requirements.txt (line 7)) (2022.7)\n",
      "Requirement already satisfied: absl-py<2.0.0,>=0.9 in /usr/local/lib/python3.8/dist-packages (from tensorflow-metadata>=1.2.0->merlin-core>=0.2.0->merlin-models->-r /requirements.txt (line 7)) (1.3.0)\n",
      "Requirement already satisfied: llvmlite<0.40,>=0.39.0dev0 in /usr/local/lib/python3.8/dist-packages (from numba>=0.54->merlin-core>=0.2.0->merlin-models->-r /requirements.txt (line 7)) (0.39.1)\n",
      "Requirement already satisfied: importlib-metadata; python_version < \"3.9\" in /usr/local/lib/python3.8/dist-packages (from numba>=0.54->merlin-core>=0.2.0->merlin-models->-r /requirements.txt (line 7)) (5.2.0)\n",
      "Requirement already satisfied: cloudpickle>=1.5.0 in /usr/local/lib/python3.8/dist-packages (from distributed>=2022.3.0->merlin-core>=0.2.0->merlin-models->-r /requirements.txt (line 7)) (2.2.0)\n",
      "Requirement already satisfied: toolz>=0.8.2 in /usr/local/lib/python3.8/dist-packages (from distributed>=2022.3.0->merlin-core>=0.2.0->merlin-models->-r /requirements.txt (line 7)) (0.12.0)\n",
      "Requirement already satisfied: tblib>=1.6.0 in /usr/local/lib/python3.8/dist-packages (from distributed>=2022.3.0->merlin-core>=0.2.0->merlin-models->-r /requirements.txt (line 7)) (1.7.0)\n",
      "Requirement already satisfied: tornado<6.2,>=6.0.3 in /usr/local/lib/python3.8/dist-packages (from distributed>=2022.3.0->merlin-core>=0.2.0->merlin-models->-r /requirements.txt (line 7)) (6.1)\n",
      "Requirement already satisfied: locket>=1.0.0 in /usr/local/lib/python3.8/dist-packages (from distributed>=2022.3.0->merlin-core>=0.2.0->merlin-models->-r /requirements.txt (line 7)) (1.0.0)\n",
      "Requirement already satisfied: msgpack>=0.6.0 in /usr/local/lib/python3.8/dist-packages (from distributed>=2022.3.0->merlin-core>=0.2.0->merlin-models->-r /requirements.txt (line 7)) (1.0.4)\n",
      "Requirement already satisfied: zict>=0.1.3 in /usr/local/lib/python3.8/dist-packages (from distributed>=2022.3.0->merlin-core>=0.2.0->merlin-models->-r /requirements.txt (line 7)) (2.2.0)\n",
      "Requirement already satisfied: jinja2 in /usr/local/lib/python3.8/dist-packages (from distributed>=2022.3.0->merlin-core>=0.2.0->merlin-models->-r /requirements.txt (line 7)) (3.1.2)\n",
      "Requirement already satisfied: sortedcontainers!=2.0.0,!=2.0.1 in /usr/local/lib/python3.8/dist-packages (from distributed>=2022.3.0->merlin-core>=0.2.0->merlin-models->-r /requirements.txt (line 7)) (2.4.0)\n",
      "Requirement already satisfied: psutil>=5.0 in /usr/local/lib/python3.8/dist-packages (from distributed>=2022.3.0->merlin-core>=0.2.0->merlin-models->-r /requirements.txt (line 7)) (5.9.4)\n",
      "Requirement already satisfied: partd>=0.3.10 in /usr/local/lib/python3.8/dist-packages (from dask>=2022.3.0->merlin-core>=0.2.0->merlin-models->-r /requirements.txt (line 7)) (1.3.0)\n",
      "Requirement already satisfied: stringcase in /usr/local/lib/python3.8/dist-packages (from betterproto<2.0.0->merlin-core>=0.2.0->merlin-models->-r /requirements.txt (line 7)) (1.2.0)\n",
      "Requirement already satisfied: grpclib in /usr/local/lib/python3.8/dist-packages (from betterproto<2.0.0->merlin-core>=0.2.0->merlin-models->-r /requirements.txt (line 7)) (0.4.3)\n",
      "Requirement already satisfied: oauthlib>=3.0.0 in /usr/local/lib/python3.8/dist-packages (from requests-oauthlib>=0.7.0->google-auth-oauthlib->gcsfs->-r /requirements.txt (line 9)) (3.2.2)\n",
      "Requirement already satisfied: pyasn1>=0.1.3 in /usr/local/lib/python3.8/dist-packages (from rsa<5,>=3.1.4; python_version >= \"3.6\"->google-auth>=1.2->gcsfs->-r /requirements.txt (line 9)) (0.4.8)\n",
      "Requirement already satisfied: zipp>=0.5 in /usr/local/lib/python3.8/dist-packages (from importlib-metadata; python_version < \"3.9\"->numba>=0.54->merlin-core>=0.2.0->merlin-models->-r /requirements.txt (line 7)) (3.11.0)\n",
      "Requirement already satisfied: heapdict in /usr/local/lib/python3.8/dist-packages (from zict>=0.1.3->distributed>=2022.3.0->merlin-core>=0.2.0->merlin-models->-r /requirements.txt (line 7)) (1.0.1)\n",
      "Requirement already satisfied: MarkupSafe>=2.0 in /usr/local/lib/python3.8/dist-packages (from jinja2->distributed>=2022.3.0->merlin-core>=0.2.0->merlin-models->-r /requirements.txt (line 7)) (2.1.1)\n",
      "Requirement already satisfied: h2<5,>=3.1.0 in /usr/local/lib/python3.8/dist-packages (from grpclib->betterproto<2.0.0->merlin-core>=0.2.0->merlin-models->-r /requirements.txt (line 7)) (4.1.0)\n",
      "Requirement already satisfied: hyperframe<7,>=6.0 in /usr/local/lib/python3.8/dist-packages (from h2<5,>=3.1.0->grpclib->betterproto<2.0.0->merlin-core>=0.2.0->merlin-models->-r /requirements.txt (line 7)) (6.0.1)\n",
      "Requirement already satisfied: hpack<5,>=4.0 in /usr/local/lib/python3.8/dist-packages (from h2<5,>=3.1.0->grpclib->betterproto<2.0.0->merlin-core>=0.2.0->merlin-models->-r /requirements.txt (line 7)) (4.0.0)\n",
      "\u001b[91mERROR: dask-cudf 22.8.0a0+304.g6ca81bbc78.dirty requires cupy-cuda118<12,>=9.5.0, which is not installed.\n",
      "ERROR: cudf 22.8.0a0+304.g6ca81bbc78.dirty requires cupy-cuda118<12,>=9.5.0, which is not installed.\n",
      "ERROR: tensorflow 2.10.0+nv22.11 has requirement flatbuffers>=2.0, but you'll have flatbuffers 1.12 which is incompatible.\n",
      "ERROR: tensorflow 2.10.0+nv22.11 has requirement tensorboard<2.11,>=2.10, but you'll have tensorboard 2.9.1 which is incompatible.\n",
      "ERROR: tensorflow 2.10.0+nv22.11 has requirement tensorflow-estimator<2.11,>=2.10.0, but you'll have tensorflow-estimator 2.9.0 which is incompatible.\n",
      "ERROR: merlin-core 0.10.0 has requirement fsspec==2022.5.0, but you'll have fsspec 2023.3.0 which is incompatible.\n",
      "\u001b[0m\u001b[91mERROR: jupyter-server 2.0.6 has requirement tornado>=6.2.0, but you'll have tornado 6.1 which is incompatible.\n",
      "\u001b[0m\u001b[91mERROR: grpcio-channelz 1.51.1 has requirement protobuf>=4.21.6, but you'll have protobuf 3.19.6 which is incompatible.\n",
      "ERROR: cudf 22.8.0a0+304.g6ca81bbc78.dirty has requirement cuda-python<11.7.1,>=11.5, but you'll have cuda-python 11.8.1 which is incompatible.\n",
      "ERROR: cudf 22.8.0a0+304.g6ca81bbc78.dirty has requirement protobuf<3.21.0a0,>=3.20.1, but you'll have protobuf 3.19.6 which is incompatible.\n",
      "ERROR: grpcio-status 1.51.3 has requirement protobuf>=4.21.6, but you'll have protobuf 3.19.6 which is incompatible.\n",
      "\u001b[0mInstalling collected packages: h11, asgiref, httptools, python-dotenv, websockets, watchgod, uvloop, uvicorn, gunicorn, pydantic, starlette, fastapi, packaging, grpcio, grpcio-status, google-api-core, google-cloud-core, google-crc32c, google-resumable-media, google-cloud-storage, grpc-google-iam-v1, proto-plus, google-cloud-resource-manager, google-cloud-bigquery, shapely, google-cloud-aiplatform, fsspec, gcsfs\n",
      "  Attempting uninstall: packaging\n",
      "    Found existing installation: packaging 22.0\n",
      "    Uninstalling packaging-22.0:\n",
      "      Successfully uninstalled packaging-22.0\n",
      "  Attempting uninstall: grpcio\n",
      "    Found existing installation: grpcio 1.42.0\n",
      "    Uninstalling grpcio-1.42.0:\n",
      "      Successfully uninstalled grpcio-1.42.0\n",
      "  Attempting uninstall: fsspec\n",
      "    Found existing installation: fsspec 2022.5.0\n",
      "    Uninstalling fsspec-2022.5.0:\n",
      "      Successfully uninstalled fsspec-2022.5.0\n",
      "Successfully installed asgiref-3.6.0 fastapi-0.68.1 fsspec-2023.3.0 gcsfs-2023.3.0 google-api-core-2.11.0 google-cloud-aiplatform-1.22.1 google-cloud-bigquery-3.6.0 google-cloud-core-2.3.2 google-cloud-resource-manager-1.9.0 google-cloud-storage-2.7.0 google-crc32c-1.5.0 google-resumable-media-2.4.1 grpc-google-iam-v1-0.12.6 grpcio-1.51.3 grpcio-status-1.51.3 gunicorn-20.1.0 h11-0.14.0 httptools-0.2.0 packaging-21.3 proto-plus-1.22.2 pydantic-1.10.5 python-dotenv-1.0.0 shapely-1.8.5.post1 starlette-0.14.2 uvicorn-0.15.0 uvloop-0.17.0 watchgod-0.8.2 websockets-10.4\n",
      "Removing intermediate container 8da823327b54\n",
      " ---> 28b20f273dbe\n",
      "Step 5/9 : RUN mkdir /docker_workflow\n",
      " ---> Running in ef86c190510f\n",
      "Removing intermediate container ef86c190510f\n",
      " ---> 48691eee5488\n",
      "Step 6/9 : COPY ./serving/local_workflow /docker_workflow\n",
      " ---> 1bbbcf730acd\n",
      "Step 7/9 : COPY ./serving/app /app\n",
      " ---> ac2416335b0d\n",
      "Step 8/9 : EXPOSE 80\n",
      " ---> Running in 75a222d9ec91\n",
      "Removing intermediate container 75a222d9ec91\n",
      " ---> 95097f198d8b\n",
      "Step 9/9 : CMD [\"sh\", \"-c\", \"uvicorn main:app --host 0.0.0.0 --port $AIP_HTTP_PORT\"]\n",
      " ---> Running in d1c2e092ba1b\n",
      "Removing intermediate container d1c2e092ba1b\n",
      " ---> 9dbea3e45386\n",
      "Successfully built 9dbea3e45386\n",
      "Successfully tagged gcr.io/hybrid-vertex/mm2t-vertex-serv-v27:latest\n",
      "PUSH\n",
      "Pushing gcr.io/hybrid-vertex/mm2t-vertex-serv-v27\n",
      "The push refers to repository [gcr.io/hybrid-vertex/mm2t-vertex-serv-v27]\n",
      "21face56b161: Preparing\n",
      "738bb8c20ef6: Preparing\n",
      "269b7cdfbb83: Preparing\n",
      "edec2c38838c: Preparing\n",
      "7d45bbf2e702: Preparing\n",
      "561bf59b5ae8: Preparing\n",
      "2f4c2e747ad7: Preparing\n",
      "f5b846caf956: Preparing\n",
      "12eec4f4a731: Preparing\n",
      "67516f8ac904: Preparing\n",
      "4c0655970ccc: Preparing\n",
      "73101e82e910: Preparing\n",
      "f4d87c23e98f: Preparing\n",
      "d07270ded861: Preparing\n",
      "8187da794091: Preparing\n",
      "d7ba493f5d44: Preparing\n",
      "ebd7caa9de82: Preparing\n",
      "242c03ad2a31: Preparing\n",
      "df5d5e1b9e48: Preparing\n",
      "3951f4addbfc: Preparing\n",
      "2e5281e7ae87: Preparing\n",
      "42ed3d5ddcb4: Preparing\n",
      "383fa992b719: Preparing\n",
      "e47df10e020a: Preparing\n",
      "317e7f70fff9: Preparing\n",
      "b45c2562fda1: Preparing\n",
      "0511decbb6f6: Preparing\n",
      "ac6f1cea2b76: Preparing\n",
      "d5f7fcaf77a9: Preparing\n",
      "bf10e31ca3c7: Preparing\n",
      "f1b1f58ddb35: Preparing\n",
      "71fe61786022: Preparing\n",
      "20d51f7b3d75: Preparing\n",
      "4357e5c17b0b: Preparing\n",
      "38dd15f32335: Preparing\n",
      "1014fb54d10a: Preparing\n",
      "f4c090be1950: Preparing\n",
      "bfc784fa095a: Preparing\n",
      "1f09cab8959e: Preparing\n",
      "ea787d764727: Preparing\n",
      "04b7d4d05916: Preparing\n",
      "3ace34553782: Preparing\n",
      "182ee86689d1: Preparing\n",
      "bbdb6055545b: Preparing\n",
      "9a161f9c0e0a: Preparing\n",
      "b7ad75a3e25e: Preparing\n",
      "7752ee8ae666: Preparing\n",
      "13f264ca1ed9: Preparing\n",
      "cd870b4929c1: Preparing\n",
      "d092d49243b5: Preparing\n",
      "aafb34ceba88: Preparing\n",
      "32710f0c03c7: Preparing\n",
      "6a55125f046a: Preparing\n",
      "2af1bd207a0a: Preparing\n",
      "67516f8ac904: Waiting\n",
      "ef25bc892765: Preparing\n",
      "e5171eae2464: Preparing\n",
      "f7bcdf2e75c1: Preparing\n",
      "561bf59b5ae8: Waiting\n",
      "4c0655970ccc: Waiting\n",
      "ef257ce50d4c: Preparing\n",
      "d7d019fd6cda: Preparing\n",
      "bf08ecf416c0: Preparing\n",
      "73101e82e910: Waiting\n",
      "ac6f1cea2b76: Waiting\n",
      "19be279686b3: Preparing\n",
      "a42b9d3ddcc4: Preparing\n",
      "f4d87c23e98f: Waiting\n",
      "d5f7fcaf77a9: Waiting\n",
      "8a1a337e69bc: Preparing\n",
      "2f4c2e747ad7: Waiting\n",
      "ca6dd165751d: Preparing\n",
      "d07270ded861: Waiting\n",
      "ac02b4761a81: Preparing\n",
      "bf10e31ca3c7: Waiting\n",
      "f5b846caf956: Waiting\n",
      "4be672edea27: Preparing\n",
      "f1b1f58ddb35: Waiting\n",
      "8187da794091: Waiting\n",
      "12eec4f4a731: Waiting\n",
      "3041a215c94e: Preparing\n",
      "db85811a91ed: Preparing\n",
      "6eb00409a05c: Preparing\n",
      "fb3ac13a8afd: Preparing\n",
      "71fe61786022: Waiting\n",
      "d7ba493f5d44: Waiting\n",
      "e614e8f11c1c: Preparing\n",
      "ebd7caa9de82: Waiting\n",
      "70d54afe53fd: Preparing\n",
      "20d51f7b3d75: Waiting\n",
      "cbbf130153a1: Preparing\n",
      "5f70bf18a086: Preparing\n",
      "7173bbe6139c: Preparing\n",
      "23076d2c79f0: Preparing\n",
      "4357e5c17b0b: Waiting\n",
      "ed1a31ee03b7: Preparing\n",
      "fe17ea05bcc3: Preparing\n",
      "3204b933fb0b: Preparing\n",
      "4616162d4e6a: Preparing\n",
      "38dd15f32335: Waiting\n",
      "182ee86689d1: Waiting\n",
      "9a03c5ba8f95: Preparing\n",
      "764cbe4d1ae6: Preparing\n",
      "bbdb6055545b: Waiting\n",
      "03a82e76641b: Preparing\n",
      "1014fb54d10a: Waiting\n",
      "f874925be13d: Preparing\n",
      "9a161f9c0e0a: Waiting\n",
      "2c4e7d9e38c0: Preparing\n",
      "67abb95254ee: Preparing\n",
      "f4c090be1950: Waiting\n",
      "b7ad75a3e25e: Waiting\n",
      "f4462d5b2da2: Preparing\n",
      "7752ee8ae666: Waiting\n",
      "13f264ca1ed9: Waiting\n",
      "3ace34553782: Waiting\n",
      "19be279686b3: Waiting\n",
      "ea787d764727: Waiting\n",
      "a42b9d3ddcc4: Waiting\n",
      "cd870b4929c1: Waiting\n",
      "1f09cab8959e: Waiting\n",
      "04b7d4d05916: Waiting\n",
      "23076d2c79f0: Waiting\n",
      "d092d49243b5: Waiting\n",
      "8a1a337e69bc: Waiting\n",
      "ed1a31ee03b7: Waiting\n",
      "e47df10e020a: Waiting\n",
      "fe17ea05bcc3: Waiting\n",
      "aafb34ceba88: Waiting\n",
      "242c03ad2a31: Waiting\n",
      "ca6dd165751d: Waiting\n",
      "317e7f70fff9: Waiting\n",
      "fb3ac13a8afd: Waiting\n",
      "32710f0c03c7: Waiting\n",
      "ac02b4761a81: Waiting\n",
      "df5d5e1b9e48: Waiting\n",
      "3204b933fb0b: Waiting\n",
      "b45c2562fda1: Waiting\n",
      "6a55125f046a: Waiting\n",
      "4be672edea27: Waiting\n",
      "3951f4addbfc: Waiting\n",
      "e614e8f11c1c: Waiting\n",
      "4616162d4e6a: Waiting\n",
      "0511decbb6f6: Waiting\n",
      "2af1bd207a0a: Waiting\n",
      "3041a215c94e: Waiting\n",
      "9a03c5ba8f95: Waiting\n",
      "2e5281e7ae87: Waiting\n",
      "ef25bc892765: Waiting\n",
      "70d54afe53fd: Waiting\n",
      "db85811a91ed: Waiting\n",
      "764cbe4d1ae6: Waiting\n",
      "6eb00409a05c: Waiting\n",
      "42ed3d5ddcb4: Waiting\n",
      "e5171eae2464: Waiting\n",
      "03a82e76641b: Waiting\n",
      "383fa992b719: Waiting\n",
      "cbbf130153a1: Waiting\n",
      "f7bcdf2e75c1: Waiting\n",
      "5f70bf18a086: Waiting\n",
      "ef257ce50d4c: Waiting\n",
      "f874925be13d: Waiting\n",
      "2c4e7d9e38c0: Waiting\n",
      "f4462d5b2da2: Waiting\n",
      "d7d019fd6cda: Waiting\n",
      "67abb95254ee: Waiting\n",
      "269b7cdfbb83: Pushed\n",
      "21face56b161: Pushed\n",
      "7d45bbf2e702: Pushed\n",
      "2f4c2e747ad7: Layer already exists\n",
      "f5b846caf956: Layer already exists\n",
      "12eec4f4a731: Layer already exists\n",
      "67516f8ac904: Layer already exists\n",
      "4c0655970ccc: Layer already exists\n",
      "73101e82e910: Layer already exists\n",
      "f4d87c23e98f: Layer already exists\n",
      "d07270ded861: Layer already exists\n",
      "8187da794091: Layer already exists\n",
      "d7ba493f5d44: Layer already exists\n",
      "ebd7caa9de82: Layer already exists\n",
      "242c03ad2a31: Layer already exists\n",
      "df5d5e1b9e48: Layer already exists\n",
      "3951f4addbfc: Layer already exists\n",
      "561bf59b5ae8: Pushed\n",
      "2e5281e7ae87: Layer already exists\n",
      "42ed3d5ddcb4: Layer already exists\n",
      "e47df10e020a: Layer already exists\n",
      "317e7f70fff9: Layer already exists\n",
      "383fa992b719: Layer already exists\n",
      "b45c2562fda1: Layer already exists\n",
      "0511decbb6f6: Layer already exists\n",
      "ac6f1cea2b76: Layer already exists\n",
      "d5f7fcaf77a9: Layer already exists\n",
      "bf10e31ca3c7: Layer already exists\n",
      "f1b1f58ddb35: Layer already exists\n",
      "71fe61786022: Layer already exists\n",
      "20d51f7b3d75: Layer already exists\n",
      "4357e5c17b0b: Layer already exists\n",
      "38dd15f32335: Layer already exists\n",
      "1014fb54d10a: Layer already exists\n",
      "f4c090be1950: Layer already exists\n",
      "bfc784fa095a: Layer already exists\n",
      "1f09cab8959e: Layer already exists\n",
      "ea787d764727: Layer already exists\n",
      "04b7d4d05916: Layer already exists\n",
      "3ace34553782: Layer already exists\n",
      "182ee86689d1: Layer already exists\n",
      "bbdb6055545b: Layer already exists\n",
      "9a161f9c0e0a: Layer already exists\n",
      "b7ad75a3e25e: Layer already exists\n",
      "7752ee8ae666: Layer already exists\n",
      "13f264ca1ed9: Layer already exists\n",
      "cd870b4929c1: Layer already exists\n",
      "d092d49243b5: Layer already exists\n",
      "32710f0c03c7: Layer already exists\n",
      "aafb34ceba88: Layer already exists\n",
      "6a55125f046a: Layer already exists\n",
      "2af1bd207a0a: Layer already exists\n",
      "ef25bc892765: Layer already exists\n",
      "e5171eae2464: Layer already exists\n",
      "ef257ce50d4c: Layer already exists\n",
      "f7bcdf2e75c1: Layer already exists\n",
      "d7d019fd6cda: Layer already exists\n",
      "bf08ecf416c0: Layer already exists\n",
      "19be279686b3: Layer already exists\n",
      "a42b9d3ddcc4: Layer already exists\n",
      "8a1a337e69bc: Layer already exists\n",
      "ac02b4761a81: Layer already exists\n",
      "ca6dd165751d: Layer already exists\n",
      "4be672edea27: Layer already exists\n",
      "3041a215c94e: Layer already exists\n",
      "db85811a91ed: Layer already exists\n",
      "6eb00409a05c: Layer already exists\n",
      "fb3ac13a8afd: Layer already exists\n",
      "cbbf130153a1: Layer already exists\n",
      "e614e8f11c1c: Layer already exists\n",
      "70d54afe53fd: Layer already exists\n",
      "5f70bf18a086: Layer already exists\n",
      "7173bbe6139c: Layer already exists\n",
      "ed1a31ee03b7: Layer already exists\n",
      "fe17ea05bcc3: Layer already exists\n",
      "23076d2c79f0: Layer already exists\n",
      "3204b933fb0b: Layer already exists\n",
      "9a03c5ba8f95: Layer already exists\n",
      "4616162d4e6a: Layer already exists\n",
      "764cbe4d1ae6: Layer already exists\n",
      "03a82e76641b: Layer already exists\n",
      "f874925be13d: Layer already exists\n",
      "2c4e7d9e38c0: Layer already exists\n",
      "67abb95254ee: Layer already exists\n",
      "f4462d5b2da2: Layer already exists\n",
      "edec2c38838c: Pushed\n",
      "738bb8c20ef6: Pushed\n",
      "latest: digest: sha256:782a060d18fdd327777802b20ad32048673e12698152e1856da9204faf800ca3 size: 18617\n",
      "DONE\n",
      "--------------------------------------------------------------------------------\n",
      "ID                                    CREATE_TIME                DURATION  SOURCE                                                                                       IMAGES                                               STATUS\n",
      "ff893e96-f561-4a38-b917-de0424012a55  2023-03-07T15:28:25+00:00  4M43S     gs://hybrid-vertex_cloudbuild/source/1678202800.337596-85a843a85d4d4760a913dcf6062b93a8.tgz  gcr.io/hybrid-vertex/mm2t-vertex-serv-v27 (+1 more)  SUCCESS\n"
     ]
    }
   ],
   "source": [
    "! gcloud builds submit --config src/cloudbuild.yaml \\\n",
    "    --substitutions _DOCKERNAME=$DOCKERNAME,_IMAGE_URI=$IMAGE_URI,_FILE_LOCATION=$FILE_LOCATION \\\n",
    "    --timeout=2h \\\n",
    "    --machine-type=$MACHINE_TYPE"
   ]
  },
  {
   "cell_type": "code",
   "execution_count": 146,
   "id": "f1ef4abf-d7eb-49f9-b7e5-c3ece91d2afe",
   "metadata": {},
   "outputs": [
    {
     "data": {
      "text/plain": [
       "'gcr.io/hybrid-vertex/mm2t-vertex-serv-v27'"
      ]
     },
     "execution_count": 146,
     "metadata": {},
     "output_type": "execute_result"
    }
   ],
   "source": [
    "IMAGE_URI"
   ]
  },
  {
   "cell_type": "markdown",
   "id": "2c94bf61-afbc-4187-9460-251a37e67171",
   "metadata": {},
   "source": [
    "# Deploy Query Model to Vertex"
   ]
  },
  {
   "cell_type": "markdown",
   "id": "209a9295-e707-4127-aa76-42ed7fc756a5",
   "metadata": {},
   "source": [
    "## Upload to Model Regsitry\n",
    "\n",
    "* `parent_model` [src](https://github.com/googleapis/python-aiplatform/blob/main/google/cloud/aiplatform/models.py#L2831) code"
   ]
  },
  {
   "cell_type": "code",
   "execution_count": 127,
   "id": "6123427d-ee45-4c3f-9f6c-5f8bb5331fad",
   "metadata": {},
   "outputs": [],
   "source": [
    "MODEL_DEPLOY_VERSION = \"v27\""
   ]
  },
  {
   "cell_type": "code",
   "execution_count": 128,
   "id": "b7aa0466-d49c-44df-b636-dd3035824a7a",
   "metadata": {},
   "outputs": [
    {
     "name": "stdout",
     "output_type": "stream",
     "text": [
      "MODEL_ARTIFACT_URI: gs://jt-merlin-scaling/new9-2tower-merlin-tf-jtv24/run-20230228-170848/model_dir/query_tower\n"
     ]
    }
   ],
   "source": [
    "MODEL_DISPLAY_NAME=f\"mm-qtower-{MODEL_DEPLOY_VERSION}\"\n",
    "MODEL_ARTIFACT_URI = f'{MODEL_DIR}/query_tower'\n",
    "\n",
    "print(f\"MODEL_ARTIFACT_URI: {MODEL_ARTIFACT_URI}\")"
   ]
  },
  {
   "cell_type": "code",
   "execution_count": 129,
   "id": "2f1afd52-8bd6-49ed-ad8b-14bb470b850f",
   "metadata": {},
   "outputs": [],
   "source": [
    "# existing model resource\n",
    "# MODEL_URI = 'projects/934903580331/locations/us-central1/models/2330386307768909824@1'\n",
    "# MODEL_URI = \"projects/934903580331/locations/us-central1/models/3574305593713754112\" # 50 epoch\n",
    "# model = vertex_ai.Model(MODEL_URI)\n",
    "\n",
    "# vertex_ai.Model.delete(model)\n",
    "\n",
    "# model"
   ]
  },
  {
   "cell_type": "code",
   "execution_count": 130,
   "id": "6114bfba-7b2c-41ef-9828-1cfebb33cb56",
   "metadata": {},
   "outputs": [
    {
     "name": "stdout",
     "output_type": "stream",
     "text": [
      "Creating Model\n",
      "Create Model backing LRO: projects/934903580331/locations/us-central1/models/2551484901975130112/operations/4643987264869761024\n",
      "Model created. Resource name: projects/934903580331/locations/us-central1/models/2551484901975130112@1\n",
      "To use this Model in another session:\n",
      "model = aiplatform.Model('projects/934903580331/locations/us-central1/models/2551484901975130112@1')\n",
      "Created model in 0.26 seconds\n",
      "\n"
     ]
    }
   ],
   "source": [
    "start = time.process_time()\n",
    "\n",
    "model = vertex_ai.Model.upload(\n",
    "        display_name=MODEL_DISPLAY_NAME,\n",
    "        artifact_uri=MODEL_ARTIFACT_URI,\n",
    "        serving_container_image_uri=IMAGE_URI,\n",
    "        serving_container_predict_route='/predict',\n",
    "        serving_container_health_route='/health',\n",
    "        serving_container_command=[\"sh\", \"-c\", \"uvicorn main:app --host 0.0.0.0 --port $AIP_HTTP_PORT\"],\n",
    "        serving_container_args='--gpus all',\n",
    "        # parent_model=PARENT_MODEL,\n",
    "        sync=True,\n",
    "    )\n",
    "\n",
    "print(f\"Created model in {round((time.process_time() - start),2)} seconds\\n\")"
   ]
  },
  {
   "cell_type": "markdown",
   "id": "1c799802-643a-4650-be6f-3d670479af0a",
   "metadata": {},
   "source": [
    "## Deploy to Vertex AI Endpoint"
   ]
  },
  {
   "cell_type": "markdown",
   "id": "f7d65883-ba63-4b6c-b128-73f7b7122075",
   "metadata": {},
   "source": [
    "### deployment config"
   ]
  },
  {
   "cell_type": "code",
   "execution_count": 132,
   "id": "6a03fd66-72ed-40de-8dcc-c4eca468b142",
   "metadata": {},
   "outputs": [
    {
     "name": "stdout",
     "output_type": "stream",
     "text": [
      "DEPLOYED_MODEL_DISPLAY_NAME: nb-deployed-mm-qtower-v27\n",
      "ENDPOINT_DISPLAY_NAME: mm-endpoint-v27\n"
     ]
    }
   ],
   "source": [
    "# service account for predictions\n",
    "VERTEX_SA = '934903580331-compute@developer.gserviceaccount.com'\n",
    "\n",
    "# model and endpoint display names\n",
    "# MODEL_DISPLAY_NAME=f\"mm-retrieval-{VERSION_serving}\"\n",
    "DEPLOYED_MODEL_DISPLAY_NAME=f\"nb-deployed-{MODEL_DISPLAY_NAME}\"\n",
    "ENDPOINT_DISPLAY_NAME = f\"mm-endpoint-{MODEL_DEPLOY_VERSION}\"\n",
    "\n",
    "# Endpoint resource config\n",
    "# DEPLOY_COMPUTE=\"n1-standard-4\"\n",
    "# DEPLOY_GPU=\"NVIDIA_TESLA_T4\"\n",
    "# DEPLOY_NGPU=1\n",
    "# MIN_NODES=1\n",
    "# MAX_NODES=1\n",
    "# TRAFFIC=100\n",
    "traffic_percentage = 100\n",
    "machine_type = \"n1-highmem-16\"\n",
    "accelerator_type = \"NVIDIA_TESLA_T4\"\n",
    "accelerator_count = 1\n",
    "min_replica_count = 1\n",
    "max_replica_count = 1\n",
    "\n",
    "print(f\"DEPLOYED_MODEL_DISPLAY_NAME: {DEPLOYED_MODEL_DISPLAY_NAME}\")\n",
    "print(f\"ENDPOINT_DISPLAY_NAME: {ENDPOINT_DISPLAY_NAME}\")"
   ]
  },
  {
   "cell_type": "markdown",
   "id": "65bc4d5d-20e8-4d25-9afa-820be25fdcbc",
   "metadata": {},
   "source": [
    "### create model endpoint"
   ]
  },
  {
   "cell_type": "code",
   "execution_count": 133,
   "id": "f128bfd9-5568-4a13-a5a6-725f2ff0bb8e",
   "metadata": {},
   "outputs": [],
   "source": [
    "# ENDPOINT_URI = 'projects/934903580331/locations/us-central1/endpoints/2071809760218316800'\n",
    "# endpoint = vertex_ai.Endpoint(ENDPOINT_URI)\n",
    "# vertex_ai.Endpoint.delete(endpoint)"
   ]
  },
  {
   "cell_type": "code",
   "execution_count": 134,
   "id": "ea1247f8-fe16-4e46-98c5-4bb7a79a846d",
   "metadata": {},
   "outputs": [
    {
     "name": "stdout",
     "output_type": "stream",
     "text": [
      "Creating Endpoint\n",
      "Create Endpoint backing LRO: projects/934903580331/locations/us-central1/endpoints/5183797102731329536/operations/5279648678150144\n",
      "Endpoint created. Resource name: projects/934903580331/locations/us-central1/endpoints/5183797102731329536\n",
      "To use this Endpoint in another session:\n",
      "endpoint = aiplatform.Endpoint('projects/934903580331/locations/us-central1/endpoints/5183797102731329536')\n",
      "Created endpoint in 0.04 seconds\n",
      "\n",
      "<google.cloud.aiplatform.models.Endpoint object at 0x7f4a03ac4950> \n",
      "resource name: projects/934903580331/locations/us-central1/endpoints/5183797102731329536\n"
     ]
    }
   ],
   "source": [
    "start = time.process_time()\n",
    "\n",
    "endpoint = vertex_ai.Endpoint.create(\n",
    "    display_name=ENDPOINT_DISPLAY_NAME,\n",
    "    project=PROJECT_ID,\n",
    "    location=LOCATION,\n",
    ")\n",
    "\n",
    "print(f\"Created endpoint in {round((time.process_time() - start),2)} seconds\\n\")\n",
    "\n",
    "print(endpoint)"
   ]
  },
  {
   "cell_type": "markdown",
   "id": "31a28159-10dd-4ee9-adf6-5336c0edb496",
   "metadata": {},
   "source": [
    "### deploy model to endpoint"
   ]
  },
  {
   "cell_type": "code",
   "execution_count": 135,
   "id": "5a8cec7c-7cbf-4b70-b7b6-b56cdafa5e16",
   "metadata": {},
   "outputs": [
    {
     "name": "stdout",
     "output_type": "stream",
     "text": [
      "Deploying model to Endpoint : projects/934903580331/locations/us-central1/endpoints/5183797102731329536\n",
      "Deploy Endpoint model backing LRO: projects/934903580331/locations/us-central1/endpoints/5183797102731329536/operations/8101062928830038016\n",
      "Endpoint model deployed. Resource name: projects/934903580331/locations/us-central1/endpoints/5183797102731329536\n",
      "Deployed model to endpoint in 0.66 seconds\n",
      "\n",
      "<google.cloud.aiplatform.models.Model object at 0x7f49f31c3550> \n",
      "resource name: projects/934903580331/locations/us-central1/models/2551484901975130112\n"
     ]
    }
   ],
   "source": [
    "start = time.process_time()\n",
    "\n",
    "model.deploy(\n",
    "    endpoint=endpoint,\n",
    "    deployed_model_display_name=DEPLOYED_MODEL_DISPLAY_NAME,\n",
    "    machine_type=machine_type,\n",
    "    min_replica_count=min_replica_count,\n",
    "    max_replica_count=max_replica_count,\n",
    "    traffic_percentage=traffic_percentage,\n",
    "    accelerator_type=accelerator_type,\n",
    "    accelerator_count=accelerator_count,\n",
    "    service_account=VERTEX_SA,\n",
    "    sync=True,\n",
    "    # deploy_request_timeout=1800\n",
    ")\n",
    "\n",
    "print(f\"Deployed model to endpoint in {round((time.process_time() - start),2)} seconds\\n\")\n",
    "\n",
    "print(model)"
   ]
  },
  {
   "cell_type": "markdown",
   "id": "52d36c9e-1d90-4c5c-9220-7fc824e42f73",
   "metadata": {},
   "source": [
    "#### check endpoint"
   ]
  },
  {
   "cell_type": "code",
   "execution_count": 136,
   "id": "c32166d9-0ba4-4932-aefa-83d31f9d7098",
   "metadata": {},
   "outputs": [
    {
     "name": "stdout",
     "output_type": "stream",
     "text": [
      "id: \"3433005155405004800\"\n",
      "model: \"projects/934903580331/locations/us-central1/models/2551484901975130112\"\n",
      "display_name: \"nb-deployed-mm-qtower-v27\"\n",
      "create_time {\n",
      "  seconds: 1678203793\n",
      "  nanos: 200988000\n",
      "}\n",
      "dedicated_resources {\n",
      "  machine_spec {\n",
      "    machine_type: \"n1-highmem-16\"\n",
      "    accelerator_type: NVIDIA_TESLA_T4\n",
      "    accelerator_count: 1\n",
      "  }\n",
      "  min_replica_count: 1\n",
      "  max_replica_count: 1\n",
      "}\n",
      "service_account: \"934903580331-compute@developer.gserviceaccount.com\"\n",
      "model_version_id: \"1\"\n",
      "\n"
     ]
    }
   ],
   "source": [
    "print(endpoint.gca_resource.deployed_models[0])"
   ]
  },
  {
   "cell_type": "markdown",
   "id": "171104a3-490f-49bf-9662-2012efb35595",
   "metadata": {},
   "source": [
    "## Test Deployed Endpoint"
   ]
  },
  {
   "cell_type": "markdown",
   "id": "1edef10e-e2de-4073-bc19-132d3409e139",
   "metadata": {},
   "source": [
    "### Define endpoint"
   ]
  },
  {
   "cell_type": "code",
   "execution_count": 147,
   "id": "57040e34-b61a-4b15-9dbb-d7930977da62",
   "metadata": {},
   "outputs": [],
   "source": [
    "ENDPOINT_URI = 'projects/934903580331/locations/us-central1/endpoints/5374777874429509632'\n",
    "endpoint = vertex_ai.Endpoint(ENDPOINT_URI)\n",
    "\n",
    "# vertex_ai.Endpoint.delete(endpoint)"
   ]
  },
  {
   "cell_type": "code",
   "execution_count": 148,
   "id": "2355b042-0aff-4eec-b433-e6231b114fec",
   "metadata": {},
   "outputs": [
    {
     "name": "stdout",
     "output_type": "stream",
     "text": [
      "id: \"7554924714355851264\"\n",
      "model: \"projects/934903580331/locations/us-central1/models/149940400679813120\"\n",
      "display_name: \"merlin-query-tower-jtv03\"\n",
      "create_time {\n",
      "  seconds: 1678239690\n",
      "  nanos: 44023000\n",
      "}\n",
      "dedicated_resources {\n",
      "  machine_spec {\n",
      "    machine_type: \"n1-standard-4\"\n",
      "    accelerator_type: NVIDIA_TESLA_T4\n",
      "    accelerator_count: 1\n",
      "  }\n",
      "  min_replica_count: 1\n",
      "  max_replica_count: 1\n",
      "}\n",
      "service_account: \"934903580331-compute@developer.gserviceaccount.com\"\n",
      "model_version_id: \"1\"\n",
      "\n"
     ]
    }
   ],
   "source": [
    "print(endpoint.gca_resource.deployed_models[0])"
   ]
  },
  {
   "cell_type": "markdown",
   "id": "7d73deb8-8987-4a18-beb3-c92c1bbbe956",
   "metadata": {},
   "source": [
    "### create sample test instance"
   ]
  },
  {
   "cell_type": "code",
   "execution_count": 149,
   "id": "0d4ce601-e960-43a7-ace8-3fd2fa93313a",
   "metadata": {},
   "outputs": [],
   "source": [
    "TEST_INSTANCE = {\n",
    "    'collaborative': 'false',\n",
    "    'album_name_pl': [\n",
    "        \"There's Really A Wolf\", 'Late Nights: The Album','American Teen', 'Crazy In Love', 'Pony'\n",
    "    ], \n",
    "    'artist_genres_pl': [\n",
    "        \"'hawaiian hip hop', 'rap'\",\n",
    "       \"'chicago rap', 'dance pop', 'pop', 'pop rap', 'r&b', 'southern hip hop', 'trap', 'urban contemporary'\",\n",
    "       \"'pop', 'pop r&b'\", \"'dance pop', 'pop', 'r&b'\",\n",
    "       \"'chill r&b', 'pop', 'pop r&b', 'r&b', 'urban contemporary'\"\n",
    "    ], \n",
    "    'artist_name_pl': [\n",
    "        'Russ', 'Jeremih', 'Khalid', 'Beyonc\\xc3\\xa9','William Singe'\n",
    "    ], \n",
    "    'artist_pop_can': 82.0, \n",
    "    'description_pl': '', \n",
    "    'duration_ms_songs_pl': [\n",
    "        237506.0, 217200.0, 219080.0, 226400.0, 121739.0\n",
    "    ], \n",
    "    'n_songs_pl': 8.0, \n",
    "    'name': 'Lit Tunes ', \n",
    "    'num_albums_pl': 8.0, \n",
    "    'num_artists_pl': 8.0, \n",
    "    'track_name_pl': [\n",
    "        'Losin Control', 'Paradise', 'Location','Crazy In Love - Remix', 'Pony'\n",
    "    ], \n",
    "    'track_pop_pl': [\n",
    "        79.0, 58.0, 83.0, 71.0, 57.0\n",
    "    ],\n",
    "    'duration_ms_seed_pl': 51023.1,\n",
    "    'pid': 1,\n",
    "    'track_uri_pl': [\n",
    "        'spotify:track:4cxMGhkinTocPSVVKWIw0d',\n",
    "        'spotify:track:1wNEBPo3nsbGCZRryI832I',\n",
    "        'spotify:track:152lZdxL1OR0ZMW6KquMif',\n",
    "        'spotify:track:2f4IuijXLxYOeBncS60GUD',\n",
    "        'spotify:track:4Lj8paMFwyKTGfILLELVxt'\n",
    "    ]\n",
    "}"
   ]
  },
  {
   "cell_type": "markdown",
   "id": "f4290522-d95f-4043-b18d-52d3266d3ee4",
   "metadata": {},
   "source": [
    "### make prediction request"
   ]
  },
  {
   "cell_type": "code",
   "execution_count": 150,
   "id": "7561c1c0-2be9-4ef1-b460-a3067eec6cb9",
   "metadata": {},
   "outputs": [],
   "source": [
    "# endpoint.predict(instances=[[TEST_INSTANCE, TEST_INSTANCE]])"
   ]
  },
  {
   "cell_type": "code",
   "execution_count": 151,
   "id": "dd721e42-3d13-4046-99f9-966cb50b28db",
   "metadata": {},
   "outputs": [
    {
     "name": "stdout",
     "output_type": "stream",
     "text": [
      "query conversion: 0.1045 seconds\n",
      "Vector Dimensions: 128\n",
      "\n",
      "embeddings: [[0.0, 0.3523032665252686, 0.0, 0.0, 0.008577216416597366, 0.0, 0.08329428732395172, 0.02887200936675072, 0.0007585510611534119, 0.0, 0.0, 0.001477033831179142, 0.0, 0.06219078227877617, 0.0, 0.0, 0.0, 0.09305078536272049, 0.1470593810081482, 0.1398964375257492, 0.001969851553440094, 0.05529309809207916, 0.03459690138697624, 0.0, 0.05020562559366226, 0.1369166076183319, 0.2387715429067612, 0.02589188329875469, 0.1098095700144768, 0.02495669946074486, 0.0, 0.1223256438970566, 0.0, 0.155764251947403, 0.0, 0.1598586440086365, 0.0, 0.07261146605014801, 0.0, 0.0, 0.0, 0.2138606607913971, 0.1101328507065773, 0.0, 0.06424976885318756, 0.08508362621068954, 0.1797376871109009, 0.04638246819376945, 0.0, 0.00943107157945633, 0.01935089193284512, 0.0, 0.0, 0.0, 0.0, 0.006165824830532074, 0.04977959021925926, 0.08918123692274094, 0.0, 0.0, 0.0, 0.0, 0.06835342943668365, 0.0237956065684557, 0.0, 0.0, 0.088253915309906, 0.0, 0.0, 0.0216171070933342, 0.0, 0.003588305786252022, 0.0, 0.08566267043352127, 0.0, 0.0, 0.0, 0.0, 0.1341109275817871, 0.0, 0.0, 0.0244041346013546, 0.03277845680713654, 0.01495670247823, 0.01087507233023643, 0.01836823858320713, 0.009802672080695629, 0.0, 0.085092693567276, 0.01925902627408504, 0.0, 0.0, 0.09774760156869888, 0.008138175122439861, 0.0, 0.0, 0.0, 0.02645742334425449, 0.0, 0.0, 0.0, 0.0, 0.01045961864292622, 0.0, 0.0, 0.0, 0.06957297772169113, 0.0, 0.0, 0.08779515326023102, 0.2469500154256821, 0.02785750664770603, 0.0, 1.006154343485832e-05, 0.03856810182332993, 0.0, 0.0, 0.2339744567871094, 0.1520689576864243, 0.0003495896235108376, 0.0, 0.1985656172037125, 0.0, 0.0, 0.01784737035632133, 0.0, 0.1316267549991608, 0.004580289125442505]]\n"
     ]
    }
   ],
   "source": [
    "start = time.process_time()\n",
    "\n",
    "playlist_emb = endpoint.predict(instances=[TEST_INSTANCE])\n",
    "\n",
    "print(f\"query conversion: {round((time.process_time() - start),4)} seconds\")\n",
    "print(f\"Vector Dimensions: {len(playlist_emb.predictions[0])}\\n\")\n",
    "\n",
    "print(f\"embeddings: {playlist_emb.predictions}\")"
   ]
  },
  {
   "cell_type": "markdown",
   "id": "77980d4f-ec22-47db-9af9-05d6fb97dad0",
   "metadata": {},
   "source": [
    "### prediction latency"
   ]
  },
  {
   "cell_type": "code",
   "execution_count": 152,
   "id": "7a079e19-fcb2-4653-97a9-acf1d307e92c",
   "metadata": {},
   "outputs": [
    {
     "name": "stdout",
     "output_type": "stream",
     "text": [
      "584 ms ± 21.6 ms per loop (mean ± std. dev. of 7 runs, 1 loop each)\n"
     ]
    }
   ],
   "source": [
    "%%timeit\n",
    "endpoint.predict(instances=[[TEST_INSTANCE, TEST_INSTANCE]])"
   ]
  },
  {
   "cell_type": "code",
   "execution_count": 153,
   "id": "2c908c7c-545f-4145-9029-a9549ee288e0",
   "metadata": {},
   "outputs": [
    {
     "name": "stdout",
     "output_type": "stream",
     "text": [
      "550 ms ± 16.8 ms per loop (mean ± std. dev. of 7 runs, 1 loop each)\n"
     ]
    }
   ],
   "source": [
    "%%timeit\n",
    "endpoint.predict(instances=[[TEST_INSTANCE]])"
   ]
  },
  {
   "cell_type": "code",
   "execution_count": null,
   "id": "5da54182-ca61-484b-b456-0f3058394f0d",
   "metadata": {},
   "outputs": [],
   "source": [
    "# endpoint.predict(instances=[[TEST_INSTANCE]])"
   ]
  },
  {
   "cell_type": "code",
   "execution_count": 161,
   "id": "2896aa54-7050-4a7e-974c-4716fe77d84d",
   "metadata": {},
   "outputs": [],
   "source": [
    "# playlist_emb.predictions"
   ]
  },
  {
   "cell_type": "markdown",
   "id": "d4abb563-76bd-42ee-a7a8-64d8f7a2a8f0",
   "metadata": {},
   "source": [
    "## write test instance to GCS"
   ]
  },
  {
   "cell_type": "code",
   "execution_count": 156,
   "id": "2bbaa69c-e7fd-4dac-994f-d6efb7da145e",
   "metadata": {},
   "outputs": [],
   "source": [
    "import pickle as pkl\n",
    "\n",
    "LOCAL_INSTANCE_FILE = 'merlin_last5_test_instance.pkl'\n",
    "\n",
    "filehandler = open(LOCAL_INSTANCE_FILE, 'wb')\n",
    "pkl.dump(TEST_INSTANCE, filehandler)\n",
    "filehandler.close()"
   ]
  },
  {
   "cell_type": "code",
   "execution_count": 160,
   "id": "690e14d1-4c37-40d4-ac8f-f653dc01d455",
   "metadata": {},
   "outputs": [],
   "source": [
    "# !gsutil cp $LOCAL_INSTANCE_FILE gs://BUCKET/PATH"
   ]
  },
  {
   "cell_type": "code",
   "execution_count": null,
   "id": "f7df2f8c-9ce9-49ca-abbc-b27ae6b5490a",
   "metadata": {},
   "outputs": [],
   "source": []
  }
 ],
 "metadata": {
  "environment": {
   "kernel": "python3",
   "name": "tf2-gpu.2-9.m100",
   "type": "gcloud",
   "uri": "gcr.io/deeplearning-platform-release/tf2-gpu.2-9:m100"
  },
  "kernelspec": {
   "display_name": "Python 3",
   "language": "python",
   "name": "python3"
  },
  "language_info": {
   "codemirror_mode": {
    "name": "ipython",
    "version": 3
   },
   "file_extension": ".py",
   "mimetype": "text/x-python",
   "name": "python",
   "nbconvert_exporter": "python",
   "pygments_lexer": "ipython3",
   "version": "3.7.12"
  }
 },
 "nbformat": 4,
 "nbformat_minor": 5
}
