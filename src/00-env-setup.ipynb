{
 "cells": [
  {
   "cell_type": "markdown",
   "id": "08ca040b-fd03-4136-99f5-888c88726d0f",
   "metadata": {},
   "source": [
    "## Setup config file"
   ]
  },
  {
   "cell_type": "code",
   "execution_count": null,
   "id": "f489c8cd-1c11-481d-9d1d-5dff7f045c8c",
   "metadata": {},
   "outputs": [],
   "source": [
    "import random\n",
    "import string\n",
    "\n",
    "# Generate unique ID to help w/ unique naming of certain pieces\n",
    "ID = \"\".join(random.choices(string.ascii_lowercase + string.digits, k=5))\n",
    "\n",
    "GCP_PROJECTS = !gcloud config get-value project\n",
    "PROJECT_ID = GCP_PROJECTS[0]\n",
    "BUCKET_NAME = f\"{PROJECT_ID}-merlintowers\"\n",
    "REGION = \"us-central1\""
   ]
  },
  {
   "cell_type": "markdown",
   "id": "1c681b70-e6ff-49ea-878b-846003bc06d3",
   "metadata": {},
   "source": [
    "### Create a Google Cloud Storage bucket and save the config data."
   ]
  },
  {
   "cell_type": "code",
   "execution_count": null,
   "id": "69aa1cd6-beea-4233-bafd-8110f8774331",
   "metadata": {},
   "outputs": [],
   "source": [
    "config = f\"\"\"\n",
    "BUCKET_NAME          = \\\"{BUCKET_NAME}\\\"\n",
    "PROJECT              = \\\"{PROJECT_ID}\\\"\n",
    "REGION               = \\\"{REGION}\\\"\n",
    "ID                   = \\\"{ID}\\\"\n",
    "ME_INDEX_ID          = \\\"merlin_index_{ID}\\\"\n",
    "MODEL_NAME           = \\\"merlin_retrieval\\\"\n",
    "ENDPOINT_NAME        = \\\"merlin_retrieval_endpoint\\\"\n",
    "\"\"\"\n",
    "\n",
    "!gsutil mb -l {REGION} gs://{BUCKET_NAME}\n",
    "\n",
    "!echo '{config}' | gsutil cp - gs://{BUCKET_NAME}/config/notebook_env.py"
   ]
  }
 ],
 "metadata": {
  "environment": {
   "kernel": "python3",
   "name": "tf2-gpu.2-9.m100",
   "type": "gcloud",
   "uri": "gcr.io/deeplearning-platform-release/tf2-gpu.2-9:m100"
  },
  "kernelspec": {
   "display_name": "Python 3",
   "language": "python",
   "name": "python3"
  },
  "language_info": {
   "codemirror_mode": {
    "name": "ipython",
    "version": 3
   },
   "file_extension": ".py",
   "mimetype": "text/x-python",
   "name": "python",
   "nbconvert_exporter": "python",
   "pygments_lexer": "ipython3",
   "version": "3.7.12"
  }
 },
 "nbformat": 4,
 "nbformat_minor": 5
}
